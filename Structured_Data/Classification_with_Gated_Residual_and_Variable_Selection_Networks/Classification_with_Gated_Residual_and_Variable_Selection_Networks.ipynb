{
 "cells": [
  {
   "cell_type": "markdown",
   "id": "b9f9337e",
   "metadata": {},
   "source": [
    "# Classification with Gated Residual and Variable Selection Networks"
   ]
  },
  {
   "cell_type": "markdown",
   "id": "ea9c1d83",
   "metadata": {},
   "source": [
    "## Introduction"
   ]
  },
  {
   "cell_type": "markdown",
   "id": "fe965bd8",
   "metadata": {},
   "source": [
    "This example demonstrates the use of `Gated Residual Networks (GRN)` and `Variable Selection Networks (VSN)`, proposed by Bryan Lim et al. in `Temporal Fusion Transformers (TFT) for Interpretable Multi-horizon Time Series Forecasting`, for structured data classification. GRNs give the flexibility to the model to apply non-linear processing only where needed. VSNs allow the model to softly remove any unnecessary noisy inputs which could negatively impact performance. Together, those techniques help improving the learning capacity of deep neural network models."
   ]
  },
  {
   "cell_type": "markdown",
   "id": "d0f39c1b",
   "metadata": {},
   "source": [
    "### Temporal Fusion Transformers (International Journal of Forecasting 2021)"
   ]
  },
  {
   "cell_type": "markdown",
   "id": "2eea9fb7",
   "metadata": {},
   "source": [
    "<img src='./images/TFT.png' width='900'> "
   ]
  },
  {
   "cell_type": "markdown",
   "id": "0e5d2d59",
   "metadata": {},
   "source": [
    "## The dataset"
   ]
  },
  {
   "cell_type": "markdown",
   "id": "346908ab",
   "metadata": {
    "ExecuteTime": {
     "end_time": "2022-01-24T08:18:00.339581Z",
     "start_time": "2022-01-24T08:18:00.329323Z"
    }
   },
   "source": [
    "- Dataset : United States Census Income Dataset\n",
    "- Info\n",
    "    - Provided by the UC Irvine Machine Learning Repository\n",
    "    - Binary classification to predict whether a person is likely to be making over USD 50K a year\n",
    "    - ~300K instances with 41 input features(7 numerical features, 34 categorical features)"
   ]
  },
  {
   "cell_type": "markdown",
   "id": "104b803d",
   "metadata": {},
   "source": [
    "## Setup"
   ]
  },
  {
   "cell_type": "code",
   "execution_count": 1,
   "id": "07d9652b",
   "metadata": {
    "ExecuteTime": {
     "end_time": "2022-01-24T07:19:09.416429Z",
     "start_time": "2022-01-24T07:19:08.273306Z"
    }
   },
   "outputs": [],
   "source": [
    "import numpy as np\n",
    "import pandas as pd\n",
    "import random\n",
    "import os\n",
    "import sys\n",
    "import time\n",
    "from einops import rearrange\n",
    "from collections import Counter\n",
    "import matplotlib.pyplot as plt\n",
    "\n",
    "import torch\n",
    "import torch.nn as nn\n",
    "import torch.nn.functional as F\n",
    "import torch.optim as optim\n",
    "from torch.utils.data import Dataset, DataLoader\n",
    "from torchinfo import summary"
   ]
  },
  {
   "cell_type": "code",
   "execution_count": 2,
   "id": "9b148723",
   "metadata": {
    "ExecuteTime": {
     "end_time": "2022-01-24T07:19:09.446136Z",
     "start_time": "2022-01-24T07:19:09.418617Z"
    }
   },
   "outputs": [],
   "source": [
    "device = torch.device(\"cuda\" if torch.cuda.is_available() else \"cpu\")"
   ]
  },
  {
   "cell_type": "code",
   "execution_count": 3,
   "id": "92fe74ef",
   "metadata": {
    "ExecuteTime": {
     "end_time": "2022-01-24T07:19:09.522619Z",
     "start_time": "2022-01-24T07:19:09.449947Z"
    }
   },
   "outputs": [],
   "source": [
    "def set_seed(random_seed):\n",
    "    torch.manual_seed(random_seed)\n",
    "    torch.cuda.manual_seed(random_seed)\n",
    "    torch.cuda.manual_seed_all(random_seed)  # if use multi-GPU\n",
    "    torch.backends.cudnn.deterministic = True\n",
    "    torch.backends.cudnn.benchmark = True\n",
    "    np.random.seed(random_seed)\n",
    "    random.seed(random_seed)\n",
    "\n",
    "set_seed(72)"
   ]
  },
  {
   "cell_type": "markdown",
   "id": "20d9dd10",
   "metadata": {},
   "source": [
    "## Prepare the data"
   ]
  },
  {
   "cell_type": "markdown",
   "id": "fb6a9fa3",
   "metadata": {},
   "source": [
    "First we load the data from the UCI Machine Learning Repository into a Pandas DataFrame."
   ]
  },
  {
   "cell_type": "code",
   "execution_count": 4,
   "id": "753ec91f",
   "metadata": {
    "ExecuteTime": {
     "end_time": "2022-01-24T07:19:11.346037Z",
     "start_time": "2022-01-24T07:19:09.526349Z"
    }
   },
   "outputs": [
    {
     "name": "stdout",
     "output_type": "stream",
     "text": [
      "The folder already exists.\n",
      "train_data.csv already exists.\n",
      "valid_data.csv already exists.\n",
      "train_data load complete!\n",
      "valid_data load complete!\n",
      "test_data.csv already exists.\n",
      "test_data load complete!\n",
      "Train data shape: (169671, 42)\n",
      "Valid data shape: (29852, 42)\n",
      "Test data shape: (99762, 42)\n"
     ]
    }
   ],
   "source": [
    "# Column names.\n",
    "CSV_HEADER = [\n",
    "    \"age\",\n",
    "    \"class_of_worker\",\n",
    "    \"detailed_industry_recode\",\n",
    "    \"detailed_occupation_recode\",\n",
    "    \"education\",\n",
    "    \"wage_per_hour\",\n",
    "    \"enroll_in_edu_inst_last_wk\",\n",
    "    \"marital_stat\",\n",
    "    \"major_industry_code\",\n",
    "    \"major_occupation_code\",\n",
    "    \"race\",\n",
    "    \"hispanic_origin\",\n",
    "    \"sex\",\n",
    "    \"member_of_a_labor_union\",\n",
    "    \"reason_for_unemployment\",\n",
    "    \"full_or_part_time_employment_stat\",\n",
    "    \"capital_gains\",\n",
    "    \"capital_losses\",\n",
    "    \"dividends_from_stocks\",\n",
    "    \"tax_filer_stat\",\n",
    "    \"region_of_previous_residence\",\n",
    "    \"state_of_previous_residence\",\n",
    "    \"detailed_household_and_family_stat\",\n",
    "    \"detailed_household_summary_in_household\",\n",
    "    \"instance_weight\",\n",
    "    \"migration_code-change_in_msa\",\n",
    "    \"migration_code-change_in_reg\",\n",
    "    \"migration_code-move_within_reg\",\n",
    "    \"live_in_this_house_1_year_ago\",\n",
    "    \"migration_prev_res_in_sunbelt\",\n",
    "    \"num_persons_worked_for_employer\",\n",
    "    \"family_members_under_18\",\n",
    "    \"country_of_birth_father\",\n",
    "    \"country_of_birth_mother\",\n",
    "    \"country_of_birth_self\",\n",
    "    \"citizenship\",\n",
    "    \"own_business_or_self_employed\",\n",
    "    \"fill_inc_questionnaire_for_veteran's_admin\",\n",
    "    \"veterans_benefits\",\n",
    "    \"weeks_worked_in_year\",\n",
    "    \"year\",\n",
    "    \"income_level\",\n",
    "]\n",
    "\n",
    "annotation_folder = os.path.abspath(\".\") + \"/dataset/USCI/census-income\"\n",
    "\n",
    "train_data_file = os.path.join(annotation_folder, \"train_data.csv\")\n",
    "valid_data_file = os.path.join(annotation_folder, \"valid_data.csv\")\n",
    "test_data_file = os.path.join(annotation_folder, \"test_data.csv\")\n",
    "\n",
    "if not os.path.exists(annotation_folder):\n",
    "    os.makedirs(annotation_folder)\n",
    "    print('Folder creation complete!')\n",
    "else:\n",
    "    print('The folder already exists.')\n",
    "\n",
    "if not os.path.isfile(train_data_file) or not os.path.isfile(valid_data_file):\n",
    "    data_url = (\n",
    "        \"https://archive.ics.uci.edu/ml/machine-learning-databases/census-income-mld/census-income.data.gz\"\n",
    "    )\n",
    "    data = pd.read_csv(data_url, header=None, names=CSV_HEADER)\n",
    "    data[\"income_level\"] = data[\"income_level\"].apply(\n",
    "        lambda x: 0 if x == \" - 50000.\" else 1\n",
    "    )\n",
    "    random_selection = np.random.rand(len(data.index)) <= 0.85\n",
    "    train_data = data[random_selection]\n",
    "    valid_data = data[~random_selection]\n",
    "    train_data.to_csv(train_data_file, index=False)\n",
    "    valid_data.to_csv(valid_data_file, index=False)\n",
    "    print('train_data.csv creation complete!')\n",
    "    print('valid_data.csv creation complete!')\n",
    "else:\n",
    "    train_data = pd.read_csv(train_data_file)\n",
    "    valid_data = pd.read_csv(valid_data_file)\n",
    "    print('train_data.csv already exists.')\n",
    "    print('valid_data.csv already exists.')\n",
    "print('train_data load complete!')\n",
    "print('valid_data load complete!')\n",
    "\n",
    "if not os.path.isfile(test_data_file):\n",
    "    test_data_url = (\n",
    "        \"https://archive.ics.uci.edu/ml/machine-learning-databases/census-income-mld/census-income.test.gz\"\n",
    "    )\n",
    "    test_data = pd.read_csv(test_data_url, header=None, names=CSV_HEADER)\n",
    "    test_data[\"income_level\"] = test_data[\"income_level\"].apply(\n",
    "        lambda x: 0 if x == \" - 50000.\" else 1\n",
    "    )\n",
    "    test_data.to_csv(test_data_file, index=False)\n",
    "    print('test_data.csv creation complete!')\n",
    "else:\n",
    "    test_data = pd.read_csv(test_data_file)\n",
    "    print('test_data.csv already exists.')\n",
    "print('test_data load complete!')\n",
    "\n",
    "print(f\"Train data shape: {train_data.shape}\")\n",
    "print(f\"Valid data shape: {valid_data.shape}\")\n",
    "print(f\"Test data shape: {test_data.shape}\")"
   ]
  },
  {
   "cell_type": "code",
   "execution_count": 5,
   "id": "3f4c45d6",
   "metadata": {
    "ExecuteTime": {
     "end_time": "2022-01-24T07:19:11.387176Z",
     "start_time": "2022-01-24T07:19:11.349554Z"
    }
   },
   "outputs": [
    {
     "data": {
      "text/html": [
       "<div>\n",
       "<style scoped>\n",
       "    .dataframe tbody tr th:only-of-type {\n",
       "        vertical-align: middle;\n",
       "    }\n",
       "\n",
       "    .dataframe tbody tr th {\n",
       "        vertical-align: top;\n",
       "    }\n",
       "\n",
       "    .dataframe thead th {\n",
       "        text-align: right;\n",
       "    }\n",
       "</style>\n",
       "<table border=\"1\" class=\"dataframe\">\n",
       "  <thead>\n",
       "    <tr style=\"text-align: right;\">\n",
       "      <th></th>\n",
       "      <th>age</th>\n",
       "      <th>class_of_worker</th>\n",
       "      <th>detailed_industry_recode</th>\n",
       "      <th>detailed_occupation_recode</th>\n",
       "      <th>education</th>\n",
       "      <th>wage_per_hour</th>\n",
       "      <th>enroll_in_edu_inst_last_wk</th>\n",
       "      <th>marital_stat</th>\n",
       "      <th>major_industry_code</th>\n",
       "      <th>major_occupation_code</th>\n",
       "      <th>...</th>\n",
       "      <th>country_of_birth_father</th>\n",
       "      <th>country_of_birth_mother</th>\n",
       "      <th>country_of_birth_self</th>\n",
       "      <th>citizenship</th>\n",
       "      <th>own_business_or_self_employed</th>\n",
       "      <th>fill_inc_questionnaire_for_veteran's_admin</th>\n",
       "      <th>veterans_benefits</th>\n",
       "      <th>weeks_worked_in_year</th>\n",
       "      <th>year</th>\n",
       "      <th>income_level</th>\n",
       "    </tr>\n",
       "  </thead>\n",
       "  <tbody>\n",
       "    <tr>\n",
       "      <th>0</th>\n",
       "      <td>73</td>\n",
       "      <td>Not in universe</td>\n",
       "      <td>0</td>\n",
       "      <td>0</td>\n",
       "      <td>High school graduate</td>\n",
       "      <td>0</td>\n",
       "      <td>Not in universe</td>\n",
       "      <td>Widowed</td>\n",
       "      <td>Not in universe or children</td>\n",
       "      <td>Not in universe</td>\n",
       "      <td>...</td>\n",
       "      <td>United-States</td>\n",
       "      <td>United-States</td>\n",
       "      <td>United-States</td>\n",
       "      <td>Native- Born in the United States</td>\n",
       "      <td>0</td>\n",
       "      <td>Not in universe</td>\n",
       "      <td>2</td>\n",
       "      <td>0</td>\n",
       "      <td>95</td>\n",
       "      <td>0</td>\n",
       "    </tr>\n",
       "    <tr>\n",
       "      <th>1</th>\n",
       "      <td>58</td>\n",
       "      <td>Self-employed-not incorporated</td>\n",
       "      <td>4</td>\n",
       "      <td>34</td>\n",
       "      <td>Some college but no degree</td>\n",
       "      <td>0</td>\n",
       "      <td>Not in universe</td>\n",
       "      <td>Divorced</td>\n",
       "      <td>Construction</td>\n",
       "      <td>Precision production craft &amp; repair</td>\n",
       "      <td>...</td>\n",
       "      <td>United-States</td>\n",
       "      <td>United-States</td>\n",
       "      <td>United-States</td>\n",
       "      <td>Native- Born in the United States</td>\n",
       "      <td>0</td>\n",
       "      <td>Not in universe</td>\n",
       "      <td>2</td>\n",
       "      <td>52</td>\n",
       "      <td>94</td>\n",
       "      <td>0</td>\n",
       "    </tr>\n",
       "    <tr>\n",
       "      <th>2</th>\n",
       "      <td>18</td>\n",
       "      <td>Not in universe</td>\n",
       "      <td>0</td>\n",
       "      <td>0</td>\n",
       "      <td>10th grade</td>\n",
       "      <td>0</td>\n",
       "      <td>High school</td>\n",
       "      <td>Never married</td>\n",
       "      <td>Not in universe or children</td>\n",
       "      <td>Not in universe</td>\n",
       "      <td>...</td>\n",
       "      <td>Vietnam</td>\n",
       "      <td>Vietnam</td>\n",
       "      <td>Vietnam</td>\n",
       "      <td>Foreign born- Not a citizen of U S</td>\n",
       "      <td>0</td>\n",
       "      <td>Not in universe</td>\n",
       "      <td>2</td>\n",
       "      <td>0</td>\n",
       "      <td>95</td>\n",
       "      <td>0</td>\n",
       "    </tr>\n",
       "    <tr>\n",
       "      <th>3</th>\n",
       "      <td>9</td>\n",
       "      <td>Not in universe</td>\n",
       "      <td>0</td>\n",
       "      <td>0</td>\n",
       "      <td>Children</td>\n",
       "      <td>0</td>\n",
       "      <td>Not in universe</td>\n",
       "      <td>Never married</td>\n",
       "      <td>Not in universe or children</td>\n",
       "      <td>Not in universe</td>\n",
       "      <td>...</td>\n",
       "      <td>United-States</td>\n",
       "      <td>United-States</td>\n",
       "      <td>United-States</td>\n",
       "      <td>Native- Born in the United States</td>\n",
       "      <td>0</td>\n",
       "      <td>Not in universe</td>\n",
       "      <td>0</td>\n",
       "      <td>0</td>\n",
       "      <td>94</td>\n",
       "      <td>0</td>\n",
       "    </tr>\n",
       "    <tr>\n",
       "      <th>4</th>\n",
       "      <td>10</td>\n",
       "      <td>Not in universe</td>\n",
       "      <td>0</td>\n",
       "      <td>0</td>\n",
       "      <td>Children</td>\n",
       "      <td>0</td>\n",
       "      <td>Not in universe</td>\n",
       "      <td>Never married</td>\n",
       "      <td>Not in universe or children</td>\n",
       "      <td>Not in universe</td>\n",
       "      <td>...</td>\n",
       "      <td>United-States</td>\n",
       "      <td>United-States</td>\n",
       "      <td>United-States</td>\n",
       "      <td>Native- Born in the United States</td>\n",
       "      <td>0</td>\n",
       "      <td>Not in universe</td>\n",
       "      <td>0</td>\n",
       "      <td>0</td>\n",
       "      <td>94</td>\n",
       "      <td>0</td>\n",
       "    </tr>\n",
       "  </tbody>\n",
       "</table>\n",
       "<p>5 rows × 42 columns</p>\n",
       "</div>"
      ],
      "text/plain": [
       "   age                  class_of_worker  detailed_industry_recode  \\\n",
       "0   73                  Not in universe                         0   \n",
       "1   58   Self-employed-not incorporated                         4   \n",
       "2   18                  Not in universe                         0   \n",
       "3    9                  Not in universe                         0   \n",
       "4   10                  Not in universe                         0   \n",
       "\n",
       "   detailed_occupation_recode                    education  wage_per_hour  \\\n",
       "0                           0         High school graduate              0   \n",
       "1                          34   Some college but no degree              0   \n",
       "2                           0                   10th grade              0   \n",
       "3                           0                     Children              0   \n",
       "4                           0                     Children              0   \n",
       "\n",
       "  enroll_in_edu_inst_last_wk    marital_stat           major_industry_code  \\\n",
       "0            Not in universe         Widowed   Not in universe or children   \n",
       "1            Not in universe        Divorced                  Construction   \n",
       "2                High school   Never married   Not in universe or children   \n",
       "3            Not in universe   Never married   Not in universe or children   \n",
       "4            Not in universe   Never married   Not in universe or children   \n",
       "\n",
       "                  major_occupation_code  ... country_of_birth_father  \\\n",
       "0                       Not in universe  ...           United-States   \n",
       "1   Precision production craft & repair  ...           United-States   \n",
       "2                       Not in universe  ...                 Vietnam   \n",
       "3                       Not in universe  ...           United-States   \n",
       "4                       Not in universe  ...           United-States   \n",
       "\n",
       "  country_of_birth_mother country_of_birth_self  \\\n",
       "0           United-States         United-States   \n",
       "1           United-States         United-States   \n",
       "2                 Vietnam               Vietnam   \n",
       "3           United-States         United-States   \n",
       "4           United-States         United-States   \n",
       "\n",
       "                            citizenship own_business_or_self_employed  \\\n",
       "0     Native- Born in the United States                             0   \n",
       "1     Native- Born in the United States                             0   \n",
       "2   Foreign born- Not a citizen of U S                              0   \n",
       "3     Native- Born in the United States                             0   \n",
       "4     Native- Born in the United States                             0   \n",
       "\n",
       "  fill_inc_questionnaire_for_veteran's_admin  veterans_benefits  \\\n",
       "0                            Not in universe                  2   \n",
       "1                            Not in universe                  2   \n",
       "2                            Not in universe                  2   \n",
       "3                            Not in universe                  0   \n",
       "4                            Not in universe                  0   \n",
       "\n",
       "   weeks_worked_in_year  year income_level  \n",
       "0                     0    95            0  \n",
       "1                    52    94            0  \n",
       "2                     0    95            0  \n",
       "3                     0    94            0  \n",
       "4                     0    94            0  \n",
       "\n",
       "[5 rows x 42 columns]"
      ]
     },
     "execution_count": 5,
     "metadata": {},
     "output_type": "execute_result"
    }
   ],
   "source": [
    "train_data.head()"
   ]
  },
  {
   "cell_type": "markdown",
   "id": "5c90a28f",
   "metadata": {},
   "source": [
    "## Define dataset metadata"
   ]
  },
  {
   "cell_type": "markdown",
   "id": "98737046",
   "metadata": {},
   "source": [
    "Here, we define the metadata of the dataset that will be useful for reading and parsing the data into input features, and encoding the input features with respect to their types."
   ]
  },
  {
   "cell_type": "code",
   "execution_count": 6,
   "id": "cc1a8130",
   "metadata": {
    "ExecuteTime": {
     "end_time": "2022-01-24T07:19:11.760858Z",
     "start_time": "2022-01-24T07:19:11.389978Z"
    }
   },
   "outputs": [],
   "source": [
    "# Target feature name.\n",
    "TARGET_FEATURE_NAME = \"income_level\"\n",
    "# Weight column name.\n",
    "WEIGHT_COLUMN_NAME = \"instance_weight\"\n",
    "# Numeric feature names.\n",
    "NUMERIC_FEATURE_NAMES = [\n",
    "    \"age\",\n",
    "    \"wage_per_hour\",\n",
    "    \"capital_gains\",\n",
    "    \"capital_losses\",\n",
    "    \"dividends_from_stocks\",\n",
    "    \"num_persons_worked_for_employer\",\n",
    "    \"weeks_worked_in_year\",\n",
    "]\n",
    "# Categorical features and their vocabulary lists.\n",
    "# Note that we add 'v=' as a prefix to all categorical feature values to make\n",
    "# sure that they are treated as strings.\n",
    "CATEGORICAL_FEATURES_WITH_VOCABULARY = {\n",
    "    feature_name: sorted([value for value in list(train_data[feature_name].unique())])\n",
    "    for feature_name in CSV_HEADER\n",
    "    if feature_name\n",
    "    not in list(NUMERIC_FEATURE_NAMES + [WEIGHT_COLUMN_NAME, TARGET_FEATURE_NAME])\n",
    "}\n",
    "# All features names.\n",
    "FEATURE_NAMES = NUMERIC_FEATURE_NAMES + list(\n",
    "    CATEGORICAL_FEATURES_WITH_VOCABULARY.keys()\n",
    ")\n",
    "# Feature default values.\n",
    "COLUMN_DEFAULTS = [\n",
    "    [0.0]\n",
    "    if feature_name in NUMERIC_FEATURE_NAMES + [TARGET_FEATURE_NAME, WEIGHT_COLUMN_NAME]\n",
    "    else [\"NA\"]\n",
    "    for feature_name in CSV_HEADER\n",
    "]"
   ]
  },
  {
   "cell_type": "code",
   "execution_count": 7,
   "id": "e83c32dd",
   "metadata": {
    "ExecuteTime": {
     "end_time": "2022-01-24T07:19:11.789567Z",
     "start_time": "2022-01-24T07:19:11.763788Z"
    }
   },
   "outputs": [
    {
     "data": {
      "text/plain": [
       "{'class_of_worker': [' Federal government',\n",
       "  ' Local government',\n",
       "  ' Never worked',\n",
       "  ' Not in universe',\n",
       "  ' Private',\n",
       "  ' Self-employed-incorporated',\n",
       "  ' Self-employed-not incorporated',\n",
       "  ' State government',\n",
       "  ' Without pay'],\n",
       " 'detailed_industry_recode': [0,\n",
       "  1,\n",
       "  2,\n",
       "  3,\n",
       "  4,\n",
       "  5,\n",
       "  6,\n",
       "  7,\n",
       "  8,\n",
       "  9,\n",
       "  10,\n",
       "  11,\n",
       "  12,\n",
       "  13,\n",
       "  14,\n",
       "  15,\n",
       "  16,\n",
       "  17,\n",
       "  18,\n",
       "  19,\n",
       "  20,\n",
       "  21,\n",
       "  22,\n",
       "  23,\n",
       "  24,\n",
       "  25,\n",
       "  26,\n",
       "  27,\n",
       "  28,\n",
       "  29,\n",
       "  30,\n",
       "  31,\n",
       "  32,\n",
       "  33,\n",
       "  34,\n",
       "  35,\n",
       "  36,\n",
       "  37,\n",
       "  38,\n",
       "  39,\n",
       "  40,\n",
       "  41,\n",
       "  42,\n",
       "  43,\n",
       "  44,\n",
       "  45,\n",
       "  46,\n",
       "  47,\n",
       "  48,\n",
       "  49,\n",
       "  50,\n",
       "  51],\n",
       " 'detailed_occupation_recode': [0,\n",
       "  1,\n",
       "  2,\n",
       "  3,\n",
       "  4,\n",
       "  5,\n",
       "  6,\n",
       "  7,\n",
       "  8,\n",
       "  9,\n",
       "  10,\n",
       "  11,\n",
       "  12,\n",
       "  13,\n",
       "  14,\n",
       "  15,\n",
       "  16,\n",
       "  17,\n",
       "  18,\n",
       "  19,\n",
       "  20,\n",
       "  21,\n",
       "  22,\n",
       "  23,\n",
       "  24,\n",
       "  25,\n",
       "  26,\n",
       "  27,\n",
       "  28,\n",
       "  29,\n",
       "  30,\n",
       "  31,\n",
       "  32,\n",
       "  33,\n",
       "  34,\n",
       "  35,\n",
       "  36,\n",
       "  37,\n",
       "  38,\n",
       "  39,\n",
       "  40,\n",
       "  41,\n",
       "  42,\n",
       "  43,\n",
       "  44,\n",
       "  45,\n",
       "  46],\n",
       " 'education': [' 10th grade',\n",
       "  ' 11th grade',\n",
       "  ' 12th grade no diploma',\n",
       "  ' 1st 2nd 3rd or 4th grade',\n",
       "  ' 5th or 6th grade',\n",
       "  ' 7th and 8th grade',\n",
       "  ' 9th grade',\n",
       "  ' Associates degree-academic program',\n",
       "  ' Associates degree-occup /vocational',\n",
       "  ' Bachelors degree(BA AB BS)',\n",
       "  ' Children',\n",
       "  ' Doctorate degree(PhD EdD)',\n",
       "  ' High school graduate',\n",
       "  ' Less than 1st grade',\n",
       "  ' Masters degree(MA MS MEng MEd MSW MBA)',\n",
       "  ' Prof school degree (MD DDS DVM LLB JD)',\n",
       "  ' Some college but no degree'],\n",
       " 'enroll_in_edu_inst_last_wk': [' College or university',\n",
       "  ' High school',\n",
       "  ' Not in universe'],\n",
       " 'marital_stat': [' Divorced',\n",
       "  ' Married-A F spouse present',\n",
       "  ' Married-civilian spouse present',\n",
       "  ' Married-spouse absent',\n",
       "  ' Never married',\n",
       "  ' Separated',\n",
       "  ' Widowed'],\n",
       " 'major_industry_code': [' Agriculture',\n",
       "  ' Armed Forces',\n",
       "  ' Business and repair services',\n",
       "  ' Communications',\n",
       "  ' Construction',\n",
       "  ' Education',\n",
       "  ' Entertainment',\n",
       "  ' Finance insurance and real estate',\n",
       "  ' Forestry and fisheries',\n",
       "  ' Hospital services',\n",
       "  ' Manufacturing-durable goods',\n",
       "  ' Manufacturing-nondurable goods',\n",
       "  ' Medical except hospital',\n",
       "  ' Mining',\n",
       "  ' Not in universe or children',\n",
       "  ' Other professional services',\n",
       "  ' Personal services except private HH',\n",
       "  ' Private household services',\n",
       "  ' Public administration',\n",
       "  ' Retail trade',\n",
       "  ' Social services',\n",
       "  ' Transportation',\n",
       "  ' Utilities and sanitary services',\n",
       "  ' Wholesale trade'],\n",
       " 'major_occupation_code': [' Adm support including clerical',\n",
       "  ' Armed Forces',\n",
       "  ' Executive admin and managerial',\n",
       "  ' Farming forestry and fishing',\n",
       "  ' Handlers equip cleaners etc ',\n",
       "  ' Machine operators assmblrs & inspctrs',\n",
       "  ' Not in universe',\n",
       "  ' Other service',\n",
       "  ' Precision production craft & repair',\n",
       "  ' Private household services',\n",
       "  ' Professional specialty',\n",
       "  ' Protective services',\n",
       "  ' Sales',\n",
       "  ' Technicians and related support',\n",
       "  ' Transportation and material moving'],\n",
       " 'race': [' Amer Indian Aleut or Eskimo',\n",
       "  ' Asian or Pacific Islander',\n",
       "  ' Black',\n",
       "  ' Other',\n",
       "  ' White'],\n",
       " 'hispanic_origin': [' All other',\n",
       "  ' Central or South American',\n",
       "  ' Chicano',\n",
       "  ' Cuban',\n",
       "  ' Do not know',\n",
       "  ' Mexican (Mexicano)',\n",
       "  ' Mexican-American',\n",
       "  ' NA',\n",
       "  ' Other Spanish',\n",
       "  ' Puerto Rican'],\n",
       " 'sex': [' Female', ' Male'],\n",
       " 'member_of_a_labor_union': [' No', ' Not in universe', ' Yes'],\n",
       " 'reason_for_unemployment': [' Job leaver',\n",
       "  ' Job loser - on layoff',\n",
       "  ' New entrant',\n",
       "  ' Not in universe',\n",
       "  ' Other job loser',\n",
       "  ' Re-entrant'],\n",
       " 'full_or_part_time_employment_stat': [' Children or Armed Forces',\n",
       "  ' Full-time schedules',\n",
       "  ' Not in labor force',\n",
       "  ' PT for econ reasons usually FT',\n",
       "  ' PT for econ reasons usually PT',\n",
       "  ' PT for non-econ reasons usually FT',\n",
       "  ' Unemployed full-time',\n",
       "  ' Unemployed part- time'],\n",
       " 'tax_filer_stat': [' Head of household',\n",
       "  ' Joint both 65+',\n",
       "  ' Joint both under 65',\n",
       "  ' Joint one under 65 & one 65+',\n",
       "  ' Nonfiler',\n",
       "  ' Single'],\n",
       " 'region_of_previous_residence': [' Abroad',\n",
       "  ' Midwest',\n",
       "  ' Northeast',\n",
       "  ' Not in universe',\n",
       "  ' South',\n",
       "  ' West'],\n",
       " 'state_of_previous_residence': [' ?',\n",
       "  ' Abroad',\n",
       "  ' Alabama',\n",
       "  ' Alaska',\n",
       "  ' Arizona',\n",
       "  ' Arkansas',\n",
       "  ' California',\n",
       "  ' Colorado',\n",
       "  ' Connecticut',\n",
       "  ' Delaware',\n",
       "  ' District of Columbia',\n",
       "  ' Florida',\n",
       "  ' Georgia',\n",
       "  ' Idaho',\n",
       "  ' Illinois',\n",
       "  ' Indiana',\n",
       "  ' Iowa',\n",
       "  ' Kansas',\n",
       "  ' Kentucky',\n",
       "  ' Louisiana',\n",
       "  ' Maine',\n",
       "  ' Maryland',\n",
       "  ' Massachusetts',\n",
       "  ' Michigan',\n",
       "  ' Minnesota',\n",
       "  ' Mississippi',\n",
       "  ' Missouri',\n",
       "  ' Montana',\n",
       "  ' Nebraska',\n",
       "  ' Nevada',\n",
       "  ' New Hampshire',\n",
       "  ' New Jersey',\n",
       "  ' New Mexico',\n",
       "  ' New York',\n",
       "  ' North Carolina',\n",
       "  ' North Dakota',\n",
       "  ' Not in universe',\n",
       "  ' Ohio',\n",
       "  ' Oklahoma',\n",
       "  ' Oregon',\n",
       "  ' Pennsylvania',\n",
       "  ' South Carolina',\n",
       "  ' South Dakota',\n",
       "  ' Tennessee',\n",
       "  ' Texas',\n",
       "  ' Utah',\n",
       "  ' Vermont',\n",
       "  ' Virginia',\n",
       "  ' West Virginia',\n",
       "  ' Wisconsin',\n",
       "  ' Wyoming'],\n",
       " 'detailed_household_and_family_stat': [' Child 18+ ever marr Not in a subfamily',\n",
       "  ' Child 18+ ever marr RP of subfamily',\n",
       "  ' Child 18+ never marr Not in a subfamily',\n",
       "  ' Child 18+ never marr RP of subfamily',\n",
       "  ' Child 18+ spouse of subfamily RP',\n",
       "  ' Child <18 ever marr RP of subfamily',\n",
       "  ' Child <18 ever marr not in subfamily',\n",
       "  ' Child <18 never marr RP of subfamily',\n",
       "  ' Child <18 never marr not in subfamily',\n",
       "  ' Child <18 spouse of subfamily RP',\n",
       "  ' Child under 18 of RP of unrel subfamily',\n",
       "  ' Grandchild 18+ ever marr RP of subfamily',\n",
       "  ' Grandchild 18+ ever marr not in subfamily',\n",
       "  ' Grandchild 18+ never marr RP of subfamily',\n",
       "  ' Grandchild 18+ never marr not in subfamily',\n",
       "  ' Grandchild 18+ spouse of subfamily RP',\n",
       "  ' Grandchild <18 ever marr not in subfamily',\n",
       "  ' Grandchild <18 never marr RP of subfamily',\n",
       "  ' Grandchild <18 never marr child of subfamily RP',\n",
       "  ' Grandchild <18 never marr not in subfamily',\n",
       "  ' Householder',\n",
       "  ' In group quarters',\n",
       "  ' Nonfamily householder',\n",
       "  ' Other Rel 18+ ever marr RP of subfamily',\n",
       "  ' Other Rel 18+ ever marr not in subfamily',\n",
       "  ' Other Rel 18+ never marr RP of subfamily',\n",
       "  ' Other Rel 18+ never marr not in subfamily',\n",
       "  ' Other Rel 18+ spouse of subfamily RP',\n",
       "  ' Other Rel <18 ever marr RP of subfamily',\n",
       "  ' Other Rel <18 ever marr not in subfamily',\n",
       "  ' Other Rel <18 never marr child of subfamily RP',\n",
       "  ' Other Rel <18 never marr not in subfamily',\n",
       "  ' Other Rel <18 never married RP of subfamily',\n",
       "  ' Other Rel <18 spouse of subfamily RP',\n",
       "  ' RP of unrelated subfamily',\n",
       "  ' Secondary individual',\n",
       "  ' Spouse of RP of unrelated subfamily',\n",
       "  ' Spouse of householder'],\n",
       " 'detailed_household_summary_in_household': [' Child 18 or older',\n",
       "  ' Child under 18 ever married',\n",
       "  ' Child under 18 never married',\n",
       "  ' Group Quarters- Secondary individual',\n",
       "  ' Householder',\n",
       "  ' Nonrelative of householder',\n",
       "  ' Other relative of householder',\n",
       "  ' Spouse of householder'],\n",
       " 'migration_code-change_in_msa': [' ?',\n",
       "  ' Abroad to MSA',\n",
       "  ' Abroad to nonMSA',\n",
       "  ' MSA to MSA',\n",
       "  ' MSA to nonMSA',\n",
       "  ' NonMSA to MSA',\n",
       "  ' NonMSA to nonMSA',\n",
       "  ' Nonmover',\n",
       "  ' Not identifiable',\n",
       "  ' Not in universe'],\n",
       " 'migration_code-change_in_reg': [' ?',\n",
       "  ' Abroad',\n",
       "  ' Different county same state',\n",
       "  ' Different division same region',\n",
       "  ' Different region',\n",
       "  ' Different state same division',\n",
       "  ' Nonmover',\n",
       "  ' Not in universe',\n",
       "  ' Same county'],\n",
       " 'migration_code-move_within_reg': [' ?',\n",
       "  ' Abroad',\n",
       "  ' Different county same state',\n",
       "  ' Different state in Midwest',\n",
       "  ' Different state in Northeast',\n",
       "  ' Different state in South',\n",
       "  ' Different state in West',\n",
       "  ' Nonmover',\n",
       "  ' Not in universe',\n",
       "  ' Same county'],\n",
       " 'live_in_this_house_1_year_ago': [' No',\n",
       "  ' Not in universe under 1 year old',\n",
       "  ' Yes'],\n",
       " 'migration_prev_res_in_sunbelt': [' ?', ' No', ' Not in universe', ' Yes'],\n",
       " 'family_members_under_18': [' Both parents present',\n",
       "  ' Father only present',\n",
       "  ' Mother only present',\n",
       "  ' Neither parent present',\n",
       "  ' Not in universe'],\n",
       " 'country_of_birth_father': [' ?',\n",
       "  ' Cambodia',\n",
       "  ' Canada',\n",
       "  ' China',\n",
       "  ' Columbia',\n",
       "  ' Cuba',\n",
       "  ' Dominican-Republic',\n",
       "  ' Ecuador',\n",
       "  ' El-Salvador',\n",
       "  ' England',\n",
       "  ' France',\n",
       "  ' Germany',\n",
       "  ' Greece',\n",
       "  ' Guatemala',\n",
       "  ' Haiti',\n",
       "  ' Holand-Netherlands',\n",
       "  ' Honduras',\n",
       "  ' Hong Kong',\n",
       "  ' Hungary',\n",
       "  ' India',\n",
       "  ' Iran',\n",
       "  ' Ireland',\n",
       "  ' Italy',\n",
       "  ' Jamaica',\n",
       "  ' Japan',\n",
       "  ' Laos',\n",
       "  ' Mexico',\n",
       "  ' Nicaragua',\n",
       "  ' Outlying-U S (Guam USVI etc)',\n",
       "  ' Panama',\n",
       "  ' Peru',\n",
       "  ' Philippines',\n",
       "  ' Poland',\n",
       "  ' Portugal',\n",
       "  ' Puerto-Rico',\n",
       "  ' Scotland',\n",
       "  ' South Korea',\n",
       "  ' Taiwan',\n",
       "  ' Thailand',\n",
       "  ' Trinadad&Tobago',\n",
       "  ' United-States',\n",
       "  ' Vietnam',\n",
       "  ' Yugoslavia'],\n",
       " 'country_of_birth_mother': [' ?',\n",
       "  ' Cambodia',\n",
       "  ' Canada',\n",
       "  ' China',\n",
       "  ' Columbia',\n",
       "  ' Cuba',\n",
       "  ' Dominican-Republic',\n",
       "  ' Ecuador',\n",
       "  ' El-Salvador',\n",
       "  ' England',\n",
       "  ' France',\n",
       "  ' Germany',\n",
       "  ' Greece',\n",
       "  ' Guatemala',\n",
       "  ' Haiti',\n",
       "  ' Holand-Netherlands',\n",
       "  ' Honduras',\n",
       "  ' Hong Kong',\n",
       "  ' Hungary',\n",
       "  ' India',\n",
       "  ' Iran',\n",
       "  ' Ireland',\n",
       "  ' Italy',\n",
       "  ' Jamaica',\n",
       "  ' Japan',\n",
       "  ' Laos',\n",
       "  ' Mexico',\n",
       "  ' Nicaragua',\n",
       "  ' Outlying-U S (Guam USVI etc)',\n",
       "  ' Panama',\n",
       "  ' Peru',\n",
       "  ' Philippines',\n",
       "  ' Poland',\n",
       "  ' Portugal',\n",
       "  ' Puerto-Rico',\n",
       "  ' Scotland',\n",
       "  ' South Korea',\n",
       "  ' Taiwan',\n",
       "  ' Thailand',\n",
       "  ' Trinadad&Tobago',\n",
       "  ' United-States',\n",
       "  ' Vietnam',\n",
       "  ' Yugoslavia'],\n",
       " 'country_of_birth_self': [' ?',\n",
       "  ' Cambodia',\n",
       "  ' Canada',\n",
       "  ' China',\n",
       "  ' Columbia',\n",
       "  ' Cuba',\n",
       "  ' Dominican-Republic',\n",
       "  ' Ecuador',\n",
       "  ' El-Salvador',\n",
       "  ' England',\n",
       "  ' France',\n",
       "  ' Germany',\n",
       "  ' Greece',\n",
       "  ' Guatemala',\n",
       "  ' Haiti',\n",
       "  ' Holand-Netherlands',\n",
       "  ' Honduras',\n",
       "  ' Hong Kong',\n",
       "  ' Hungary',\n",
       "  ' India',\n",
       "  ' Iran',\n",
       "  ' Ireland',\n",
       "  ' Italy',\n",
       "  ' Jamaica',\n",
       "  ' Japan',\n",
       "  ' Laos',\n",
       "  ' Mexico',\n",
       "  ' Nicaragua',\n",
       "  ' Outlying-U S (Guam USVI etc)',\n",
       "  ' Panama',\n",
       "  ' Peru',\n",
       "  ' Philippines',\n",
       "  ' Poland',\n",
       "  ' Portugal',\n",
       "  ' Puerto-Rico',\n",
       "  ' Scotland',\n",
       "  ' South Korea',\n",
       "  ' Taiwan',\n",
       "  ' Thailand',\n",
       "  ' Trinadad&Tobago',\n",
       "  ' United-States',\n",
       "  ' Vietnam',\n",
       "  ' Yugoslavia'],\n",
       " 'citizenship': [' Foreign born- Not a citizen of U S ',\n",
       "  ' Foreign born- U S citizen by naturalization',\n",
       "  ' Native- Born abroad of American Parent(s)',\n",
       "  ' Native- Born in Puerto Rico or U S Outlying',\n",
       "  ' Native- Born in the United States'],\n",
       " 'own_business_or_self_employed': [0, 1, 2],\n",
       " \"fill_inc_questionnaire_for_veteran's_admin\": [' No',\n",
       "  ' Not in universe',\n",
       "  ' Yes'],\n",
       " 'veterans_benefits': [0, 1, 2],\n",
       " 'year': [94, 95]}"
      ]
     },
     "execution_count": 7,
     "metadata": {},
     "output_type": "execute_result"
    }
   ],
   "source": [
    "CATEGORICAL_FEATURES_WITH_VOCABULARY"
   ]
  },
  {
   "cell_type": "markdown",
   "id": "c0639b71",
   "metadata": {
    "pycharm": {
     "name": "#%% md\n"
    }
   },
   "source": [
    "## Configure the hyperparameters"
   ]
  },
  {
   "cell_type": "code",
   "execution_count": 8,
   "id": "a74e0f1f",
   "metadata": {
    "ExecuteTime": {
     "end_time": "2022-01-24T07:19:11.876852Z",
     "start_time": "2022-01-24T07:19:11.792926Z"
    },
    "pycharm": {
     "name": "#%%\n"
    }
   },
   "outputs": [],
   "source": [
    "params = {\n",
    "    'LEARNING_RATE': 0.001,\n",
    "    'WEIGHT_DECAY': 0.0001,\n",
    "    'DROPOUT_RATE': 0.15,\n",
    "    'BATCH_SIZE': 265,\n",
    "    'NUM_WORKERS': 4,\n",
    "    'PIN_MEMORY': True,\n",
    "    'NUM_EPOCHS': 20,\n",
    "    'ENCODING_SIZE': 16,\n",
    "    'DEVICE': device\n",
    "}"
   ]
  },
  {
   "cell_type": "markdown",
   "id": "8174b3da",
   "metadata": {},
   "source": [
    "## Create a Dataset for training and evaluation"
   ]
  },
  {
   "cell_type": "code",
   "execution_count": 9,
   "id": "2f3859ce",
   "metadata": {
    "ExecuteTime": {
     "end_time": "2022-01-24T07:19:11.962000Z",
     "start_time": "2022-01-24T07:19:11.881284Z"
    },
    "pycharm": {
     "name": "#%%\n"
    }
   },
   "outputs": [],
   "source": [
    "class CustomDataset(Dataset):\n",
    "    def __init__(self,\n",
    "                 dataframe,\n",
    "                 VOCABULARY=CATEGORICAL_FEATURES_WITH_VOCABULARY,\n",
    "                 FEATURE_NAMES=FEATURE_NAMES,\n",
    "                 NUMERIC_FEATURE_NAMES=NUMERIC_FEATURE_NAMES,\n",
    "                 TARGET_FEATURE_NAME=TARGET_FEATURE_NAME,\n",
    "                 WEIGHT_COLUMN_NAME=WEIGHT_COLUMN_NAME,\n",
    "                 COLUMN_DEFAULTS=COLUMN_DEFAULTS):\n",
    "\n",
    "        data = dataframe.copy().dropna()\n",
    "\n",
    "        for idx, feature_name in enumerate(FEATURE_NAMES):\n",
    "            # data[feature_name] = data[feature_name].fillna(COLUMN_DEFAULTS[idx])\n",
    "            if feature_name not in NUMERIC_FEATURE_NAMES:\n",
    "                data[feature_name] = data[feature_name].map(lambda x: VOCABULARY[feature_name].index(x))\n",
    "\n",
    "        self.weights = np.array(data.pop(WEIGHT_COLUMN_NAME), dtype=np.float32)\n",
    "        self.targets = np.array(data.pop(TARGET_FEATURE_NAME), dtype=np.int)\n",
    "        self.data = np.array(data[FEATURE_NAMES])\n",
    "\n",
    "    def __len__(self):\n",
    "        return len(self.data)\n",
    "\n",
    "    def __getitem__(self, idx):\n",
    "        features = torch.from_numpy(self.data[idx])\n",
    "        target_index = torch.as_tensor(self.targets[idx])\n",
    "        weight = torch.as_tensor(self.weights[idx])\n",
    "        return features, target_index, weight"
   ]
  },
  {
   "cell_type": "code",
   "execution_count": 10,
   "id": "ca05162d",
   "metadata": {
    "ExecuteTime": {
     "end_time": "2022-01-24T07:19:22.137943Z",
     "start_time": "2022-01-24T07:19:11.965573Z"
    }
   },
   "outputs": [],
   "source": [
    "train_dataset = CustomDataset(train_data)\n",
    "valid_dataset = CustomDataset(valid_data)\n",
    "test_dataset = CustomDataset(test_data)\n",
    "\n",
    "train_loader = DataLoader(dataset=train_dataset,\n",
    "                          shuffle=True,\n",
    "                          batch_size=params['BATCH_SIZE'],\n",
    "                          pin_memory=params['PIN_MEMORY'],\n",
    "                          num_workers=params['NUM_WORKERS'])\n",
    "valid_loader = DataLoader(dataset=valid_dataset,\n",
    "                          shuffle=True,\n",
    "                          batch_size=params['BATCH_SIZE'],\n",
    "                          pin_memory=params['PIN_MEMORY'],\n",
    "                          num_workers=params['NUM_WORKERS'])\n",
    "test_loader = DataLoader(dataset=test_dataset,\n",
    "                         shuffle=False,\n",
    "                         batch_size=params['BATCH_SIZE'],\n",
    "                         pin_memory=params['PIN_MEMORY'],\n",
    "                         num_workers=params['NUM_WORKERS'])"
   ]
  },
  {
   "cell_type": "code",
   "execution_count": 11,
   "id": "a7cf562e",
   "metadata": {
    "ExecuteTime": {
     "end_time": "2022-01-24T07:19:22.163177Z",
     "start_time": "2022-01-24T07:19:22.139525Z"
    },
    "pycharm": {
     "name": "#%%\n"
    }
   },
   "outputs": [
    {
     "data": {
      "text/plain": [
       "Counter({0: 159159, 1: 10512})"
      ]
     },
     "execution_count": 11,
     "metadata": {},
     "output_type": "execute_result"
    }
   ],
   "source": [
    "Counter(train_data[TARGET_FEATURE_NAME])"
   ]
  },
  {
   "cell_type": "code",
   "execution_count": 12,
   "id": "339d6f75",
   "metadata": {
    "ExecuteTime": {
     "end_time": "2022-01-24T07:19:22.247747Z",
     "start_time": "2022-01-24T07:19:22.164326Z"
    },
    "pycharm": {
     "name": "#%%\n"
    }
   },
   "outputs": [
    {
     "data": {
      "text/plain": [
       "Counter({0: 27982, 1: 1870})"
      ]
     },
     "execution_count": 12,
     "metadata": {},
     "output_type": "execute_result"
    }
   ],
   "source": [
    "Counter(valid_data[TARGET_FEATURE_NAME])"
   ]
  },
  {
   "cell_type": "code",
   "execution_count": 13,
   "id": "01c1a8fd",
   "metadata": {
    "ExecuteTime": {
     "end_time": "2022-01-24T07:19:26.340913Z",
     "start_time": "2022-01-24T07:19:22.250475Z"
    },
    "pycharm": {
     "name": "#%%\n"
    }
   },
   "outputs": [
    {
     "name": "stdout",
     "output_type": "stream",
     "text": [
      "torch.Size([265, 40]) torch.Size([265])\n"
     ]
    }
   ],
   "source": [
    "print(next(iter(train_loader))[0].shape, next(iter(train_loader))[1].shape)"
   ]
  },
  {
   "cell_type": "code",
   "execution_count": 14,
   "id": "e1b71c6c",
   "metadata": {
    "ExecuteTime": {
     "end_time": "2022-01-24T07:19:26.649146Z",
     "start_time": "2022-01-24T07:19:26.342564Z"
    },
    "pycharm": {
     "name": "#%%\n"
    }
   },
   "outputs": [],
   "source": [
    "input_shape = next(iter(train_loader))[0].shape"
   ]
  },
  {
   "cell_type": "markdown",
   "id": "8916d92c",
   "metadata": {},
   "source": [
    "## Implement the Gated Linear Unit"
   ]
  },
  {
   "cell_type": "markdown",
   "id": "9aa9a377",
   "metadata": {},
   "source": [
    "Gated Linear Units (GLUs) provide the flexibility to suppress input that are not relevant for a given task."
   ]
  },
  {
   "cell_type": "code",
   "execution_count": 15,
   "id": "314c02a0",
   "metadata": {
    "ExecuteTime": {
     "end_time": "2022-01-24T07:19:26.656082Z",
     "start_time": "2022-01-24T07:19:26.651097Z"
    },
    "pycharm": {
     "name": "#%%\n"
    }
   },
   "outputs": [],
   "source": [
    "class GatedLinearUnit(nn.Module):\n",
    "    def __init__(self, input_shape, units):\n",
    "        super(GatedLinearUnit, self).__init__()\n",
    "        self.linear = nn.Linear(input_shape, units)\n",
    "        self.sigmoid = nn.Sequential(\n",
    "            nn.Linear(input_shape, units),\n",
    "            nn.Sigmoid()\n",
    "        )\n",
    "\n",
    "    def forward(self, inputs):\n",
    "        return self.linear(inputs) * self.sigmoid(inputs)"
   ]
  },
  {
   "cell_type": "markdown",
   "id": "d82f7da6",
   "metadata": {},
   "source": [
    "## Implement the Gated Residual network"
   ]
  },
  {
   "cell_type": "markdown",
   "id": "048e2460",
   "metadata": {},
   "source": [
    "The Gated Residual Network (GRN) works as follows:\n",
    "\n",
    "1. pplies the nonlinear ELU transformation to the inputs.\n",
    "2. Applies linear transformation followed by dropout.\n",
    "3. Applies GLU and adds the original inputs to the output of the GLU to perform skip (residual) connection.\n",
    "4. Applies layer normalization and produces the output."
   ]
  },
  {
   "cell_type": "markdown",
   "id": "c576c422",
   "metadata": {},
   "source": [
    "<img src='./images/GRN.png' width='400'> "
   ]
  },
  {
   "cell_type": "code",
   "execution_count": 16,
   "id": "d5f424d0",
   "metadata": {
    "ExecuteTime": {
     "end_time": "2022-01-24T07:19:26.768807Z",
     "start_time": "2022-01-24T07:19:26.657424Z"
    },
    "pycharm": {
     "name": "#%%\n"
    }
   },
   "outputs": [],
   "source": [
    "class GatedResidualNetwork(nn.Module):\n",
    "    def __init__(self, input_size, units, dropout_rate):\n",
    "        super(GatedResidualNetwork, self).__init__()\n",
    "        self.units = units\n",
    "        self.elu_dense = nn.Sequential(\n",
    "            nn.Linear(input_size, units),\n",
    "            nn.ELU()\n",
    "        )\n",
    "        self.linear_dense = nn.Linear(units, units)\n",
    "        self.dropout = nn.Dropout(dropout_rate)\n",
    "        self.gated_linear_unit = GatedLinearUnit(units, units)\n",
    "        self.layer_norm = nn.LayerNorm(units)\n",
    "        self.project = nn.Linear(input_size, units)\n",
    "\n",
    "    def forward(self, inputs):\n",
    "        x = self.elu_dense(inputs)\n",
    "        x = self.linear_dense(x)\n",
    "        x = self.dropout(x)\n",
    "        if inputs.shape[-1] != self.units:\n",
    "            inputs = self.project(inputs)\n",
    "        x = inputs + self.gated_linear_unit(x)\n",
    "        x = self.layer_norm(x)\n",
    "        return x\n"
   ]
  },
  {
   "cell_type": "code",
   "execution_count": 17,
   "id": "fe763f2f",
   "metadata": {
    "ExecuteTime": {
     "end_time": "2022-01-24T07:19:26.897052Z",
     "start_time": "2022-01-24T07:19:26.771876Z"
    },
    "pycharm": {
     "name": "#%%\n"
    }
   },
   "outputs": [
    {
     "data": {
      "text/plain": [
       "==========================================================================================\n",
       "Layer (type:depth-idx)                   Output Shape              Param #\n",
       "==========================================================================================\n",
       "GatedResidualNetwork                     --                        --\n",
       "├─Sequential: 1-1                        [265, 40, 16]             --\n",
       "│    └─Linear: 2-1                       [265, 40, 16]             272\n",
       "│    └─ELU: 2-2                          [265, 40, 16]             --\n",
       "├─Linear: 1-2                            [265, 40, 16]             272\n",
       "├─Dropout: 1-3                           [265, 40, 16]             --\n",
       "├─GatedLinearUnit: 1-4                   [265, 40, 16]             --\n",
       "│    └─Linear: 2-3                       [265, 40, 16]             272\n",
       "│    └─Sequential: 2-4                   [265, 40, 16]             --\n",
       "│    │    └─Linear: 3-1                  [265, 40, 16]             272\n",
       "│    │    └─Sigmoid: 3-2                 [265, 40, 16]             --\n",
       "├─LayerNorm: 1-5                         [265, 40, 16]             32\n",
       "==========================================================================================\n",
       "Total params: 1,120\n",
       "Trainable params: 1,120\n",
       "Non-trainable params: 0\n",
       "Total mult-adds (M): 0.30\n",
       "==========================================================================================\n",
       "Input size (MB): 0.68\n",
       "Forward/backward pass size (MB): 6.78\n",
       "Params size (MB): 0.00\n",
       "Estimated Total Size (MB): 7.47\n",
       "=========================================================================================="
      ]
     },
     "execution_count": 17,
     "metadata": {},
     "output_type": "execute_result"
    }
   ],
   "source": [
    "summary(GatedResidualNetwork(16, 16, 0.01), [265, 40, 16])"
   ]
  },
  {
   "cell_type": "markdown",
   "id": "f2cebfb1",
   "metadata": {},
   "source": [
    "## Implement the Variable Selection Network"
   ]
  },
  {
   "cell_type": "markdown",
   "id": "ace1b36a",
   "metadata": {},
   "source": [
    "The Variable Selection Network (VSN) works as follows:\n",
    "\n",
    "1. Applies a GRN to each feature individually.\n",
    "2. Applies a GRN on the concatenation of all the features, followed by a softmax to produce feature weights.\n",
    "3. Produces a weighted sum of the output of the individual GRN.\n",
    "\n",
    "Note that the output of the VSN is [batch_size, encoding_size], regardless of the number of the input features."
   ]
  },
  {
   "cell_type": "markdown",
   "id": "9ecc1078",
   "metadata": {},
   "source": [
    "<img src='./images/Variable_Selection_Network.png' width='400'> "
   ]
  },
  {
   "cell_type": "code",
   "execution_count": 18,
   "id": "d9c68167",
   "metadata": {
    "ExecuteTime": {
     "end_time": "2022-01-24T07:19:26.959497Z",
     "start_time": "2022-01-24T07:19:26.899356Z"
    },
    "pycharm": {
     "name": "#%%\n"
    }
   },
   "outputs": [],
   "source": [
    "class VariableSelection(nn.Module):\n",
    "    def __init__(self, input_size, num_features, units, dropout_rate):\n",
    "        super(VariableSelection, self).__init__()\n",
    "        self.num_features = num_features\n",
    "        self.grns = nn.ModuleList()\n",
    "        # Create a GRN for each feature independently\n",
    "        for idx in range(num_features):\n",
    "            grn = GatedResidualNetwork(input_size, units, dropout_rate)\n",
    "            self.grns.append(grn)\n",
    "        # Create a GRN for the concatenation of all the features\n",
    "        self.grn_concat = GatedResidualNetwork(input_size*num_features, units, dropout_rate)\n",
    "        self.softmax = nn.Sequential(\n",
    "            nn.Linear(units, num_features),\n",
    "            nn.Softmax(dim=1)\n",
    "        )\n",
    "\n",
    "    def forward(self, inputs):\n",
    "        v = rearrange(inputs, 'b n d -> b (n d)')\n",
    "        v = self.grn_concat(v)\n",
    "        v = self.softmax(v).unsqueeze(1)\n",
    "\n",
    "        x = []\n",
    "        for idx in range(self.num_features):\n",
    "            x.append(self.grns[idx](inputs[:,idx]))\n",
    "        x = torch.stack(x, dim=1)\n",
    "        outputs = torch.matmul(v, x)\n",
    "        return outputs"
   ]
  },
  {
   "cell_type": "code",
   "execution_count": 19,
   "id": "989d5639",
   "metadata": {
    "ExecuteTime": {
     "end_time": "2022-01-24T07:19:27.169136Z",
     "start_time": "2022-01-24T07:19:26.962628Z"
    },
    "pycharm": {
     "name": "#%%\n"
    }
   },
   "outputs": [
    {
     "data": {
      "text/plain": [
       "==========================================================================================\n",
       "Layer (type:depth-idx)                   Output Shape              Param #\n",
       "==========================================================================================\n",
       "VariableSelection                        --                        --\n",
       "├─ModuleList: 1-1                        --                        --\n",
       "├─GatedResidualNetwork: 1-2              [256, 16]                 --\n",
       "│    └─Sequential: 2-1                   [256, 16]                 --\n",
       "│    │    └─Linear: 3-1                  [256, 16]                 10,256\n",
       "│    │    └─ELU: 3-2                     [256, 16]                 --\n",
       "│    └─Linear: 2-2                       [256, 16]                 272\n",
       "│    └─Dropout: 2-3                      [256, 16]                 --\n",
       "│    └─Linear: 2-4                       [256, 16]                 10,256\n",
       "│    └─GatedLinearUnit: 2-5              [256, 16]                 --\n",
       "│    │    └─Linear: 3-3                  [256, 16]                 272\n",
       "│    │    └─Sequential: 3-4              [256, 16]                 272\n",
       "│    └─LayerNorm: 2-6                    [256, 16]                 32\n",
       "├─Sequential: 1-3                        [256, 40]                 --\n",
       "│    └─Linear: 2-7                       [256, 40]                 680\n",
       "│    └─Softmax: 2-8                      [256, 40]                 --\n",
       "├─ModuleList: 1-1                        --                        --\n",
       "│    └─GatedResidualNetwork: 2-9         [256, 16]                 --\n",
       "│    │    └─Sequential: 3-5              [256, 16]                 272\n",
       "│    │    └─Linear: 3-6                  [256, 16]                 272\n",
       "│    │    └─Dropout: 3-7                 [256, 16]                 --\n",
       "│    │    └─GatedLinearUnit: 3-8         [256, 16]                 544\n",
       "│    │    └─LayerNorm: 3-9               [256, 16]                 32\n",
       "│    └─GatedResidualNetwork: 2-10        [256, 16]                 --\n",
       "│    │    └─Sequential: 3-10             [256, 16]                 272\n",
       "│    │    └─Linear: 3-11                 [256, 16]                 272\n",
       "│    │    └─Dropout: 3-12                [256, 16]                 --\n",
       "│    │    └─GatedLinearUnit: 3-13        [256, 16]                 544\n",
       "│    │    └─LayerNorm: 3-14              [256, 16]                 32\n",
       "│    └─GatedResidualNetwork: 2-11        [256, 16]                 --\n",
       "│    │    └─Sequential: 3-15             [256, 16]                 272\n",
       "│    │    └─Linear: 3-16                 [256, 16]                 272\n",
       "│    │    └─Dropout: 3-17                [256, 16]                 --\n",
       "│    │    └─GatedLinearUnit: 3-18        [256, 16]                 544\n",
       "│    │    └─LayerNorm: 3-19              [256, 16]                 32\n",
       "│    └─GatedResidualNetwork: 2-12        [256, 16]                 --\n",
       "│    │    └─Sequential: 3-20             [256, 16]                 272\n",
       "│    │    └─Linear: 3-21                 [256, 16]                 272\n",
       "│    │    └─Dropout: 3-22                [256, 16]                 --\n",
       "│    │    └─GatedLinearUnit: 3-23        [256, 16]                 544\n",
       "│    │    └─LayerNorm: 3-24              [256, 16]                 32\n",
       "│    └─GatedResidualNetwork: 2-13        [256, 16]                 --\n",
       "│    │    └─Sequential: 3-25             [256, 16]                 272\n",
       "│    │    └─Linear: 3-26                 [256, 16]                 272\n",
       "│    │    └─Dropout: 3-27                [256, 16]                 --\n",
       "│    │    └─GatedLinearUnit: 3-28        [256, 16]                 544\n",
       "│    │    └─LayerNorm: 3-29              [256, 16]                 32\n",
       "│    └─GatedResidualNetwork: 2-14        [256, 16]                 --\n",
       "│    │    └─Sequential: 3-30             [256, 16]                 272\n",
       "│    │    └─Linear: 3-31                 [256, 16]                 272\n",
       "│    │    └─Dropout: 3-32                [256, 16]                 --\n",
       "│    │    └─GatedLinearUnit: 3-33        [256, 16]                 544\n",
       "│    │    └─LayerNorm: 3-34              [256, 16]                 32\n",
       "│    └─GatedResidualNetwork: 2-15        [256, 16]                 --\n",
       "│    │    └─Sequential: 3-35             [256, 16]                 272\n",
       "│    │    └─Linear: 3-36                 [256, 16]                 272\n",
       "│    │    └─Dropout: 3-37                [256, 16]                 --\n",
       "│    │    └─GatedLinearUnit: 3-38        [256, 16]                 544\n",
       "│    │    └─LayerNorm: 3-39              [256, 16]                 32\n",
       "│    └─GatedResidualNetwork: 2-16        [256, 16]                 --\n",
       "│    │    └─Sequential: 3-40             [256, 16]                 272\n",
       "│    │    └─Linear: 3-41                 [256, 16]                 272\n",
       "│    │    └─Dropout: 3-42                [256, 16]                 --\n",
       "│    │    └─GatedLinearUnit: 3-43        [256, 16]                 544\n",
       "│    │    └─LayerNorm: 3-44              [256, 16]                 32\n",
       "│    └─GatedResidualNetwork: 2-17        [256, 16]                 --\n",
       "│    │    └─Sequential: 3-45             [256, 16]                 272\n",
       "│    │    └─Linear: 3-46                 [256, 16]                 272\n",
       "│    │    └─Dropout: 3-47                [256, 16]                 --\n",
       "│    │    └─GatedLinearUnit: 3-48        [256, 16]                 544\n",
       "│    │    └─LayerNorm: 3-49              [256, 16]                 32\n",
       "│    └─GatedResidualNetwork: 2-18        [256, 16]                 --\n",
       "│    │    └─Sequential: 3-50             [256, 16]                 272\n",
       "│    │    └─Linear: 3-51                 [256, 16]                 272\n",
       "│    │    └─Dropout: 3-52                [256, 16]                 --\n",
       "│    │    └─GatedLinearUnit: 3-53        [256, 16]                 544\n",
       "│    │    └─LayerNorm: 3-54              [256, 16]                 32\n",
       "│    └─GatedResidualNetwork: 2-19        [256, 16]                 --\n",
       "│    │    └─Sequential: 3-55             [256, 16]                 272\n",
       "│    │    └─Linear: 3-56                 [256, 16]                 272\n",
       "│    │    └─Dropout: 3-57                [256, 16]                 --\n",
       "│    │    └─GatedLinearUnit: 3-58        [256, 16]                 544\n",
       "│    │    └─LayerNorm: 3-59              [256, 16]                 32\n",
       "│    └─GatedResidualNetwork: 2-20        [256, 16]                 --\n",
       "│    │    └─Sequential: 3-60             [256, 16]                 272\n",
       "│    │    └─Linear: 3-61                 [256, 16]                 272\n",
       "│    │    └─Dropout: 3-62                [256, 16]                 --\n",
       "│    │    └─GatedLinearUnit: 3-63        [256, 16]                 544\n",
       "│    │    └─LayerNorm: 3-64              [256, 16]                 32\n",
       "│    └─GatedResidualNetwork: 2-21        [256, 16]                 --\n",
       "│    │    └─Sequential: 3-65             [256, 16]                 272\n",
       "│    │    └─Linear: 3-66                 [256, 16]                 272\n",
       "│    │    └─Dropout: 3-67                [256, 16]                 --\n",
       "│    │    └─GatedLinearUnit: 3-68        [256, 16]                 544\n",
       "│    │    └─LayerNorm: 3-69              [256, 16]                 32\n",
       "│    └─GatedResidualNetwork: 2-22        [256, 16]                 --\n",
       "│    │    └─Sequential: 3-70             [256, 16]                 272\n",
       "│    │    └─Linear: 3-71                 [256, 16]                 272\n",
       "│    │    └─Dropout: 3-72                [256, 16]                 --\n",
       "│    │    └─GatedLinearUnit: 3-73        [256, 16]                 544\n",
       "│    │    └─LayerNorm: 3-74              [256, 16]                 32\n",
       "│    └─GatedResidualNetwork: 2-23        [256, 16]                 --\n",
       "│    │    └─Sequential: 3-75             [256, 16]                 272\n",
       "│    │    └─Linear: 3-76                 [256, 16]                 272\n",
       "│    │    └─Dropout: 3-77                [256, 16]                 --\n",
       "│    │    └─GatedLinearUnit: 3-78        [256, 16]                 544\n",
       "│    │    └─LayerNorm: 3-79              [256, 16]                 32\n",
       "│    └─GatedResidualNetwork: 2-24        [256, 16]                 --\n",
       "│    │    └─Sequential: 3-80             [256, 16]                 272\n",
       "│    │    └─Linear: 3-81                 [256, 16]                 272\n",
       "│    │    └─Dropout: 3-82                [256, 16]                 --\n",
       "│    │    └─GatedLinearUnit: 3-83        [256, 16]                 544\n",
       "│    │    └─LayerNorm: 3-84              [256, 16]                 32\n",
       "│    └─GatedResidualNetwork: 2-25        [256, 16]                 --\n",
       "│    │    └─Sequential: 3-85             [256, 16]                 272\n",
       "│    │    └─Linear: 3-86                 [256, 16]                 272\n",
       "│    │    └─Dropout: 3-87                [256, 16]                 --\n",
       "│    │    └─GatedLinearUnit: 3-88        [256, 16]                 544\n",
       "│    │    └─LayerNorm: 3-89              [256, 16]                 32\n",
       "│    └─GatedResidualNetwork: 2-26        [256, 16]                 --\n",
       "│    │    └─Sequential: 3-90             [256, 16]                 272\n",
       "│    │    └─Linear: 3-91                 [256, 16]                 272\n",
       "│    │    └─Dropout: 3-92                [256, 16]                 --\n",
       "│    │    └─GatedLinearUnit: 3-93        [256, 16]                 544\n",
       "│    │    └─LayerNorm: 3-94              [256, 16]                 32\n",
       "│    └─GatedResidualNetwork: 2-27        [256, 16]                 --\n",
       "│    │    └─Sequential: 3-95             [256, 16]                 272\n",
       "│    │    └─Linear: 3-96                 [256, 16]                 272\n",
       "│    │    └─Dropout: 3-97                [256, 16]                 --\n",
       "│    │    └─GatedLinearUnit: 3-98        [256, 16]                 544\n",
       "│    │    └─LayerNorm: 3-99              [256, 16]                 32\n",
       "│    └─GatedResidualNetwork: 2-28        [256, 16]                 --\n",
       "│    │    └─Sequential: 3-100            [256, 16]                 272\n",
       "│    │    └─Linear: 3-101                [256, 16]                 272\n",
       "│    │    └─Dropout: 3-102               [256, 16]                 --\n",
       "│    │    └─GatedLinearUnit: 3-103       [256, 16]                 544\n",
       "│    │    └─LayerNorm: 3-104             [256, 16]                 32\n",
       "│    └─GatedResidualNetwork: 2-29        [256, 16]                 --\n",
       "│    │    └─Sequential: 3-105            [256, 16]                 272\n",
       "│    │    └─Linear: 3-106                [256, 16]                 272\n",
       "│    │    └─Dropout: 3-107               [256, 16]                 --\n",
       "│    │    └─GatedLinearUnit: 3-108       [256, 16]                 544\n",
       "│    │    └─LayerNorm: 3-109             [256, 16]                 32\n",
       "│    └─GatedResidualNetwork: 2-30        [256, 16]                 --\n",
       "│    │    └─Sequential: 3-110            [256, 16]                 272\n",
       "│    │    └─Linear: 3-111                [256, 16]                 272\n",
       "│    │    └─Dropout: 3-112               [256, 16]                 --\n",
       "│    │    └─GatedLinearUnit: 3-113       [256, 16]                 544\n",
       "│    │    └─LayerNorm: 3-114             [256, 16]                 32\n",
       "│    └─GatedResidualNetwork: 2-31        [256, 16]                 --\n",
       "│    │    └─Sequential: 3-115            [256, 16]                 272\n",
       "│    │    └─Linear: 3-116                [256, 16]                 272\n",
       "│    │    └─Dropout: 3-117               [256, 16]                 --\n",
       "│    │    └─GatedLinearUnit: 3-118       [256, 16]                 544\n",
       "│    │    └─LayerNorm: 3-119             [256, 16]                 32\n",
       "│    └─GatedResidualNetwork: 2-32        [256, 16]                 --\n",
       "│    │    └─Sequential: 3-120            [256, 16]                 272\n",
       "│    │    └─Linear: 3-121                [256, 16]                 272\n",
       "│    │    └─Dropout: 3-122               [256, 16]                 --\n",
       "│    │    └─GatedLinearUnit: 3-123       [256, 16]                 544\n",
       "│    │    └─LayerNorm: 3-124             [256, 16]                 32\n",
       "│    └─GatedResidualNetwork: 2-33        [256, 16]                 --\n",
       "│    │    └─Sequential: 3-125            [256, 16]                 272\n",
       "│    │    └─Linear: 3-126                [256, 16]                 272\n",
       "│    │    └─Dropout: 3-127               [256, 16]                 --\n",
       "│    │    └─GatedLinearUnit: 3-128       [256, 16]                 544\n",
       "│    │    └─LayerNorm: 3-129             [256, 16]                 32\n",
       "│    └─GatedResidualNetwork: 2-34        [256, 16]                 --\n",
       "│    │    └─Sequential: 3-130            [256, 16]                 272\n",
       "│    │    └─Linear: 3-131                [256, 16]                 272\n",
       "│    │    └─Dropout: 3-132               [256, 16]                 --\n",
       "│    │    └─GatedLinearUnit: 3-133       [256, 16]                 544\n",
       "│    │    └─LayerNorm: 3-134             [256, 16]                 32\n",
       "│    └─GatedResidualNetwork: 2-35        [256, 16]                 --\n",
       "│    │    └─Sequential: 3-135            [256, 16]                 272\n",
       "│    │    └─Linear: 3-136                [256, 16]                 272\n",
       "│    │    └─Dropout: 3-137               [256, 16]                 --\n",
       "│    │    └─GatedLinearUnit: 3-138       [256, 16]                 544\n",
       "│    │    └─LayerNorm: 3-139             [256, 16]                 32\n",
       "│    └─GatedResidualNetwork: 2-36        [256, 16]                 --\n",
       "│    │    └─Sequential: 3-140            [256, 16]                 272\n",
       "│    │    └─Linear: 3-141                [256, 16]                 272\n",
       "│    │    └─Dropout: 3-142               [256, 16]                 --\n",
       "│    │    └─GatedLinearUnit: 3-143       [256, 16]                 544\n",
       "│    │    └─LayerNorm: 3-144             [256, 16]                 32\n",
       "│    └─GatedResidualNetwork: 2-37        [256, 16]                 --\n",
       "│    │    └─Sequential: 3-145            [256, 16]                 272\n",
       "│    │    └─Linear: 3-146                [256, 16]                 272\n",
       "│    │    └─Dropout: 3-147               [256, 16]                 --\n",
       "│    │    └─GatedLinearUnit: 3-148       [256, 16]                 544\n",
       "│    │    └─LayerNorm: 3-149             [256, 16]                 32\n",
       "│    └─GatedResidualNetwork: 2-38        [256, 16]                 --\n",
       "│    │    └─Sequential: 3-150            [256, 16]                 272\n",
       "│    │    └─Linear: 3-151                [256, 16]                 272\n",
       "│    │    └─Dropout: 3-152               [256, 16]                 --\n",
       "│    │    └─GatedLinearUnit: 3-153       [256, 16]                 544\n",
       "│    │    └─LayerNorm: 3-154             [256, 16]                 32\n",
       "│    └─GatedResidualNetwork: 2-39        [256, 16]                 --\n",
       "│    │    └─Sequential: 3-155            [256, 16]                 272\n",
       "│    │    └─Linear: 3-156                [256, 16]                 272\n",
       "│    │    └─Dropout: 3-157               [256, 16]                 --\n",
       "│    │    └─GatedLinearUnit: 3-158       [256, 16]                 544\n",
       "│    │    └─LayerNorm: 3-159             [256, 16]                 32\n",
       "│    └─GatedResidualNetwork: 2-40        [256, 16]                 --\n",
       "│    │    └─Sequential: 3-160            [256, 16]                 272\n",
       "│    │    └─Linear: 3-161                [256, 16]                 272\n",
       "│    │    └─Dropout: 3-162               [256, 16]                 --\n",
       "│    │    └─GatedLinearUnit: 3-163       [256, 16]                 544\n",
       "│    │    └─LayerNorm: 3-164             [256, 16]                 32\n",
       "│    └─GatedResidualNetwork: 2-41        [256, 16]                 --\n",
       "│    │    └─Sequential: 3-165            [256, 16]                 272\n",
       "│    │    └─Linear: 3-166                [256, 16]                 272\n",
       "│    │    └─Dropout: 3-167               [256, 16]                 --\n",
       "│    │    └─GatedLinearUnit: 3-168       [256, 16]                 544\n",
       "│    │    └─LayerNorm: 3-169             [256, 16]                 32\n",
       "│    └─GatedResidualNetwork: 2-42        [256, 16]                 --\n",
       "│    │    └─Sequential: 3-170            [256, 16]                 272\n",
       "│    │    └─Linear: 3-171                [256, 16]                 272\n",
       "│    │    └─Dropout: 3-172               [256, 16]                 --\n",
       "│    │    └─GatedLinearUnit: 3-173       [256, 16]                 544\n",
       "│    │    └─LayerNorm: 3-174             [256, 16]                 32\n",
       "│    └─GatedResidualNetwork: 2-43        [256, 16]                 --\n",
       "│    │    └─Sequential: 3-175            [256, 16]                 272\n",
       "│    │    └─Linear: 3-176                [256, 16]                 272\n",
       "│    │    └─Dropout: 3-177               [256, 16]                 --\n",
       "│    │    └─GatedLinearUnit: 3-178       [256, 16]                 544\n",
       "│    │    └─LayerNorm: 3-179             [256, 16]                 32\n",
       "│    └─GatedResidualNetwork: 2-44        [256, 16]                 --\n",
       "│    │    └─Sequential: 3-180            [256, 16]                 272\n",
       "│    │    └─Linear: 3-181                [256, 16]                 272\n",
       "│    │    └─Dropout: 3-182               [256, 16]                 --\n",
       "│    │    └─GatedLinearUnit: 3-183       [256, 16]                 544\n",
       "│    │    └─LayerNorm: 3-184             [256, 16]                 32\n",
       "│    └─GatedResidualNetwork: 2-45        [256, 16]                 --\n",
       "│    │    └─Sequential: 3-185            [256, 16]                 272\n",
       "│    │    └─Linear: 3-186                [256, 16]                 272\n",
       "│    │    └─Dropout: 3-187               [256, 16]                 --\n",
       "│    │    └─GatedLinearUnit: 3-188       [256, 16]                 544\n",
       "│    │    └─LayerNorm: 3-189             [256, 16]                 32\n",
       "│    └─GatedResidualNetwork: 2-46        [256, 16]                 --\n",
       "│    │    └─Sequential: 3-190            [256, 16]                 272\n",
       "│    │    └─Linear: 3-191                [256, 16]                 272\n",
       "│    │    └─Dropout: 3-192               [256, 16]                 --\n",
       "│    │    └─GatedLinearUnit: 3-193       [256, 16]                 544\n",
       "│    │    └─LayerNorm: 3-194             [256, 16]                 32\n",
       "│    └─GatedResidualNetwork: 2-47        [256, 16]                 --\n",
       "│    │    └─Sequential: 3-195            [256, 16]                 272\n",
       "│    │    └─Linear: 3-196                [256, 16]                 272\n",
       "│    │    └─Dropout: 3-197               [256, 16]                 --\n",
       "│    │    └─GatedLinearUnit: 3-198       [256, 16]                 544\n",
       "│    │    └─LayerNorm: 3-199             [256, 16]                 32\n",
       "│    └─GatedResidualNetwork: 2-48        [256, 16]                 --\n",
       "│    │    └─Sequential: 3-200            [256, 16]                 272\n",
       "│    │    └─Linear: 3-201                [256, 16]                 272\n",
       "│    │    └─Dropout: 3-202               [256, 16]                 --\n",
       "│    │    └─GatedLinearUnit: 3-203       [256, 16]                 544\n",
       "│    │    └─LayerNorm: 3-204             [256, 16]                 32\n",
       "==========================================================================================\n",
       "Total params: 66,840\n",
       "Trainable params: 66,840\n",
       "Non-trainable params: 0\n",
       "Total mult-adds (M): 17.11\n",
       "==========================================================================================\n",
       "Input size (MB): 0.66\n",
       "Forward/backward pass size (MB): 6.83\n",
       "Params size (MB): 0.27\n",
       "Estimated Total Size (MB): 7.75\n",
       "=========================================================================================="
      ]
     },
     "execution_count": 19,
     "metadata": {},
     "output_type": "execute_result"
    }
   ],
   "source": [
    "summary(VariableSelection(16, 40, 16, 0.01), [256, 40, 16])"
   ]
  },
  {
   "cell_type": "markdown",
   "id": "0dd27515",
   "metadata": {},
   "source": [
    "## Create Gated Residual and Variable Selection Networks model"
   ]
  },
  {
   "cell_type": "code",
   "execution_count": 20,
   "id": "d330d64d",
   "metadata": {
    "ExecuteTime": {
     "end_time": "2022-01-24T07:19:27.183650Z",
     "start_time": "2022-01-24T07:19:27.170659Z"
    },
    "pycharm": {
     "name": "#%%\n"
    }
   },
   "outputs": [],
   "source": [
    "class create_model(nn.Module):\n",
    "    def __init__(self,\n",
    "                 params,\n",
    "                 FEATURE_NAMES=FEATURE_NAMES,\n",
    "                 CATEGORICAL_FEATURES_WITH_VOCABULARY=CATEGORICAL_FEATURES_WITH_VOCABULARY, ):\n",
    "        super(create_model, self).__init__()\n",
    "        self.encoding_size = params['ENCODING_SIZE']\n",
    "        self.dropout_rate = params['DROPOUT_RATE']\n",
    "        self.device = params['DEVICE']\n",
    "        self.num_features = len(FEATURE_NAMES)\n",
    "        self.num_cat_features = len(CATEGORICAL_FEATURES_WITH_VOCABULARY)\n",
    "        self.num_numeric_features = self.num_features - self.num_cat_features\n",
    "        self.embedding_layers = nn.ModuleList()\n",
    "        self.linear_layers = nn.ModuleList()\n",
    "\n",
    "        for feature in FEATURE_NAMES:\n",
    "            if feature in CATEGORICAL_FEATURES_WITH_VOCABULARY.keys():\n",
    "                emb = nn.Embedding(len(CATEGORICAL_FEATURES_WITH_VOCABULARY[feature]), self.encoding_size).to(self.device)\n",
    "                self.embedding_layers.append(emb)\n",
    "            else:\n",
    "                emb = nn.Linear(1, self.encoding_size).to(self.device)\n",
    "                self.linear_layers.append(emb)\n",
    "\n",
    "        self.variable_selection = VariableSelection(self.encoding_size,\n",
    "                                          self.num_features,\n",
    "                                          self.encoding_size,\n",
    "                                          self.dropout_rate)\n",
    "\n",
    "        self.linear = nn.Linear(self.encoding_size, 1)\n",
    "\n",
    "    def forward(self, inputs):\n",
    "        numeric_vectors = []\n",
    "        for i in range(self.num_numeric_features):\n",
    "            emb = self.linear_layers[i](inputs[:, i].view(inputs.size(0), -1, 1).float().to(self.device))\n",
    "            numeric_vectors.append(emb)\n",
    "        numeric_vectors = torch.cat(numeric_vectors, dim=1)\n",
    "\n",
    "        categoical_vectors = []\n",
    "        for i in range(self.num_cat_features):\n",
    "            emb = self.embedding_layers[i](inputs[:, self.num_numeric_features+i].view(inputs.size(0), -1).long().to(self.device))\n",
    "            categoical_vectors.append(emb)\n",
    "        categoical_vectors = torch.cat(categoical_vectors, dim=1)\n",
    "        embeddings = torch.cat([numeric_vectors,categoical_vectors], dim=1)\n",
    "\n",
    "        features = self.variable_selection(embeddings)\n",
    "        output = self.linear(features)\n",
    "\n",
    "        return output.squeeze(1).type(torch.FloatTensor).to(self.device)\n"
   ]
  },
  {
   "cell_type": "code",
   "execution_count": 21,
   "id": "ed0b0e31",
   "metadata": {
    "ExecuteTime": {
     "end_time": "2022-01-24T07:19:27.350536Z",
     "start_time": "2022-01-24T07:19:27.184882Z"
    },
    "pycharm": {
     "name": "#%%\n"
    }
   },
   "outputs": [],
   "source": [
    "model = create_model(params).to(device)"
   ]
  },
  {
   "cell_type": "code",
   "execution_count": 22,
   "id": "2750e29f",
   "metadata": {
    "ExecuteTime": {
     "end_time": "2022-01-24T07:19:27.475367Z",
     "start_time": "2022-01-24T07:19:27.352238Z"
    },
    "pycharm": {
     "name": "#%%\n"
    }
   },
   "outputs": [
    {
     "data": {
      "text/plain": [
       "===============================================================================================\n",
       "Layer (type:depth-idx)                        Output Shape              Param #\n",
       "===============================================================================================\n",
       "create_model                                  --                        --\n",
       "├─ModuleList: 1-1                             --                        --\n",
       "├─ModuleList: 1-2                             --                        --\n",
       "├─VariableSelection: 1                        --                        --\n",
       "│    └─ModuleList: 2-1                        --                        --\n",
       "├─ModuleList: 1-2                             --                        --\n",
       "│    └─Linear: 2-2                            [265, 1, 16]              32\n",
       "│    └─Linear: 2-3                            [265, 1, 16]              32\n",
       "│    └─Linear: 2-4                            [265, 1, 16]              32\n",
       "│    └─Linear: 2-5                            [265, 1, 16]              32\n",
       "│    └─Linear: 2-6                            [265, 1, 16]              32\n",
       "│    └─Linear: 2-7                            [265, 1, 16]              32\n",
       "│    └─Linear: 2-8                            [265, 1, 16]              32\n",
       "├─ModuleList: 1-1                             --                        --\n",
       "│    └─Embedding: 2-9                         [265, 1, 16]              144\n",
       "│    └─Embedding: 2-10                        [265, 1, 16]              832\n",
       "│    └─Embedding: 2-11                        [265, 1, 16]              752\n",
       "│    └─Embedding: 2-12                        [265, 1, 16]              272\n",
       "│    └─Embedding: 2-13                        [265, 1, 16]              48\n",
       "│    └─Embedding: 2-14                        [265, 1, 16]              112\n",
       "│    └─Embedding: 2-15                        [265, 1, 16]              384\n",
       "│    └─Embedding: 2-16                        [265, 1, 16]              240\n",
       "│    └─Embedding: 2-17                        [265, 1, 16]              80\n",
       "│    └─Embedding: 2-18                        [265, 1, 16]              160\n",
       "│    └─Embedding: 2-19                        [265, 1, 16]              32\n",
       "│    └─Embedding: 2-20                        [265, 1, 16]              48\n",
       "│    └─Embedding: 2-21                        [265, 1, 16]              96\n",
       "│    └─Embedding: 2-22                        [265, 1, 16]              128\n",
       "│    └─Embedding: 2-23                        [265, 1, 16]              96\n",
       "│    └─Embedding: 2-24                        [265, 1, 16]              96\n",
       "│    └─Embedding: 2-25                        [265, 1, 16]              816\n",
       "│    └─Embedding: 2-26                        [265, 1, 16]              608\n",
       "│    └─Embedding: 2-27                        [265, 1, 16]              128\n",
       "│    └─Embedding: 2-28                        [265, 1, 16]              160\n",
       "│    └─Embedding: 2-29                        [265, 1, 16]              144\n",
       "│    └─Embedding: 2-30                        [265, 1, 16]              160\n",
       "│    └─Embedding: 2-31                        [265, 1, 16]              48\n",
       "│    └─Embedding: 2-32                        [265, 1, 16]              64\n",
       "│    └─Embedding: 2-33                        [265, 1, 16]              80\n",
       "│    └─Embedding: 2-34                        [265, 1, 16]              688\n",
       "│    └─Embedding: 2-35                        [265, 1, 16]              688\n",
       "│    └─Embedding: 2-36                        [265, 1, 16]              688\n",
       "│    └─Embedding: 2-37                        [265, 1, 16]              80\n",
       "│    └─Embedding: 2-38                        [265, 1, 16]              48\n",
       "│    └─Embedding: 2-39                        [265, 1, 16]              48\n",
       "│    └─Embedding: 2-40                        [265, 1, 16]              48\n",
       "│    └─Embedding: 2-41                        [265, 1, 16]              32\n",
       "├─VariableSelection: 1-3                      [265, 1, 16]              --\n",
       "│    └─GatedResidualNetwork: 2-42             [265, 16]                 --\n",
       "│    │    └─Sequential: 3-1                   [265, 16]                 10,256\n",
       "│    │    └─Linear: 3-2                       [265, 16]                 272\n",
       "│    │    └─Dropout: 3-3                      [265, 16]                 --\n",
       "│    │    └─Linear: 3-4                       [265, 16]                 10,256\n",
       "│    │    └─GatedLinearUnit: 3-5              [265, 16]                 544\n",
       "│    │    └─LayerNorm: 3-6                    [265, 16]                 32\n",
       "│    └─Sequential: 2-43                       [265, 40]                 --\n",
       "│    │    └─Linear: 3-7                       [265, 40]                 680\n",
       "│    │    └─Softmax: 3-8                      [265, 40]                 --\n",
       "│    └─ModuleList: 2-1                        --                        --\n",
       "│    │    └─GatedResidualNetwork: 3-9         [265, 16]                 1,392\n",
       "│    │    └─GatedResidualNetwork: 3-10        [265, 16]                 1,392\n",
       "│    │    └─GatedResidualNetwork: 3-11        [265, 16]                 1,392\n",
       "│    │    └─GatedResidualNetwork: 3-12        [265, 16]                 1,392\n",
       "│    │    └─GatedResidualNetwork: 3-13        [265, 16]                 1,392\n",
       "│    │    └─GatedResidualNetwork: 3-14        [265, 16]                 1,392\n",
       "│    │    └─GatedResidualNetwork: 3-15        [265, 16]                 1,392\n",
       "│    │    └─GatedResidualNetwork: 3-16        [265, 16]                 1,392\n",
       "│    │    └─GatedResidualNetwork: 3-17        [265, 16]                 1,392\n",
       "│    │    └─GatedResidualNetwork: 3-18        [265, 16]                 1,392\n",
       "│    │    └─GatedResidualNetwork: 3-19        [265, 16]                 1,392\n",
       "│    │    └─GatedResidualNetwork: 3-20        [265, 16]                 1,392\n",
       "│    │    └─GatedResidualNetwork: 3-21        [265, 16]                 1,392\n",
       "│    │    └─GatedResidualNetwork: 3-22        [265, 16]                 1,392\n",
       "│    │    └─GatedResidualNetwork: 3-23        [265, 16]                 1,392\n",
       "│    │    └─GatedResidualNetwork: 3-24        [265, 16]                 1,392\n",
       "│    │    └─GatedResidualNetwork: 3-25        [265, 16]                 1,392\n",
       "│    │    └─GatedResidualNetwork: 3-26        [265, 16]                 1,392\n",
       "│    │    └─GatedResidualNetwork: 3-27        [265, 16]                 1,392\n",
       "│    │    └─GatedResidualNetwork: 3-28        [265, 16]                 1,392\n",
       "│    │    └─GatedResidualNetwork: 3-29        [265, 16]                 1,392\n",
       "│    │    └─GatedResidualNetwork: 3-30        [265, 16]                 1,392\n",
       "│    │    └─GatedResidualNetwork: 3-31        [265, 16]                 1,392\n",
       "│    │    └─GatedResidualNetwork: 3-32        [265, 16]                 1,392\n",
       "│    │    └─GatedResidualNetwork: 3-33        [265, 16]                 1,392\n",
       "│    │    └─GatedResidualNetwork: 3-34        [265, 16]                 1,392\n",
       "│    │    └─GatedResidualNetwork: 3-35        [265, 16]                 1,392\n",
       "│    │    └─GatedResidualNetwork: 3-36        [265, 16]                 1,392\n",
       "│    │    └─GatedResidualNetwork: 3-37        [265, 16]                 1,392\n",
       "│    │    └─GatedResidualNetwork: 3-38        [265, 16]                 1,392\n",
       "│    │    └─GatedResidualNetwork: 3-39        [265, 16]                 1,392\n",
       "│    │    └─GatedResidualNetwork: 3-40        [265, 16]                 1,392\n",
       "│    │    └─GatedResidualNetwork: 3-41        [265, 16]                 1,392\n",
       "│    │    └─GatedResidualNetwork: 3-42        [265, 16]                 1,392\n",
       "│    │    └─GatedResidualNetwork: 3-43        [265, 16]                 1,392\n",
       "│    │    └─GatedResidualNetwork: 3-44        [265, 16]                 1,392\n",
       "│    │    └─GatedResidualNetwork: 3-45        [265, 16]                 1,392\n",
       "│    │    └─GatedResidualNetwork: 3-46        [265, 16]                 1,392\n",
       "│    │    └─GatedResidualNetwork: 3-47        [265, 16]                 1,392\n",
       "│    │    └─GatedResidualNetwork: 3-48        [265, 16]                 1,392\n",
       "├─Linear: 1-4                                 [265, 1, 1]               17\n",
       "===============================================================================================\n",
       "Total params: 75,129\n",
       "Trainable params: 75,129\n",
       "Non-trainable params: 0\n",
       "Total mult-adds (M): 19.91\n",
       "===============================================================================================\n",
       "Input size (MB): 0.04\n",
       "Forward/backward pass size (MB): 8.43\n",
       "Params size (MB): 0.30\n",
       "Estimated Total Size (MB): 8.77\n",
       "==============================================================================================="
      ]
     },
     "execution_count": 22,
     "metadata": {},
     "output_type": "execute_result"
    }
   ],
   "source": [
    "summary(model, input_shape)"
   ]
  },
  {
   "cell_type": "code",
   "execution_count": 23,
   "id": "36bddbec",
   "metadata": {
    "ExecuteTime": {
     "end_time": "2022-01-24T07:19:27.484857Z",
     "start_time": "2022-01-24T07:19:27.479347Z"
    },
    "pycharm": {
     "name": "#%%\n"
    }
   },
   "outputs": [],
   "source": [
    "optimizer = optim.Adam(model.parameters(), lr=params['LEARNING_RATE'])\n",
    "loss_fn = nn.BCEWithLogitsLoss()"
   ]
  },
  {
   "cell_type": "code",
   "execution_count": 24,
   "id": "54430530",
   "metadata": {
    "ExecuteTime": {
     "end_time": "2022-01-24T07:19:27.561051Z",
     "start_time": "2022-01-24T07:19:27.487068Z"
    },
    "pycharm": {
     "name": "#%%\n"
    }
   },
   "outputs": [],
   "source": [
    "class AverageMeter(object):\n",
    "    \"\"\"Computes and stores the average and current value\"\"\"\n",
    "    def __init__(self, name, fmt=':f'):\n",
    "        self.name = name\n",
    "        self.fmt = fmt\n",
    "        self.reset()\n",
    "\n",
    "    def reset(self):\n",
    "        self.val = 0\n",
    "        self.avg = 0\n",
    "        self.sum = 0\n",
    "        self.count = 0\n",
    "\n",
    "    def update(self, val, n=1):\n",
    "        self.val = val\n",
    "        self.sum += val * n\n",
    "        self.count += n\n",
    "        self.avg = self.sum / self.count\n",
    "\n",
    "    def __str__(self):\n",
    "        fmtstr = '{name} {val' + self.fmt + '} ({avg' + self.fmt + '})'\n",
    "        return fmtstr.format(**self.__dict__)\n",
    "\n",
    "class ProgressMeter(object):\n",
    "    def __init__(self, num_batches, meters, prefix=\"\"):\n",
    "        self.batch_fmtstr = self._get_batch_fmtstr(num_batches)\n",
    "        self.meters = meters\n",
    "        self.prefix = prefix\n",
    "\n",
    "    def display(self, batch):\n",
    "        entries = [self.prefix + self.batch_fmtstr.format(batch)]\n",
    "        entries += [str(meter) for meter in self.meters]\n",
    "        print('\\t'.join(entries))\n",
    "\n",
    "    def _get_batch_fmtstr(self, num_batches):\n",
    "        num_digits = len(str(num_batches // 1))\n",
    "        fmt = '{:' + str(num_digits) + 'd}'\n",
    "        return '[' + fmt + '/' + fmt.format(num_batches) + ']'"
   ]
  },
  {
   "cell_type": "code",
   "execution_count": 25,
   "id": "8001c471",
   "metadata": {
    "ExecuteTime": {
     "end_time": "2022-01-24T07:19:27.634492Z",
     "start_time": "2022-01-24T07:19:27.564129Z"
    },
    "pycharm": {
     "name": "#%%\n"
    }
   },
   "outputs": [],
   "source": [
    "def binary_acc(y_pred, y_test):\n",
    "    y_pred_tag = torch.round(torch.sigmoid(y_pred))\n",
    "\n",
    "    correct_results_sum = (y_pred_tag == y_test).sum().float()\n",
    "    acc = correct_results_sum/y_test.shape[0]\n",
    "    acc = torch.round(acc * 100)\n",
    "\n",
    "    return acc"
   ]
  },
  {
   "cell_type": "code",
   "execution_count": 26,
   "id": "b3bc3a62",
   "metadata": {
    "ExecuteTime": {
     "end_time": "2022-01-24T07:19:27.753163Z",
     "start_time": "2022-01-24T07:19:27.637737Z"
    },
    "pycharm": {
     "name": "#%%\n"
    }
   },
   "outputs": [],
   "source": [
    "def train(model, train_data, optimizer, loss_fn, use_fp16=True, max_norm=None, progress_display=False):\n",
    "    batch_time = AverageMeter('Time', ':6.3f')\n",
    "    losses = AverageMeter('Loss', ':.4e')\n",
    "    Acc = AverageMeter('Acc', ':6.2f')\n",
    "    progress = ProgressMeter(\n",
    "        len(train_data),\n",
    "        [batch_time, losses],\n",
    "        prefix=\"Epoch: [{}]\".format(epoch))\n",
    "\n",
    "    model.train()\n",
    "    end = time.time()\n",
    "    for idx, [x, y, w] in enumerate(train_data):\n",
    "        optimizer.zero_grad(set_to_none=True)\n",
    "        scaler = torch.cuda.amp.GradScaler()\n",
    "\n",
    "        input = x\n",
    "        target = y.unsqueeze(1).to(device, dtype=torch.float32)\n",
    "\n",
    "        with torch.cuda.amp.autocast(enabled=use_fp16):\n",
    "            predictions = model(input)\n",
    "            train_loss = loss_fn(predictions, target)\n",
    "        if use_fp16:\n",
    "            scaler.scale(train_loss).backward()\n",
    "            if max_norm is not None:\n",
    "                scaler.unscale_(optimizer)\n",
    "                torch.nn.utils.clip_grad_norm_(model.parameters(), max_norm)\n",
    "            scaler.step(optimizer)\n",
    "            scaler.update()\n",
    "        else:\n",
    "            train_loss.backward()\n",
    "            if max_norm is not None:\n",
    "                torch.nn.utils.clip_grad_norm_(model.parameters(), max_norm)\n",
    "            optimizer.step()\n",
    "        acc = binary_acc(predictions, target)\n",
    "        Acc.update(acc, input.size(0))\n",
    "        losses.update(train_loss.item(), input.size(0))\n",
    "        # measure elapsed time\n",
    "        batch_time.update(time.time() - end)\n",
    "        end = time.time()\n",
    "\n",
    "        if progress_display == True and idx % 50 == 0:\n",
    "            progress.display(idx)\n",
    "\n",
    "    return losses.avg, Acc.avg"
   ]
  },
  {
   "cell_type": "code",
   "execution_count": 27,
   "id": "0ecdcc1d",
   "metadata": {
    "ExecuteTime": {
     "end_time": "2022-01-24T07:19:27.835406Z",
     "start_time": "2022-01-24T07:19:27.757539Z"
    },
    "pycharm": {
     "name": "#%%\n"
    }
   },
   "outputs": [],
   "source": [
    "def validation(model, val_data, loss_fn):\n",
    "    losses = AverageMeter('Loss', ':.4e')\n",
    "    Acc = AverageMeter('Acc', ':6.2f')\n",
    "    model.eval()\n",
    "    val_loss = 0\n",
    "    for idx, [x, y, w] in enumerate(val_data):\n",
    "        input = x\n",
    "        target = y.unsqueeze(1).to(device, dtype=torch.float32)\n",
    "        with torch.no_grad():\n",
    "            predictions = model(input)\n",
    "            val_loss = loss_fn(predictions, target)\n",
    "        acc = binary_acc(predictions, target)\n",
    "        Acc.update(acc, input.size(0))\n",
    "        losses.update(val_loss.item(), input.size(0))\n",
    "\n",
    "    return losses.avg, Acc.avg"
   ]
  },
  {
   "cell_type": "code",
   "execution_count": 28,
   "id": "fb2ac651",
   "metadata": {
    "ExecuteTime": {
     "end_time": "2022-01-24T07:19:27.935454Z",
     "start_time": "2022-01-24T07:19:27.839047Z"
    },
    "pycharm": {
     "name": "#%%\n"
    }
   },
   "outputs": [],
   "source": [
    "class EarlyStopping():\n",
    "    def __init__(self, patience=0, verbose=0):\n",
    "        self._step = 0\n",
    "        self._loss = float('inf')\n",
    "        self.patience = patience\n",
    "        self.verbose = verbose\n",
    "\n",
    "    def validate(self, loss):\n",
    "        if self._loss < loss:\n",
    "            self._step += 1\n",
    "            if self._step > self.patience:\n",
    "                if self.verbose:\n",
    "                    print(f'\\n Training process is stopped early....')\n",
    "                return True\n",
    "        else:\n",
    "            self._step = 0\n",
    "            self._loss = loss\n",
    "\n",
    "        return False"
   ]
  },
  {
   "cell_type": "code",
   "execution_count": 29,
   "id": "2d761c03",
   "metadata": {
    "ExecuteTime": {
     "end_time": "2022-01-24T07:34:51.529108Z",
     "start_time": "2022-01-24T07:19:27.938935Z"
    },
    "pycharm": {
     "is_executing": true,
     "name": "#%%\n"
    }
   },
   "outputs": [
    {
     "name": "stdout",
     "output_type": "stream",
     "text": [
      "[Train] Epoch :  1   Train Loss: 0.1719  Train Acc: 94.28  Valid Loss: 0.1335  Valid Acc: 94.71\n",
      "[Train] Epoch :  2   Train Loss: 0.1304  Train Acc: 94.94  Valid Loss: 0.1301  Valid Acc: 94.9\n",
      "[Train] Epoch :  3   Train Loss: 0.1281  Train Acc: 95.0  Valid Loss: 0.1298  Valid Acc: 95.0\n",
      "[Train] Epoch :  4   Train Loss: 0.1268  Train Acc: 95.03  Valid Loss: 0.1288  Valid Acc: 94.94\n",
      "[Train] Epoch :  5   Train Loss: 0.1256  Train Acc: 95.07  Valid Loss: 0.1271  Valid Acc: 95.04\n",
      "[Train] Epoch :  6   Train Loss: 0.1248  Train Acc: 95.08  Valid Loss: 0.1272  Valid Acc: 95.06\n",
      "[Train] Epoch :  7   Train Loss: 0.1239  Train Acc: 95.11  Valid Loss: 0.1264  Valid Acc: 95.06\n",
      "[Train] Epoch :  8   Train Loss: 0.1227  Train Acc: 95.15  Valid Loss: 0.1259  Valid Acc: 95.06\n",
      "[Train] Epoch :  9   Train Loss: 0.122  Train Acc: 95.16  Valid Loss: 0.1253  Valid Acc: 95.06\n",
      "[Train] Epoch : 10   Train Loss: 0.1212  Train Acc: 95.21  Valid Loss: 0.1246  Valid Acc: 95.13\n",
      "[Train] Epoch : 11   Train Loss: 0.12  Train Acc: 95.29  Valid Loss: 0.1256  Valid Acc: 94.9\n",
      "[Train] Epoch : 12   Train Loss: 0.1173  Train Acc: 95.38  Valid Loss: 0.1239  Valid Acc: 95.3\n",
      "[Train] Epoch : 13   Train Loss: 0.1164  Train Acc: 95.44  Valid Loss: 0.1208  Valid Acc: 95.3\n",
      "[Train] Epoch : 14   Train Loss: 0.1156  Train Acc: 95.47  Valid Loss: 0.1202  Valid Acc: 95.29\n",
      "[Train] Epoch : 15   Train Loss: 0.1153  Train Acc: 95.47  Valid Loss: 0.1222  Valid Acc: 95.28\n",
      "[Train] Epoch : 16   Train Loss: 0.1148  Train Acc: 95.47  Valid Loss: 0.121  Valid Acc: 95.33\n",
      "[Train] Epoch : 17   Train Loss: 0.1143  Train Acc: 95.57  Valid Loss: 0.1199  Valid Acc: 95.29\n",
      "[Train] Epoch : 18   Train Loss: 0.1141  Train Acc: 95.5  Valid Loss: 0.1198  Valid Acc: 95.31\n",
      "[Train] Epoch : 19   Train Loss: 0.1142  Train Acc: 95.47  Valid Loss: 0.1202  Valid Acc: 95.33\n",
      "[Train] Epoch : 20   Train Loss: 0.1133  Train Acc: 95.56  Valid Loss: 0.1187  Valid Acc: 95.46\n",
      "CPU times: user 15min 23s, sys: 24.8 s, total: 15min 48s\n",
      "Wall time: 15min 23s\n"
     ]
    }
   ],
   "source": [
    "%%time\n",
    "best = {\"acc\": sys.float_info.min}\n",
    "history = dict()\n",
    "early_stopping = EarlyStopping(patience=5, verbose=1)\n",
    "\n",
    "for epoch in range(1, params['NUM_EPOCHS']+1):\n",
    "    epoch_loss, epoch_acc = train(model, train_loader, optimizer, loss_fn, use_fp16=False)\n",
    "    val_loss, val_acc = validation(model, valid_loader, loss_fn)\n",
    "\n",
    "    history.setdefault('loss', []).append(epoch_loss)\n",
    "    history.setdefault('val_loss', []).append(val_loss)\n",
    "    history.setdefault('accuracy', []).append(epoch_acc)\n",
    "    history.setdefault('val_accuracy', []).append(val_acc)\n",
    "\n",
    "    print(f\"[Train] Epoch : {epoch:^3}\"\n",
    "          f\"  Train Loss: {epoch_loss:.4}\"\n",
    "          f\"  Train Acc: {epoch_acc:.4}\"\n",
    "          f\"  Valid Loss: {val_loss:.4}\"\n",
    "          f\"  Valid Acc: {val_acc:.4}\")\n",
    "\n",
    "    if val_acc > best[\"acc\"]:\n",
    "        best[\"state\"] = model.state_dict()\n",
    "        best[\"acc\"] = val_acc\n",
    "        best[\"epoch\"] = epoch\n",
    "    if early_stopping.validate(val_loss):\n",
    "        break"
   ]
  },
  {
   "cell_type": "code",
   "execution_count": 30,
   "id": "267c6c07",
   "metadata": {
    "ExecuteTime": {
     "end_time": "2022-01-24T07:34:51.910574Z",
     "start_time": "2022-01-24T07:34:51.530820Z"
    },
    "pycharm": {
     "name": "#%%\n"
    }
   },
   "outputs": [
    {
     "data": {
      "image/png": "[encoded data removed]",
      "text/plain": [
       "<Figure size 432x288 with 1 Axes>"
      ]
     },
     "metadata": {
      "needs_background": "light"
     },
     "output_type": "display_data"
    },
    {
     "data": {
      "image/png": "[encoded data removed]",
      "text/plain": [
       "<Figure size 432x288 with 1 Axes>"
      ]
     },
     "metadata": {
      "needs_background": "light"
     },
     "output_type": "display_data"
    }
   ],
   "source": [
    "def plot_result(item):\n",
    "    plt.plot(history[item], label=item)\n",
    "    plt.plot(history[\"val_\" + item], label=\"val_\" + item)\n",
    "    plt.xlabel(\"Epochs\")\n",
    "    plt.ylabel(item)\n",
    "    plt.title(\"Train and Validation {} Over Epochs\".format(item), fontsize=14)\n",
    "    plt.legend()\n",
    "    plt.grid()\n",
    "    plt.show()\n",
    "\n",
    "\n",
    "plot_result(\"loss\")\n",
    "plot_result(\"accuracy\")"
   ]
  },
  {
   "cell_type": "markdown",
   "id": "faef9b0c",
   "metadata": {},
   "source": [
    "## Test"
   ]
  },
  {
   "cell_type": "code",
   "execution_count": 45,
   "id": "f391fe7a",
   "metadata": {
    "ExecuteTime": {
     "end_time": "2022-01-24T10:42:30.995131Z",
     "start_time": "2022-01-24T10:42:25.303311Z"
    }
   },
   "outputs": [
    {
     "name": "stdout",
     "output_type": "stream",
     "text": [
      "Loss : 0.11532411552146064, Acc : 95.53800964355469\n"
     ]
    }
   ],
   "source": [
    "losses = AverageMeter('Loss', ':.4e')\n",
    "Acc = AverageMeter('Acc', ':6.2f')\n",
    "\n",
    "model.eval()\n",
    "test_loss = 0\n",
    "predic = []\n",
    "for idx, [x, y, w] in enumerate(test_loader):\n",
    "    input = x\n",
    "    target = y.unsqueeze(1).to(device, dtype=torch.float32)\n",
    "    with torch.no_grad():\n",
    "        predictions = model(input)\n",
    "        test_loss = loss_fn(predictions, target)\n",
    "    predic.extend(torch.round(torch.sigmoid(predictions)).detach().cpu().squeeze().tolist())\n",
    "    acc = binary_acc(predictions, target)\n",
    "    Acc.update(acc, input.size(0))\n",
    "    losses.update(test_loss.item(), input.size(0))\n",
    "\n",
    "print(f'Loss : {losses.avg}, Acc : {Acc.avg}')"
   ]
  },
  {
   "cell_type": "code",
   "execution_count": 46,
   "id": "77c9b870",
   "metadata": {
    "ExecuteTime": {
     "end_time": "2022-01-24T10:42:46.694125Z",
     "start_time": "2022-01-24T10:42:46.284317Z"
    }
   },
   "outputs": [
    {
     "data": {
      "text/plain": [
       "array([[92558,  1018],\n",
       "       [ 3392,  2794]])"
      ]
     },
     "execution_count": 46,
     "metadata": {},
     "output_type": "execute_result"
    }
   ],
   "source": [
    "from sklearn.metrics import confusion_matrix\n",
    "confusion_matrix(test_data[TARGET_FEATURE_NAME].tolist(), predic)"
   ]
  },
  {
   "cell_type": "markdown",
   "id": "1115d6b4",
   "metadata": {
    "pycharm": {
     "name": "#%%\n"
    }
   },
   "source": [
    "---"
   ]
  }
 ],
 "metadata": {
  "hide_input": false,
  "kernelspec": {
   "display_name": "Python 3",
   "language": "python",
   "name": "python3"
  },
  "language_info": {
   "codemirror_mode": {
    "name": "ipython",
    "version": 3
   },
   "file_extension": ".py",
   "mimetype": "text/x-python",
   "name": "python",
   "nbconvert_exporter": "python",
   "pygments_lexer": "ipython3",
   "version": "3.6.9"
  },
  "latex_envs": {
   "LaTeX_envs_menu_present": true,
   "autoclose": false,
   "autocomplete": true,
   "bibliofile": "biblio.bib",
   "cite_by": "apalike",
   "current_citInitial": 1,
   "eqLabelWithNumbers": true,
   "eqNumInitial": 1,
   "hotkeys": {
    "equation": "Ctrl-E",
    "itemize": "Ctrl-I"
   },
   "labels_anchors": false,
   "latex_user_defs": false,
   "report_style_numbering": false,
   "user_envs_cfg": false
  },
  "nbTranslate": {
   "displayLangs": [
    "ko",
    "en"
   ],
   "hotkey": "alt-t",
   "langInMainMenu": true,
   "sourceLang": "en",
   "targetLang": "ko",
   "useGoogleTranslate": true
  },
  "toc": {
   "base_numbering": 1,
   "nav_menu": {},
   "number_sections": true,
   "sideBar": true,
   "skip_h1_title": false,
   "title_cell": "Table of Contents",
   "title_sidebar": "Contents",
   "toc_cell": false,
   "toc_position": {},
   "toc_section_display": true,
   "toc_window_display": false
  },
  "varInspector": {
   "cols": {
    "lenName": 16,
    "lenType": 16,
    "lenVar": 40
   },
   "kernels_config": {
    "python": {
     "delete_cmd_postfix": "",
     "delete_cmd_prefix": "del ",
     "library": "var_list.py",
     "varRefreshCmd": "print(var_dic_list())"
    },
    "r": {
     "delete_cmd_postfix": ") ",
     "delete_cmd_prefix": "rm(",
     "library": "var_list.r",
     "varRefreshCmd": "cat(var_dic_list()) "
    }
   },
   "types_to_exclude": [
    "module",
    "function",
    "builtin_function_or_method",
    "instance",
    "_Feature"
   ],
   "window_display": false
  }
 },
 "nbformat": 4,
 "nbformat_minor": 5
}
