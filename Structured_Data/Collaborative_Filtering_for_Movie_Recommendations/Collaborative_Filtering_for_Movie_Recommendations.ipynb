{
 "cells": [
  {
   "cell_type": "markdown",
   "id": "american-actress",
   "metadata": {},
   "source": [
    "# Collaborative Filtering for Movie Recommendations"
   ]
  },
  {
   "cell_type": "markdown",
   "id": "caroline-manner",
   "metadata": {},
   "source": [
    "## Introduction"
   ]
  },
  {
   "cell_type": "markdown",
   "id": "intimate-nomination",
   "metadata": {},
   "source": [
    "This example demonstrates Collaborative filtering using the Movielens dataset to recommend movies to users. The MovieLens ratings dataset lists the ratings given by a set of users to a set of movies. Our goal is to be able to predict ratings for movies a user has not yet watched. The movies with the highest predicted ratings can then be recommended to the user."
   ]
  },
  {
   "cell_type": "markdown",
   "id": "democratic-cooler",
   "metadata": {},
   "source": [
    "The steps in the model are as follows:\n",
    "\n",
    "1. Map user ID to a \"user vector\" via an embedding matrix\n",
    "2. Map movie ID to a \"movie vector\" via an embedding matrix\n",
    "3. Compute the dot product between the user vector and movie vector, to obtain the a match score between the user and the movie (predicted rating).\n",
    "4. Train the embeddings via gradient descent using all known user-movie pairs."
   ]
  },
  {
   "cell_type": "code",
   "execution_count": 1,
   "id": "skilled-miami",
   "metadata": {
    "ExecuteTime": {
     "end_time": "2021-12-05T15:41:28.814536Z",
     "start_time": "2021-12-05T15:41:27.781654Z"
    }
   },
   "outputs": [],
   "source": [
    "import pandas as pd\n",
    "import numpy as np\n",
    "from zipfile import ZipFile\n",
    "import random\n",
    "import os\n",
    "from urllib import request\n",
    "import sys\n",
    "import time\n",
    "\n",
    "import torch\n",
    "import torch.nn as nn\n",
    "import torch.nn.functional as F\n",
    "import torch.optim as optim\n",
    "from torch.utils.data import Dataset, DataLoader\n",
    "from torchinfo import summary\n",
    "from pathlib import Path\n",
    "import matplotlib.pyplot as plt"
   ]
  },
  {
   "cell_type": "code",
   "execution_count": 2,
   "id": "critical-nicaragua",
   "metadata": {
    "ExecuteTime": {
     "end_time": "2021-12-05T15:41:28.825749Z",
     "start_time": "2021-12-05T15:41:28.816172Z"
    }
   },
   "outputs": [],
   "source": [
    "device = torch.device(\"cuda\" if torch.cuda.is_available() else \"cpu\")"
   ]
  },
  {
   "cell_type": "code",
   "execution_count": 3,
   "id": "special-timber",
   "metadata": {
    "ExecuteTime": {
     "end_time": "2021-12-05T15:41:28.837038Z",
     "start_time": "2021-12-05T15:41:28.830154Z"
    }
   },
   "outputs": [],
   "source": [
    "def set_seed(random_seed):\n",
    "    torch.manual_seed(random_seed)\n",
    "    torch.cuda.manual_seed(random_seed)\n",
    "    torch.cuda.manual_seed_all(random_seed)  # if use multi-GPU\n",
    "    torch.backends.cudnn.deterministic = True\n",
    "    torch.backends.cudnn.benchmark = True\n",
    "    np.random.seed(random_seed)\n",
    "    random.seed(random_seed)\n",
    "\n",
    "set_seed(72)"
   ]
  },
  {
   "cell_type": "code",
   "execution_count": 4,
   "id": "waiting-button",
   "metadata": {
    "ExecuteTime": {
     "end_time": "2021-12-05T15:41:28.848899Z",
     "start_time": "2021-12-05T15:41:28.838644Z"
    }
   },
   "outputs": [
    {
     "name": "stdout",
     "output_type": "stream",
     "text": [
      "The folder already exists.\n",
      "The File already exists.\n"
     ]
    }
   ],
   "source": [
    "# Download the actual data from http://files.grouplens.org/datasets/movielens/ml-latest-small.zip\"\n",
    "# Use the ratings.csv file\n",
    "annotation_folder = os.path.abspath(\".\") + \"/dataset/\"\n",
    "file_name = \"ml-latest-small.zip\"\n",
    "url = \"http://files.grouplens.org/datasets/movielens/ml-latest-small.zip\"\n",
    "savefile = os.path.join(annotation_folder, file_name)\n",
    "\n",
    "if not os.path.exists(annotation_folder):\n",
    "    os.makedirs(annotation_folder)\n",
    "    print('Folder creation complete!')\n",
    "else:\n",
    "    print('The folder already exists.')\n",
    "    \n",
    "if not os.path.isfile(savefile):\n",
    "    request.urlretrieve(url, savefile)\n",
    "    with ZipFile(savefile, 'r') as zip_ref:\n",
    "        zip_ref.extractall(annotation_folder)\n",
    "    print('File creation complete!')\n",
    "else:\n",
    "    print('The File already exists.')"
   ]
  },
  {
   "cell_type": "code",
   "execution_count": 5,
   "id": "empirical-limitation",
   "metadata": {
    "ExecuteTime": {
     "end_time": "2021-12-05T15:41:28.912209Z",
     "start_time": "2021-12-05T15:41:28.850385Z"
    }
   },
   "outputs": [
    {
     "data": {
      "text/html": [
       "<div>\n",
       "<style scoped>\n",
       "    .dataframe tbody tr th:only-of-type {\n",
       "        vertical-align: middle;\n",
       "    }\n",
       "\n",
       "    .dataframe tbody tr th {\n",
       "        vertical-align: top;\n",
       "    }\n",
       "\n",
       "    .dataframe thead th {\n",
       "        text-align: right;\n",
       "    }\n",
       "</style>\n",
       "<table border=\"1\" class=\"dataframe\">\n",
       "  <thead>\n",
       "    <tr style=\"text-align: right;\">\n",
       "      <th></th>\n",
       "      <th>userId</th>\n",
       "      <th>movieId</th>\n",
       "      <th>rating</th>\n",
       "      <th>timestamp</th>\n",
       "    </tr>\n",
       "  </thead>\n",
       "  <tbody>\n",
       "    <tr>\n",
       "      <th>0</th>\n",
       "      <td>1</td>\n",
       "      <td>1</td>\n",
       "      <td>4.0</td>\n",
       "      <td>964982703</td>\n",
       "    </tr>\n",
       "    <tr>\n",
       "      <th>1</th>\n",
       "      <td>1</td>\n",
       "      <td>3</td>\n",
       "      <td>4.0</td>\n",
       "      <td>964981247</td>\n",
       "    </tr>\n",
       "    <tr>\n",
       "      <th>2</th>\n",
       "      <td>1</td>\n",
       "      <td>6</td>\n",
       "      <td>4.0</td>\n",
       "      <td>964982224</td>\n",
       "    </tr>\n",
       "    <tr>\n",
       "      <th>3</th>\n",
       "      <td>1</td>\n",
       "      <td>47</td>\n",
       "      <td>5.0</td>\n",
       "      <td>964983815</td>\n",
       "    </tr>\n",
       "    <tr>\n",
       "      <th>4</th>\n",
       "      <td>1</td>\n",
       "      <td>50</td>\n",
       "      <td>5.0</td>\n",
       "      <td>964982931</td>\n",
       "    </tr>\n",
       "    <tr>\n",
       "      <th>...</th>\n",
       "      <td>...</td>\n",
       "      <td>...</td>\n",
       "      <td>...</td>\n",
       "      <td>...</td>\n",
       "    </tr>\n",
       "    <tr>\n",
       "      <th>100831</th>\n",
       "      <td>610</td>\n",
       "      <td>166534</td>\n",
       "      <td>4.0</td>\n",
       "      <td>1493848402</td>\n",
       "    </tr>\n",
       "    <tr>\n",
       "      <th>100832</th>\n",
       "      <td>610</td>\n",
       "      <td>168248</td>\n",
       "      <td>5.0</td>\n",
       "      <td>1493850091</td>\n",
       "    </tr>\n",
       "    <tr>\n",
       "      <th>100833</th>\n",
       "      <td>610</td>\n",
       "      <td>168250</td>\n",
       "      <td>5.0</td>\n",
       "      <td>1494273047</td>\n",
       "    </tr>\n",
       "    <tr>\n",
       "      <th>100834</th>\n",
       "      <td>610</td>\n",
       "      <td>168252</td>\n",
       "      <td>5.0</td>\n",
       "      <td>1493846352</td>\n",
       "    </tr>\n",
       "    <tr>\n",
       "      <th>100835</th>\n",
       "      <td>610</td>\n",
       "      <td>170875</td>\n",
       "      <td>3.0</td>\n",
       "      <td>1493846415</td>\n",
       "    </tr>\n",
       "  </tbody>\n",
       "</table>\n",
       "<p>100836 rows × 4 columns</p>\n",
       "</div>"
      ],
      "text/plain": [
       "        userId  movieId  rating   timestamp\n",
       "0            1        1     4.0   964982703\n",
       "1            1        3     4.0   964981247\n",
       "2            1        6     4.0   964982224\n",
       "3            1       47     5.0   964983815\n",
       "4            1       50     5.0   964982931\n",
       "...        ...      ...     ...         ...\n",
       "100831     610   166534     4.0  1493848402\n",
       "100832     610   168248     5.0  1493850091\n",
       "100833     610   168250     5.0  1494273047\n",
       "100834     610   168252     5.0  1493846352\n",
       "100835     610   170875     3.0  1493846415\n",
       "\n",
       "[100836 rows x 4 columns]"
      ]
     },
     "execution_count": 5,
     "metadata": {},
     "output_type": "execute_result"
    }
   ],
   "source": [
    "df = pd.read_csv(os.path.join(annotation_folder, \"ml-latest-small/ratings.csv\"))\n",
    "df"
   ]
  },
  {
   "cell_type": "code",
   "execution_count": 6,
   "id": "amber-november",
   "metadata": {
    "ExecuteTime": {
     "end_time": "2021-12-05T15:41:28.962122Z",
     "start_time": "2021-12-05T15:41:28.913725Z"
    }
   },
   "outputs": [
    {
     "name": "stdout",
     "output_type": "stream",
     "text": [
      "Number of users: 610, Number of Movies: 9724, Min rating: 0.5, Max rating: 5.0\n"
     ]
    }
   ],
   "source": [
    "user_ids = df[\"userId\"].unique().tolist()\n",
    "user2user_encoded = {x: i for i, x in enumerate(user_ids)}\n",
    "userencoded2user = {i: x for i, x in enumerate(user_ids)}\n",
    "movie_ids = df[\"movieId\"].unique().tolist()\n",
    "movie2movie_encoded = {x: i for i, x in enumerate(movie_ids)}\n",
    "movie_encoded2movie = {i: x for i, x in enumerate(movie_ids)}\n",
    "df[\"user\"] = df[\"userId\"].map(user2user_encoded)\n",
    "df[\"movie\"] = df[\"movieId\"].map(movie2movie_encoded)\n",
    "\n",
    "num_users = len(user2user_encoded)\n",
    "num_movies = len(movie_encoded2movie)\n",
    "df[\"rating\"] = df[\"rating\"].values.astype(np.float32)\n",
    "# min and max ratings will be used to normalize the ratings later\n",
    "min_rating = min(df[\"rating\"])\n",
    "max_rating = max(df[\"rating\"])\n",
    "\n",
    "print(\n",
    "    \"Number of users: {}, Number of Movies: {}, Min rating: {}, Max rating: {}\".format(\n",
    "        num_users, num_movies, min_rating, max_rating\n",
    "    )\n",
    ")\n"
   ]
  },
  {
   "cell_type": "code",
   "execution_count": 7,
   "id": "objective-priority",
   "metadata": {
    "ExecuteTime": {
     "end_time": "2021-12-05T15:41:29.030404Z",
     "start_time": "2021-12-05T15:41:28.965005Z"
    }
   },
   "outputs": [],
   "source": [
    "df = df.sample(frac=1, random_state=42)\n",
    "x = df[[\"user\", \"movie\"]].values\n",
    "# Normalize the targets between 0 and 1. Makes it easy to train.\n",
    "y = df[\"rating\"].apply(lambda x: (x - min_rating) / (max_rating - min_rating)).values\n",
    "# Assuming training on 90% of the data and validating on 10%.\n",
    "train_indices = int(0.9 * df.shape[0])\n",
    "x_train, x_val, y_train, y_val = (\n",
    "    x[:train_indices],\n",
    "    x[train_indices:],\n",
    "    y[:train_indices],\n",
    "    y[train_indices:],\n",
    ")"
   ]
  },
  {
   "cell_type": "code",
   "execution_count": 8,
   "id": "coordinated-story",
   "metadata": {
    "ExecuteTime": {
     "end_time": "2021-12-05T15:41:29.035836Z",
     "start_time": "2021-12-05T15:41:29.032140Z"
    }
   },
   "outputs": [
    {
     "data": {
      "text/plain": [
       "(array([[ 431, 4730],\n",
       "        [ 287,  474],\n",
       "        [ 598, 2631],\n",
       "        ...,\n",
       "        [ 589, 5054],\n",
       "        [ 135,  636],\n",
       "        [ 274, 3747]]),\n",
       " array([0.88888889, 0.55555556, 0.55555556, ..., 0.55555556, 1.        ,\n",
       "        0.11111111]))"
      ]
     },
     "execution_count": 8,
     "metadata": {},
     "output_type": "execute_result"
    }
   ],
   "source": [
    "x_train, y_train"
   ]
  },
  {
   "cell_type": "code",
   "execution_count": 9,
   "id": "disturbed-render",
   "metadata": {
    "ExecuteTime": {
     "end_time": "2021-12-05T15:41:29.043202Z",
     "start_time": "2021-12-05T15:41:29.037301Z"
    }
   },
   "outputs": [],
   "source": [
    "class CustomDataset(Dataset): \n",
    "    def __init__(self, x_tensor, y_tensor):\n",
    "        self.x = x_tensor\n",
    "        self.y = y_tensor\n",
    "\n",
    "    def __len__(self): \n",
    "        return len(self.y)\n",
    "\n",
    "    def __getitem__(self, index): \n",
    "        return self.x[index], self.y[index]"
   ]
  },
  {
   "cell_type": "code",
   "execution_count": 10,
   "id": "fiscal-boulder",
   "metadata": {
    "ExecuteTime": {
     "end_time": "2021-12-05T15:41:29.051149Z",
     "start_time": "2021-12-05T15:41:29.044532Z"
    }
   },
   "outputs": [],
   "source": [
    "params = {'batch_size': 64,\n",
    "          'shuffle': True,\n",
    "          'num_workers': 8,\n",
    "          'pin_memory' : True}\n",
    "\n",
    "x_train = torch.from_numpy(x_train)\n",
    "y_train = torch.from_numpy(y_train).float()\n",
    "x_val = torch.from_numpy(x_val)\n",
    "y_val = torch.from_numpy(y_val).float()\n",
    "\n",
    "tr_dataset = CustomDataset(x_train, y_train)\n",
    "val_dataset = CustomDataset(x_val, y_val)\n",
    "trainloader = DataLoader(dataset=tr_dataset, **params)\n",
    "validloader = DataLoader(dataset=val_dataset, **params)"
   ]
  },
  {
   "cell_type": "code",
   "execution_count": 11,
   "id": "advanced-shower",
   "metadata": {
    "ExecuteTime": {
     "end_time": "2021-12-05T15:41:31.822094Z",
     "start_time": "2021-12-05T15:41:29.052452Z"
    }
   },
   "outputs": [],
   "source": [
    "EMBEDDING_SIZE = 50\n",
    "\n",
    "\n",
    "class RecommenderNet(nn.Module):\n",
    "    def __init__(self, num_users, num_movies, embedding_size, **kwargs):\n",
    "        super(RecommenderNet, self).__init__(**kwargs)\n",
    "        self.num_users = num_users\n",
    "        self.num_movies = num_movies\n",
    "        self.embedding_size = embedding_size\n",
    "        self.user_embedding = nn.Embedding(num_users, embedding_size)\n",
    "        self.user_bias = nn.Embedding(num_users, 1)\n",
    "        self.movie_embedding = nn.Embedding(num_movies,embedding_size)\n",
    "        self.movie_bias = nn.Embedding(num_movies, 1)\n",
    "        \n",
    "        torch.nn.init.kaiming_normal_(self.user_embedding.weight)\n",
    "        torch.nn.init.kaiming_normal_(self.movie_embedding.weight)\n",
    "        \n",
    "        self.sigmoid=nn.Sigmoid()\n",
    "\n",
    "    def forward(self, inputs):\n",
    "        user_vector = self.user_embedding(inputs[:, 0])\n",
    "        user_bias = self.user_bias(inputs[:, 0])\n",
    "        movie_vector = self.movie_embedding(inputs[:, 1])\n",
    "        movie_bias = self.movie_bias(inputs[:, 1])\n",
    "        dot_user_movie = torch.tensordot(user_vector, movie_vector, 2)\n",
    "        # Add all the components (including bias)\n",
    "        x = dot_user_movie + user_bias + movie_bias\n",
    "        # The sigmoid activation forces the rating to between 0 and 1\n",
    "        x = self.sigmoid(x)\n",
    "        return x\n",
    "\n",
    "\n",
    "model = RecommenderNet(num_users, num_movies, EMBEDDING_SIZE).to(device)\n",
    "optimizer = torch.optim.Adam(model.parameters(), lr=0.001, eps=1e-7, weight_decay=1e-6)"
   ]
  },
  {
   "cell_type": "code",
   "execution_count": 12,
   "id": "virtual-compact",
   "metadata": {
    "ExecuteTime": {
     "end_time": "2021-12-05T15:41:31.826694Z",
     "start_time": "2021-12-05T15:41:31.824002Z"
    }
   },
   "outputs": [],
   "source": [
    "EPOCHS = 20\n",
    "loss_fn = nn.BCELoss()"
   ]
  },
  {
   "cell_type": "code",
   "execution_count": 13,
   "id": "alien-dancing",
   "metadata": {
    "ExecuteTime": {
     "end_time": "2021-12-05T15:41:31.839462Z",
     "start_time": "2021-12-05T15:41:31.827996Z"
    }
   },
   "outputs": [],
   "source": [
    "class AverageMeter(object):\n",
    "    \"\"\"Computes and stores the average and current value\"\"\"\n",
    "    def __init__(self, name, fmt=':f'):\n",
    "        self.name = name\n",
    "        self.fmt = fmt\n",
    "        self.reset()\n",
    "\n",
    "    def reset(self):\n",
    "        self.val = 0\n",
    "        self.avg = 0\n",
    "        self.sum = 0\n",
    "        self.count = 0\n",
    "\n",
    "    def update(self, val, n=1):\n",
    "        self.val = val\n",
    "        self.sum += val * n\n",
    "        self.count += n\n",
    "        self.avg = self.sum / self.count\n",
    "\n",
    "    def __str__(self):\n",
    "        fmtstr = '{name} {val' + self.fmt + '} ({avg' + self.fmt + '})'\n",
    "        return fmtstr.format(**self.__dict__)\n",
    "\n",
    "class ProgressMeter(object):\n",
    "    def __init__(self, num_batches, meters, prefix=\"\"):\n",
    "        self.batch_fmtstr = self._get_batch_fmtstr(num_batches)\n",
    "        self.meters = meters\n",
    "        self.prefix = prefix\n",
    "\n",
    "    def display(self, batch):\n",
    "        entries = [self.prefix + self.batch_fmtstr.format(batch)]\n",
    "        entries += [str(meter) for meter in self.meters]\n",
    "        print('\\t'.join(entries))\n",
    "\n",
    "    def _get_batch_fmtstr(self, num_batches):\n",
    "        num_digits = len(str(num_batches // 1))\n",
    "        fmt = '{:' + str(num_digits) + 'd}'\n",
    "        return '[' + fmt + '/' + fmt.format(num_batches) + ']'"
   ]
  },
  {
   "cell_type": "code",
   "execution_count": 14,
   "id": "qualified-affect",
   "metadata": {
    "ExecuteTime": {
     "end_time": "2021-12-05T15:41:31.856402Z",
     "start_time": "2021-12-05T15:41:31.841197Z"
    }
   },
   "outputs": [],
   "source": [
    "def train(model, train_data, optimizer, loss_fn, use_fp16=True, max_norm=None, progress_display=False):\n",
    "    batch_time = AverageMeter('Time', ':6.3f')\n",
    "    losses = AverageMeter('Loss', ':.4e')\n",
    "    progress = ProgressMeter(\n",
    "        len(train_data),\n",
    "        [batch_time, losses],\n",
    "        prefix=\"Epoch: [{}]\".format(epoch))\n",
    "\n",
    "    model.train()\n",
    "    end = time.time()\n",
    "    for idx, [x, y] in enumerate(train_data):\n",
    "        optimizer.zero_grad(set_to_none=True)\n",
    "        scaler = torch.cuda.amp.GradScaler()\n",
    "        \n",
    "        input = x.to(device)\n",
    "        target = y.to(device)\n",
    "        \n",
    "        with torch.cuda.amp.autocast(enabled=use_fp16):\n",
    "            predictions = model(input).squeeze()\n",
    "            train_loss = loss_fn(predictions, target)\n",
    "        if use_fp16:\n",
    "            scaler.scale(train_loss).backward()\n",
    "            if max_norm is not None:\n",
    "                scaler.unscale_(optimizer)\n",
    "                torch.nn.utils.clip_grad_norm_(model.parameters(), max_norm)\n",
    "            scaler.step(optimizer)\n",
    "            scaler.update()\n",
    "        else:\n",
    "            train_loss.backward()\n",
    "            if max_norm is not None:\n",
    "                torch.nn.utils.clip_grad_norm_(model.parameters(), max_norm)\n",
    "            optimizer.step()\n",
    "            \n",
    "        losses.update(train_loss.item(), input.size(0))\n",
    "        # measure elapsed time\n",
    "        batch_time.update(time.time() - end)\n",
    "        end = time.time()\n",
    "\n",
    "        if progress_display == True and idx % 5 == 0:\n",
    "            progress.display(idx)\n",
    "        \n",
    "    return losses.avg"
   ]
  },
  {
   "cell_type": "code",
   "execution_count": 15,
   "id": "boring-airline",
   "metadata": {
    "ExecuteTime": {
     "end_time": "2021-12-05T15:41:31.869097Z",
     "start_time": "2021-12-05T15:41:31.858139Z"
    }
   },
   "outputs": [],
   "source": [
    "def validation(model, val_data, loss_fn):\n",
    "    losses = AverageMeter('Loss', ':.4e')\n",
    "    model.eval()\n",
    "    val_loss = 0\n",
    "    for idx, [x, y] in enumerate(val_data):\n",
    "        input = x.to(device)\n",
    "        target = y.to(device)\n",
    "        with torch.no_grad():\n",
    "            predictions = model(input).squeeze()\n",
    "            val_loss = loss_fn(predictions, target)\n",
    "        losses.update(val_loss.item(), input.size(0))\n",
    "        \n",
    "    return losses.avg"
   ]
  },
  {
   "cell_type": "code",
   "execution_count": 16,
   "id": "sharing-version",
   "metadata": {
    "ExecuteTime": {
     "end_time": "2021-12-05T15:42:40.501293Z",
     "start_time": "2021-12-05T15:41:31.870758Z"
    }
   },
   "outputs": [
    {
     "name": "stdout",
     "output_type": "stream",
     "text": [
      "[Train] Epoch :  1   Train Loss: 1.123  Valid Loss: 1.041\n",
      "[Train] Epoch :  2   Train Loss: 1.063  Valid Loss: 1.064\n",
      "[Train] Epoch :  3   Train Loss: 1.093  Valid Loss: 0.9118\n",
      "[Train] Epoch :  4   Train Loss: 1.05  Valid Loss: 0.9151\n",
      "[Train] Epoch :  5   Train Loss: 1.004  Valid Loss: 0.8317\n",
      "[Train] Epoch :  6   Train Loss: 0.9482  Valid Loss: 0.8415\n",
      "[Train] Epoch :  7   Train Loss: 0.8821  Valid Loss: 0.7659\n",
      "[Train] Epoch :  8   Train Loss: 0.8446  Valid Loss: 0.7815\n",
      "[Train] Epoch :  9   Train Loss: 0.805  Valid Loss: 0.7283\n",
      "[Train] Epoch : 10   Train Loss: 0.7803  Valid Loss: 0.7664\n",
      "[Train] Epoch : 11   Train Loss: 0.7717  Valid Loss: 0.6996\n",
      "[Train] Epoch : 12   Train Loss: 0.7333  Valid Loss: 0.7171\n",
      "[Train] Epoch : 13   Train Loss: 0.7169  Valid Loss: 0.6745\n",
      "[Train] Epoch : 14   Train Loss: 0.6998  Valid Loss: 0.7078\n",
      "[Train] Epoch : 15   Train Loss: 0.6929  Valid Loss: 0.6599\n",
      "[Train] Epoch : 16   Train Loss: 0.675  Valid Loss: 0.696\n",
      "[Train] Epoch : 17   Train Loss: 0.6703  Valid Loss: 0.6567\n",
      "[Train] Epoch : 18   Train Loss: 0.6553  Valid Loss: 0.6751\n",
      "[Train] Epoch : 19   Train Loss: 0.6566  Valid Loss: 0.647\n",
      "[Train] Epoch : 20   Train Loss: 0.648  Valid Loss: 0.6658\n",
      "CPU times: user 1min 8s, sys: 19.4 s, total: 1min 27s\n",
      "Wall time: 1min 8s\n"
     ]
    }
   ],
   "source": [
    "%%time\n",
    "best = {\"val_loss\": sys.float_info.min}\n",
    "history = dict()\n",
    "# early_stopping = EarlyStopping(patience=10, verbose=1)\n",
    "\n",
    "for epoch in range(1, EPOCHS+1):\n",
    "    epoch_loss = train(model, trainloader, optimizer, loss_fn, use_fp16=False)\n",
    "    val_loss = validation(model, validloader, loss_fn)\n",
    "    \n",
    "    history.setdefault('loss', []).append(epoch_loss) \n",
    "    history.setdefault('val_loss', []).append(val_loss)\n",
    "    \n",
    "    print(f\"[Train] Epoch : {epoch:^3}\"\\\n",
    "        f\"  Train Loss: {epoch_loss:.4}\"\\\n",
    "        f\"  Valid Loss: {val_loss:.4}\")\n",
    "\n",
    "    if val_loss > best[\"val_loss\"]:\n",
    "            best[\"state\"] = model.state_dict()\n",
    "            best[\"epoch\"] = epoch\n",
    "#     if early_stopping.validate(val_loss):\n",
    "#         break"
   ]
  },
  {
   "cell_type": "code",
   "execution_count": 17,
   "id": "elementary-thunder",
   "metadata": {
    "ExecuteTime": {
     "end_time": "2021-12-05T15:42:40.668258Z",
     "start_time": "2021-12-05T15:42:40.502818Z"
    }
   },
   "outputs": [
    {
     "data": {
      "image/png": "[encoded data removed]",
      "text/plain": [
       "<Figure size 432x288 with 1 Axes>"
      ]
     },
     "metadata": {
      "needs_background": "light"
     },
     "output_type": "display_data"
    }
   ],
   "source": [
    "plt.plot(history[\"loss\"])\n",
    "plt.plot(history[\"val_loss\"])\n",
    "plt.title(\"model loss\")\n",
    "plt.ylabel(\"loss\")\n",
    "plt.xlabel(\"epoch\")\n",
    "plt.legend([\"train\", \"test\"], loc=\"upper left\")\n",
    "plt.show()"
   ]
  },
  {
   "cell_type": "code",
   "execution_count": 18,
   "id": "constitutional-access",
   "metadata": {
    "ExecuteTime": {
     "end_time": "2021-12-05T15:42:40.740658Z",
     "start_time": "2021-12-05T15:42:40.669619Z"
    }
   },
   "outputs": [
    {
     "name": "stdout",
     "output_type": "stream",
     "text": [
      "Showing recommendations for user: 163\n",
      "====================================\n",
      "Movies with high ratings from user\n",
      "--------------------------------\n",
      "George of the Jungle (1997) : Children|Comedy\n",
      "Air Force One (1997) : Action|Thriller\n",
      "Game, The (1997) : Drama|Mystery|Thriller\n",
      "Good Will Hunting (1997) : Drama|Romance\n",
      "As Good as It Gets (1997) : Comedy|Drama|Romance\n",
      "--------------------------------\n",
      "Top 10 movie recommendations\n",
      "--------------------------------\n",
      "Panic (2000) : Drama\n",
      "Lumumba (2000) : Drama\n",
      "Pierrot le fou (1965) : Crime|Drama\n",
      "Enter the Void (2009) : Drama\n",
      "Mesrine: Public Enemy #1 (L'ennemi public n°1) (2008) : Action|Crime\n",
      "30 Minutes or Less (2011) : Action|Comedy|Crime\n",
      "Parental Guidance (2012) : Comedy\n",
      "L.A. Slasher (2015) : Comedy|Crime|Fantasy\n",
      "The Spirit of Christmas (1995) : Animation|Comedy\n",
      "Three Billboards Outside Ebbing, Missouri (2017) : Crime|Drama\n"
     ]
    }
   ],
   "source": [
    "movie_df = pd.read_csv(os.path.join(annotation_folder, \"ml-latest-small/movies.csv\"))\n",
    "\n",
    "# Let us get a user and see the top recommendations.\n",
    "user_id = df.userId.sample(1).iloc[0]\n",
    "movies_watched_by_user = df[df.userId == user_id]\n",
    "movies_not_watched = movie_df[\n",
    "    ~movie_df[\"movieId\"].isin(movies_watched_by_user.movieId.values)\n",
    "][\"movieId\"]\n",
    "movies_not_watched = list(\n",
    "    set(movies_not_watched).intersection(set(movie2movie_encoded.keys()))\n",
    ")\n",
    "movies_not_watched = [[movie2movie_encoded.get(x)] for x in movies_not_watched]\n",
    "user_encoder = user2user_encoded.get(user_id)\n",
    "user_movie_array = torch.from_numpy(np.hstack(\n",
    "    ([[user_encoder]] * len(movies_not_watched), movies_not_watched)\n",
    ")).to(device)\n",
    "ratings = model(user_movie_array).squeeze().cpu().detach().numpy()\n",
    "top_ratings_indices = ratings.argsort()[-10:][::-1]\n",
    "recommended_movie_ids = [\n",
    "    movie_encoded2movie.get(movies_not_watched[x][0]) for x in top_ratings_indices\n",
    "]\n",
    "\n",
    "print(\"Showing recommendations for user: {}\".format(user_id))\n",
    "print(\"====\" * 9)\n",
    "print(\"Movies with high ratings from user\")\n",
    "print(\"----\" * 8)\n",
    "top_movies_user = (\n",
    "    movies_watched_by_user.sort_values(by=\"rating\", ascending=False)\n",
    "    .head(5)\n",
    "    .movieId.values\n",
    ")\n",
    "movie_df_rows = movie_df[movie_df[\"movieId\"].isin(top_movies_user)]\n",
    "for row in movie_df_rows.itertuples():\n",
    "    print(row.title, \":\", row.genres)\n",
    "\n",
    "print(\"----\" * 8)\n",
    "print(\"Top 10 movie recommendations\")\n",
    "print(\"----\" * 8)\n",
    "recommended_movies = movie_df[movie_df[\"movieId\"].isin(recommended_movie_ids)]\n",
    "for row in recommended_movies.itertuples():\n",
    "    print(row.title, \":\", row.genres)"
   ]
  },
  {
   "cell_type": "markdown",
   "id": "fallen-monster",
   "metadata": {},
   "source": [
    "---"
   ]
  }
 ],
 "metadata": {
  "hide_input": false,
  "kernelspec": {
   "display_name": "Python 3",
   "language": "python",
   "name": "python3"
  },
  "language_info": {
   "codemirror_mode": {
    "name": "ipython",
    "version": 3
   },
   "file_extension": ".py",
   "mimetype": "text/x-python",
   "name": "python",
   "nbconvert_exporter": "python",
   "pygments_lexer": "ipython3",
   "version": "3.6.9"
  },
  "toc": {
   "base_numbering": 1,
   "nav_menu": {},
   "number_sections": true,
   "sideBar": true,
   "skip_h1_title": false,
   "title_cell": "Table of Contents",
   "title_sidebar": "Contents",
   "toc_cell": false,
   "toc_position": {},
   "toc_section_display": true,
   "toc_window_display": false
  },
  "varInspector": {
   "cols": {
    "lenName": 16,
    "lenType": 16,
    "lenVar": 40
   },
   "kernels_config": {
    "python": {
     "delete_cmd_postfix": "",
     "delete_cmd_prefix": "del ",
     "library": "var_list.py",
     "varRefreshCmd": "print(var_dic_list())"
    },
    "r": {
     "delete_cmd_postfix": ") ",
     "delete_cmd_prefix": "rm(",
     "library": "var_list.r",
     "varRefreshCmd": "cat(var_dic_list()) "
    }
   },
   "types_to_exclude": [
    "module",
    "function",
    "builtin_function_or_method",
    "instance",
    "_Feature"
   ],
   "window_display": false
  }
 },
 "nbformat": 4,
 "nbformat_minor": 5
}
