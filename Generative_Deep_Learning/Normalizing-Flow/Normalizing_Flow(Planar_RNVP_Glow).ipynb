{
 "cells": [
  {
   "cell_type": "markdown",
   "metadata": {},
   "source": [
    "# Import"
   ]
  },
  {
   "cell_type": "code",
   "execution_count": 1,
   "metadata": {
    "ExecuteTime": {
     "end_time": "2022-02-19T18:51:25.392436Z",
     "start_time": "2022-02-19T18:51:24.428609Z"
    }
   },
   "outputs": [],
   "source": [
    "import numpy as np\n",
    "import scipy as sp\n",
    "import scipy.linalg\n",
    "import math\n",
    "import itertools\n",
    "import logging\n",
    "import matplotlib.pyplot as plt\n",
    "from sklearn.datasets import make_moons\n",
    "\n",
    "import torch\n",
    "import torch.nn as nn\n",
    "import torch.optim as optim\n",
    "import torch.nn.init as init\n",
    "import torch.nn.functional as F\n",
    "\n",
    "from argparse import ArgumentParser\n",
    "from torch.distributions import MultivariateNormal"
   ]
  },
  {
   "cell_type": "markdown",
   "metadata": {},
   "source": [
    "**seed 고정**"
   ]
  },
  {
   "cell_type": "code",
   "execution_count": 2,
   "metadata": {
    "ExecuteTime": {
     "end_time": "2022-02-19T18:51:25.397304Z",
     "start_time": "2022-02-19T18:51:25.393992Z"
    }
   },
   "outputs": [],
   "source": [
    "import os\n",
    "import random\n",
    "\n",
    "def seed_everything(seed):\n",
    "    random.seed(seed)\n",
    "    os.environ['PYTHONHASHSEED'] = str(seed)\n",
    "    np.random.seed(seed)\n",
    "    torch.manual_seed(seed)\n",
    "    torch.cuda.manual_seed(seed)\n",
    "    torch.backends.cudnn.deterministic = True\n",
    "    torch.backends.cudnn.benchmark = True\n",
    "    \n",
    "seed_everything(0)"
   ]
  },
  {
   "cell_type": "markdown",
   "metadata": {},
   "source": [
    "**Arguments**"
   ]
  },
  {
   "cell_type": "code",
   "execution_count": 3,
   "metadata": {
    "ExecuteTime": {
     "end_time": "2022-02-19T18:51:25.404315Z",
     "start_time": "2022-02-19T18:51:25.398391Z"
    }
   },
   "outputs": [
    {
     "data": {
      "text/plain": [
       "Namespace(data='moon', flow='RealNVP', iterations=500, num_flows=3)"
      ]
     },
     "execution_count": 3,
     "metadata": {},
     "output_type": "execute_result"
    }
   ],
   "source": [
    "argparser = ArgumentParser()\n",
    "argparser.add_argument(\"--num_flows\", default=3, type=int)\n",
    "argparser.add_argument(\"--flow\", default=\"RealNVP\", type=str)\n",
    "argparser.add_argument(\"--iterations\", default=500, type=int)\n",
    "argparser.add_argument(\"--data\", default=\"moon\", type=str)\n",
    "\n",
    "args = argparser.parse_args([])\n",
    "args"
   ]
  },
  {
   "cell_type": "markdown",
   "metadata": {},
   "source": [
    "# data gen"
   ]
  },
  {
   "cell_type": "code",
   "execution_count": 4,
   "metadata": {
    "ExecuteTime": {
     "end_time": "2022-02-19T18:51:25.410820Z",
     "start_time": "2022-02-19T18:51:25.405529Z"
    }
   },
   "outputs": [],
   "source": [
    "def gen_data(args):\n",
    "    '''\n",
    "    Generates multi-modal(3) gaussian distribution in 2-dimensional space.\n",
    "    \n",
    "    or\n",
    "    \n",
    "    Generates Make_moons dataset \n",
    "    \n",
    "    args:\n",
    "        n : The number of samples\n",
    "    '''\n",
    "    if args.data=='moon':\n",
    "        return make_moons(100)[0]\n",
    "    \n",
    "    else:\n",
    "        np.random.seed(0)\n",
    "        return np.concatenate((np.random.randn(512 // 3, 2) + np.array([0, 7]), # (170,2)\n",
    "                               np.random.randn(512 // 3, 2) + np.array([2.5, 3]), # (170,2)\n",
    "                               np.random.randn(512 // 3, 2) + np.array([-2.5, 3])), axis=0) # (170,2)\n",
    "\n",
    "\n",
    "def plot_data(x, figsize, **kwargs):\n",
    "    plt.figure(figsize=figsize)\n",
    "    plt.scatter(x[:,0], x[:,1], marker=\"o\", **kwargs)\n",
    "    plt.style.use(\"ggplot\")"
   ]
  },
  {
   "cell_type": "code",
   "execution_count": 5,
   "metadata": {
    "ExecuteTime": {
     "end_time": "2022-02-19T18:51:25.520746Z",
     "start_time": "2022-02-19T18:51:25.411969Z"
    }
   },
   "outputs": [
    {
     "data": {
      "image/png": "[encoded data removed]",
      "text/plain": [
       "<Figure size 720x360 with 1 Axes>"
      ]
     },
     "metadata": {
      "needs_background": "light"
     },
     "output_type": "display_data"
    }
   ],
   "source": [
    "x = torch.Tensor(gen_data(args))\n",
    "\n",
    "plot_data(x, figsize=(10,5), color='darkblue', alpha=0.5)"
   ]
  },
  {
   "cell_type": "markdown",
   "metadata": {},
   "source": [
    "# Define models\n",
    "\n",
    "- reference : https://github.com/tonyduan/normalizing-flows/\n",
    "\n",
    "```python\n",
    "\n",
    "def forward(self, x):\n",
    "        ...\n",
    "        \n",
    "    return z, log_det\n",
    "\n",
    "\n",
    "def inverse(self, z):\n",
    "        ...\n",
    "        \n",
    "    return x, log_det\n",
    "\n",
    "```"
   ]
  },
  {
   "cell_type": "markdown",
   "metadata": {},
   "source": [
    "- FCNN : Fully Connected layer\n",
    "    - linear-A-linear-A-linear\n",
    "    \n",
    "- Planar : simple transformation(2015), no inverse\n",
    "<img src=\"imgs/planar.png\" width=\"250\" height=\"50\">\n",
    "   \n",
    "    \n",
    "- RealNVP(2017)\n",
    "    - Affine transform(partitioned)\n",
    "    \n",
    "- OneByOneConv(Glow, 2018)\n",
    "    - Affine transform(partitioned) + 1x1 conv"
   ]
  },
  {
   "cell_type": "code",
   "execution_count": 6,
   "metadata": {
    "ExecuteTime": {
     "end_time": "2022-02-19T18:51:25.524980Z",
     "start_time": "2022-02-19T18:51:25.522278Z"
    }
   },
   "outputs": [],
   "source": [
    "# non-linear function의 derivative를 직접 저장\n",
    "\n",
    "functional_derivatives = {\n",
    "    torch.tanh: lambda x: 1 - torch.pow(torch.tanh(x), 2),\n",
    "    F.leaky_relu: lambda x: (x > 0).type(torch.FloatTensor) + \\\n",
    "                            (x < 0).type(torch.FloatTensor) * -0.01,\n",
    "    F.elu: lambda x: (x > 0).type(torch.FloatTensor) + \\\n",
    "                     (x < 0).type(torch.FloatTensor) * torch.exp(x)\n",
    "}"
   ]
  },
  {
   "cell_type": "code",
   "execution_count": 7,
   "metadata": {
    "ExecuteTime": {
     "end_time": "2022-02-19T18:51:25.530093Z",
     "start_time": "2022-02-19T18:51:25.526659Z"
    }
   },
   "outputs": [],
   "source": [
    "class FCNN(nn.Module):\n",
    "    \"\"\"\n",
    "    Simple fully connected neural network.\n",
    "    \"\"\"\n",
    "    def __init__(self, in_dim, out_dim, hidden_dim):\n",
    "        super().__init__()\n",
    "        self.network = nn.Sequential(\n",
    "            nn.Linear(in_dim, hidden_dim),\n",
    "            nn.Tanh(),\n",
    "            nn.Linear(hidden_dim, hidden_dim),\n",
    "            nn.Tanh(),\n",
    "            nn.Linear(hidden_dim, out_dim),\n",
    "        )\n",
    "\n",
    "    def forward(self, x):\n",
    "        return self.network(x)"
   ]
  },
  {
   "cell_type": "code",
   "execution_count": 8,
   "metadata": {
    "ExecuteTime": {
     "end_time": "2022-02-19T18:51:25.538359Z",
     "start_time": "2022-02-19T18:51:25.531409Z"
    }
   },
   "outputs": [],
   "source": [
    "class Planar(nn.Module):\n",
    "    \"\"\"\n",
    "    Planar flow.\n",
    "        z = f(x) = x + u h(wᵀx + b)\n",
    "    [Rezende and Mohamed, 2015]\n",
    "    \n",
    "    params : u, w, b\n",
    "    fucntion : h\n",
    "    \"\"\"\n",
    "    def __init__(self, dim, nonlinearity=torch.tanh):\n",
    "        super().__init__()\n",
    "        self.h = nonlinearity\n",
    "        self.w = nn.Parameter(torch.Tensor(dim))\n",
    "        self.u = nn.Parameter(torch.Tensor(dim))\n",
    "        self.b = nn.Parameter(torch.Tensor(1))\n",
    "        self.reset_parameters(dim)\n",
    "\n",
    "    def reset_parameters(self, dim):\n",
    "        init.uniform_(self.w, -math.sqrt(1/dim), math.sqrt(1/dim))\n",
    "        init.uniform_(self.u, -math.sqrt(1/dim), math.sqrt(1/dim))\n",
    "        init.uniform_(self.b, -math.sqrt(1/dim), math.sqrt(1/dim))\n",
    "\n",
    "    def forward(self, x):\n",
    "        \"\"\"\n",
    "        Given x, returns z and the log-determinant log|df/dx|.\n",
    "        Returns\n",
    "        -------\n",
    "        \"\"\"\n",
    "        lin = (x @ self.w + self.b).unsqueeze(1) \n",
    "        z = x + self.u * self.h(lin)\n",
    "        phi = functional_derivatives[self.h](lin) * self.w\n",
    "        log_det = torch.log(torch.abs(1 + phi @ self.u))\n",
    "        \n",
    "        return z, log_det\n",
    "    \n",
    "\n",
    "    def inverse(self, z):\n",
    "        raise NotImplementedError(\"Planar flow has no algebraic inverse.\")"
   ]
  },
  {
   "cell_type": "code",
   "execution_count": 9,
   "metadata": {
    "ExecuteTime": {
     "end_time": "2022-02-19T18:51:25.547750Z",
     "start_time": "2022-02-19T18:51:25.539677Z"
    }
   },
   "outputs": [],
   "source": [
    "class RealNVP(nn.Module):\n",
    "    \"\"\"\n",
    "    Non-volume preserving flow.\n",
    "    [Dinh et. al. 2017]\n",
    "    \"\"\"\n",
    "    def __init__(self, dim, hidden_dim = 8, base_network=FCNN):\n",
    "        super().__init__()\n",
    "        self.dim = dim\n",
    "        self.t1 = base_network(dim // 2, dim // 2, hidden_dim) # in_dim, out_dim, hidden_dim\n",
    "        self.s1 = base_network(dim // 2, dim // 2, hidden_dim)\n",
    "        self.t2 = base_network(dim // 2, dim // 2, hidden_dim)\n",
    "        self.s2 = base_network(dim // 2, dim // 2, hidden_dim)\n",
    "\n",
    "    def forward(self, x):\n",
    "        lower, upper = x[:,:self.dim // 2], x[:,self.dim // 2:]\n",
    "        t1_transformed = self.t1(lower)\n",
    "        s1_transformed = self.s1(lower)\n",
    "        upper = t1_transformed + upper * torch.exp(s1_transformed)\n",
    "        t2_transformed = self.t2(upper)\n",
    "        s2_transformed = self.s2(upper)\n",
    "        lower = t2_transformed + lower * torch.exp(s2_transformed)\n",
    "        z = torch.cat([lower, upper], dim=1)\n",
    "        log_det = torch.sum(s1_transformed, dim=1) + \\\n",
    "                  torch.sum(s2_transformed, dim=1)\n",
    "        return z, log_det\n",
    "\n",
    "    def inverse(self, z):\n",
    "        lower, upper = z[:,:self.dim // 2], z[:,self.dim // 2:]\n",
    "        t2_transformed = self.t2(upper)\n",
    "        s2_transformed = self.s2(upper)\n",
    "        lower = (lower - t2_transformed) * torch.exp(-s2_transformed)\n",
    "        t1_transformed = self.t1(lower)\n",
    "        s1_transformed = self.s1(lower)\n",
    "        upper = (upper - t1_transformed) * torch.exp(-s1_transformed)\n",
    "        x = torch.cat([lower, upper], dim=1)\n",
    "        log_det = torch.sum(-s1_transformed, dim=1) + \\\n",
    "                  torch.sum(-s2_transformed, dim=1)\n",
    "        return x, log_det"
   ]
  },
  {
   "cell_type": "code",
   "execution_count": 10,
   "metadata": {
    "ExecuteTime": {
     "end_time": "2022-02-19T18:51:25.557048Z",
     "start_time": "2022-02-19T18:51:25.548926Z"
    }
   },
   "outputs": [],
   "source": [
    "class OneByOneConv(nn.Module):\n",
    "    \"\"\"\n",
    "    Invertible 1x1 convolution.\n",
    "    [Kingma and Dhariwal, 2018.]\n",
    "    \"\"\"\n",
    "    def __init__(self, dim):\n",
    "        super().__init__()\n",
    "        self.dim = dim\n",
    "        # scipy qr : https://docs.scipy.org/doc/scipy/reference/generated/scipy.linalg.qr.html\n",
    "        W, _ = sp.linalg.qr(np.random.randn(dim, dim)) # 행렬의 QR 분해, Random matrix에서 Q(정규직교행렬)로 W를 초기화\n",
    "        # scipy lu : https://docs.scipy.org/doc/scipy/reference/generated/scipy.linalg.lu.html\n",
    "        P, L, U = sp.linalg.lu(W) # 행렬의 LU 분해, W matrix의 decomposition. 최종적인 목표는 log_det 연산 효율화\n",
    "        self.P = torch.tensor(P, dtype = torch.float)\n",
    "        self.L = nn.Parameter(torch.tensor(L, dtype = torch.float))\n",
    "        self.S = nn.Parameter(torch.tensor(np.diag(U), dtype = torch.float))\n",
    "        self.U = nn.Parameter(torch.triu(torch.tensor(U, dtype = torch.float),\n",
    "                              diagonal = 1))\n",
    "        self.W_inv = None\n",
    "\n",
    "    def forward(self, x):\n",
    "        # 'torch.tril' ref : https://runebook.dev/ko/docs/pytorch/generated/torch.tril\n",
    "        L = torch.tril(self.L, diagonal = -1) + torch.diag(torch.ones(self.dim))\n",
    "        U = torch.triu(self.U, diagonal = 1)\n",
    "        z = x @ self.P @ L @ (U + torch.diag(self.S)) # x @ W\n",
    "        log_det = torch.sum(torch.log(torch.abs(self.S)))\n",
    "        return z, log_det\n",
    "\n",
    "    def inverse(self, z):\n",
    "        L = torch.tril(self.L, diagonal = -1) + \\\n",
    "            torch.diag(torch.ones(self.dim))\n",
    "        U = torch.triu(self.U, diagonal = 1)\n",
    "        W = self.P @ L @ (U + torch.diag(self.S))\n",
    "        self.W_inv = torch.inverse(W)\n",
    "        \n",
    "        x = z @ self.W_inv\n",
    "        log_det = -torch.sum(torch.log(torch.abs(self.S)))\n",
    "        return x, log_det\n",
    "    \n",
    "    \n",
    "class ActNorm(nn.Module):\n",
    "    \"\"\"\n",
    "    ActNorm layer.\n",
    "    [Kingma and Dhariwal, 2018.]\n",
    "    \"\"\"\n",
    "    def __init__(self, dim):\n",
    "        super().__init__()\n",
    "        self.dim = dim\n",
    "        self.mu = nn.Parameter(torch.zeros(dim, dtype = torch.float))\n",
    "        self.log_sigma = nn.Parameter(torch.zeros(dim, dtype = torch.float))\n",
    "\n",
    "    def forward(self, x):\n",
    "        z = x * torch.exp(self.log_sigma) + self.mu # s:log_sigma(scale), b:mu(translation) -> learnable, data-dependent!\n",
    "        log_det = torch.sum(self.log_sigma)\n",
    "        return z, log_det\n",
    "\n",
    "    def inverse(self, z):\n",
    "        x = (z - self.mu) / torch.exp(self.log_sigma)\n",
    "        log_det = -torch.sum(self.log_sigma)\n",
    "        return x, log_det"
   ]
  },
  {
   "cell_type": "markdown",
   "metadata": {},
   "source": [
    "**python 'eval' function**"
   ]
  },
  {
   "cell_type": "code",
   "execution_count": 11,
   "metadata": {
    "ExecuteTime": {
     "end_time": "2022-02-19T18:51:25.562636Z",
     "start_time": "2022-02-19T18:51:25.558099Z"
    },
    "scrolled": true
   },
   "outputs": [
    {
     "name": "stdout",
     "output_type": "stream",
     "text": [
      "RealNVP\n",
      "<class '__main__.RealNVP'>\n"
     ]
    }
   ],
   "source": [
    "print(args.flow)\n",
    "print(eval(args.flow))"
   ]
  },
  {
   "cell_type": "markdown",
   "metadata": {},
   "source": [
    "## Set prior\n",
    "- Multivariate Normal distributions(0,1) in 2 dim"
   ]
  },
  {
   "cell_type": "code",
   "execution_count": 12,
   "metadata": {
    "ExecuteTime": {
     "end_time": "2022-02-19T18:51:25.567832Z",
     "start_time": "2022-02-19T18:51:25.563697Z"
    }
   },
   "outputs": [],
   "source": [
    "prior = MultivariateNormal(torch.zeros(2), torch.eye(2))"
   ]
  },
  {
   "cell_type": "markdown",
   "metadata": {},
   "source": [
    "## Set transformations"
   ]
  },
  {
   "cell_type": "code",
   "execution_count": 13,
   "metadata": {
    "ExecuteTime": {
     "end_time": "2022-02-19T18:51:25.588359Z",
     "start_time": "2022-02-19T18:51:25.568956Z"
    }
   },
   "outputs": [
    {
     "data": {
      "text/plain": [
       "[ActNorm(),\n",
       " OneByOneConv(),\n",
       " RealNVP(\n",
       "   (t1): FCNN(\n",
       "     (network): Sequential(\n",
       "       (0): Linear(in_features=1, out_features=8, bias=True)\n",
       "       (1): Tanh()\n",
       "       (2): Linear(in_features=8, out_features=8, bias=True)\n",
       "       (3): Tanh()\n",
       "       (4): Linear(in_features=8, out_features=1, bias=True)\n",
       "     )\n",
       "   )\n",
       "   (s1): FCNN(\n",
       "     (network): Sequential(\n",
       "       (0): Linear(in_features=1, out_features=8, bias=True)\n",
       "       (1): Tanh()\n",
       "       (2): Linear(in_features=8, out_features=8, bias=True)\n",
       "       (3): Tanh()\n",
       "       (4): Linear(in_features=8, out_features=1, bias=True)\n",
       "     )\n",
       "   )\n",
       "   (t2): FCNN(\n",
       "     (network): Sequential(\n",
       "       (0): Linear(in_features=1, out_features=8, bias=True)\n",
       "       (1): Tanh()\n",
       "       (2): Linear(in_features=8, out_features=8, bias=True)\n",
       "       (3): Tanh()\n",
       "       (4): Linear(in_features=8, out_features=1, bias=True)\n",
       "     )\n",
       "   )\n",
       "   (s2): FCNN(\n",
       "     (network): Sequential(\n",
       "       (0): Linear(in_features=1, out_features=8, bias=True)\n",
       "       (1): Tanh()\n",
       "       (2): Linear(in_features=8, out_features=8, bias=True)\n",
       "       (3): Tanh()\n",
       "       (4): Linear(in_features=8, out_features=1, bias=True)\n",
       "     )\n",
       "   )\n",
       " ),\n",
       " ActNorm(),\n",
       " OneByOneConv(),\n",
       " RealNVP(\n",
       "   (t1): FCNN(\n",
       "     (network): Sequential(\n",
       "       (0): Linear(in_features=1, out_features=8, bias=True)\n",
       "       (1): Tanh()\n",
       "       (2): Linear(in_features=8, out_features=8, bias=True)\n",
       "       (3): Tanh()\n",
       "       (4): Linear(in_features=8, out_features=1, bias=True)\n",
       "     )\n",
       "   )\n",
       "   (s1): FCNN(\n",
       "     (network): Sequential(\n",
       "       (0): Linear(in_features=1, out_features=8, bias=True)\n",
       "       (1): Tanh()\n",
       "       (2): Linear(in_features=8, out_features=8, bias=True)\n",
       "       (3): Tanh()\n",
       "       (4): Linear(in_features=8, out_features=1, bias=True)\n",
       "     )\n",
       "   )\n",
       "   (t2): FCNN(\n",
       "     (network): Sequential(\n",
       "       (0): Linear(in_features=1, out_features=8, bias=True)\n",
       "       (1): Tanh()\n",
       "       (2): Linear(in_features=8, out_features=8, bias=True)\n",
       "       (3): Tanh()\n",
       "       (4): Linear(in_features=8, out_features=1, bias=True)\n",
       "     )\n",
       "   )\n",
       "   (s2): FCNN(\n",
       "     (network): Sequential(\n",
       "       (0): Linear(in_features=1, out_features=8, bias=True)\n",
       "       (1): Tanh()\n",
       "       (2): Linear(in_features=8, out_features=8, bias=True)\n",
       "       (3): Tanh()\n",
       "       (4): Linear(in_features=8, out_features=1, bias=True)\n",
       "     )\n",
       "   )\n",
       " ),\n",
       " ActNorm(),\n",
       " OneByOneConv(),\n",
       " RealNVP(\n",
       "   (t1): FCNN(\n",
       "     (network): Sequential(\n",
       "       (0): Linear(in_features=1, out_features=8, bias=True)\n",
       "       (1): Tanh()\n",
       "       (2): Linear(in_features=8, out_features=8, bias=True)\n",
       "       (3): Tanh()\n",
       "       (4): Linear(in_features=8, out_features=1, bias=True)\n",
       "     )\n",
       "   )\n",
       "   (s1): FCNN(\n",
       "     (network): Sequential(\n",
       "       (0): Linear(in_features=1, out_features=8, bias=True)\n",
       "       (1): Tanh()\n",
       "       (2): Linear(in_features=8, out_features=8, bias=True)\n",
       "       (3): Tanh()\n",
       "       (4): Linear(in_features=8, out_features=1, bias=True)\n",
       "     )\n",
       "   )\n",
       "   (t2): FCNN(\n",
       "     (network): Sequential(\n",
       "       (0): Linear(in_features=1, out_features=8, bias=True)\n",
       "       (1): Tanh()\n",
       "       (2): Linear(in_features=8, out_features=8, bias=True)\n",
       "       (3): Tanh()\n",
       "       (4): Linear(in_features=8, out_features=1, bias=True)\n",
       "     )\n",
       "   )\n",
       "   (s2): FCNN(\n",
       "     (network): Sequential(\n",
       "       (0): Linear(in_features=1, out_features=8, bias=True)\n",
       "       (1): Tanh()\n",
       "       (2): Linear(in_features=8, out_features=8, bias=True)\n",
       "       (3): Tanh()\n",
       "       (4): Linear(in_features=8, out_features=1, bias=True)\n",
       "     )\n",
       "   )\n",
       " ),\n",
       " ActNorm(),\n",
       " OneByOneConv(),\n",
       " RealNVP(\n",
       "   (t1): FCNN(\n",
       "     (network): Sequential(\n",
       "       (0): Linear(in_features=1, out_features=8, bias=True)\n",
       "       (1): Tanh()\n",
       "       (2): Linear(in_features=8, out_features=8, bias=True)\n",
       "       (3): Tanh()\n",
       "       (4): Linear(in_features=8, out_features=1, bias=True)\n",
       "     )\n",
       "   )\n",
       "   (s1): FCNN(\n",
       "     (network): Sequential(\n",
       "       (0): Linear(in_features=1, out_features=8, bias=True)\n",
       "       (1): Tanh()\n",
       "       (2): Linear(in_features=8, out_features=8, bias=True)\n",
       "       (3): Tanh()\n",
       "       (4): Linear(in_features=8, out_features=1, bias=True)\n",
       "     )\n",
       "   )\n",
       "   (t2): FCNN(\n",
       "     (network): Sequential(\n",
       "       (0): Linear(in_features=1, out_features=8, bias=True)\n",
       "       (1): Tanh()\n",
       "       (2): Linear(in_features=8, out_features=8, bias=True)\n",
       "       (3): Tanh()\n",
       "       (4): Linear(in_features=8, out_features=1, bias=True)\n",
       "     )\n",
       "   )\n",
       "   (s2): FCNN(\n",
       "     (network): Sequential(\n",
       "       (0): Linear(in_features=1, out_features=8, bias=True)\n",
       "       (1): Tanh()\n",
       "       (2): Linear(in_features=8, out_features=8, bias=True)\n",
       "       (3): Tanh()\n",
       "       (4): Linear(in_features=8, out_features=1, bias=True)\n",
       "     )\n",
       "   )\n",
       " ),\n",
       " ActNorm(),\n",
       " OneByOneConv(),\n",
       " RealNVP(\n",
       "   (t1): FCNN(\n",
       "     (network): Sequential(\n",
       "       (0): Linear(in_features=1, out_features=8, bias=True)\n",
       "       (1): Tanh()\n",
       "       (2): Linear(in_features=8, out_features=8, bias=True)\n",
       "       (3): Tanh()\n",
       "       (4): Linear(in_features=8, out_features=1, bias=True)\n",
       "     )\n",
       "   )\n",
       "   (s1): FCNN(\n",
       "     (network): Sequential(\n",
       "       (0): Linear(in_features=1, out_features=8, bias=True)\n",
       "       (1): Tanh()\n",
       "       (2): Linear(in_features=8, out_features=8, bias=True)\n",
       "       (3): Tanh()\n",
       "       (4): Linear(in_features=8, out_features=1, bias=True)\n",
       "     )\n",
       "   )\n",
       "   (t2): FCNN(\n",
       "     (network): Sequential(\n",
       "       (0): Linear(in_features=1, out_features=8, bias=True)\n",
       "       (1): Tanh()\n",
       "       (2): Linear(in_features=8, out_features=8, bias=True)\n",
       "       (3): Tanh()\n",
       "       (4): Linear(in_features=8, out_features=1, bias=True)\n",
       "     )\n",
       "   )\n",
       "   (s2): FCNN(\n",
       "     (network): Sequential(\n",
       "       (0): Linear(in_features=1, out_features=8, bias=True)\n",
       "       (1): Tanh()\n",
       "       (2): Linear(in_features=8, out_features=8, bias=True)\n",
       "       (3): Tanh()\n",
       "       (4): Linear(in_features=8, out_features=1, bias=True)\n",
       "     )\n",
       "   )\n",
       " ),\n",
       " ActNorm(),\n",
       " OneByOneConv(),\n",
       " RealNVP(\n",
       "   (t1): FCNN(\n",
       "     (network): Sequential(\n",
       "       (0): Linear(in_features=1, out_features=8, bias=True)\n",
       "       (1): Tanh()\n",
       "       (2): Linear(in_features=8, out_features=8, bias=True)\n",
       "       (3): Tanh()\n",
       "       (4): Linear(in_features=8, out_features=1, bias=True)\n",
       "     )\n",
       "   )\n",
       "   (s1): FCNN(\n",
       "     (network): Sequential(\n",
       "       (0): Linear(in_features=1, out_features=8, bias=True)\n",
       "       (1): Tanh()\n",
       "       (2): Linear(in_features=8, out_features=8, bias=True)\n",
       "       (3): Tanh()\n",
       "       (4): Linear(in_features=8, out_features=1, bias=True)\n",
       "     )\n",
       "   )\n",
       "   (t2): FCNN(\n",
       "     (network): Sequential(\n",
       "       (0): Linear(in_features=1, out_features=8, bias=True)\n",
       "       (1): Tanh()\n",
       "       (2): Linear(in_features=8, out_features=8, bias=True)\n",
       "       (3): Tanh()\n",
       "       (4): Linear(in_features=8, out_features=1, bias=True)\n",
       "     )\n",
       "   )\n",
       "   (s2): FCNN(\n",
       "     (network): Sequential(\n",
       "       (0): Linear(in_features=1, out_features=8, bias=True)\n",
       "       (1): Tanh()\n",
       "       (2): Linear(in_features=8, out_features=8, bias=True)\n",
       "       (3): Tanh()\n",
       "       (4): Linear(in_features=8, out_features=1, bias=True)\n",
       "     )\n",
       "   )\n",
       " ),\n",
       " ActNorm(),\n",
       " OneByOneConv(),\n",
       " RealNVP(\n",
       "   (t1): FCNN(\n",
       "     (network): Sequential(\n",
       "       (0): Linear(in_features=1, out_features=8, bias=True)\n",
       "       (1): Tanh()\n",
       "       (2): Linear(in_features=8, out_features=8, bias=True)\n",
       "       (3): Tanh()\n",
       "       (4): Linear(in_features=8, out_features=1, bias=True)\n",
       "     )\n",
       "   )\n",
       "   (s1): FCNN(\n",
       "     (network): Sequential(\n",
       "       (0): Linear(in_features=1, out_features=8, bias=True)\n",
       "       (1): Tanh()\n",
       "       (2): Linear(in_features=8, out_features=8, bias=True)\n",
       "       (3): Tanh()\n",
       "       (4): Linear(in_features=8, out_features=1, bias=True)\n",
       "     )\n",
       "   )\n",
       "   (t2): FCNN(\n",
       "     (network): Sequential(\n",
       "       (0): Linear(in_features=1, out_features=8, bias=True)\n",
       "       (1): Tanh()\n",
       "       (2): Linear(in_features=8, out_features=8, bias=True)\n",
       "       (3): Tanh()\n",
       "       (4): Linear(in_features=8, out_features=1, bias=True)\n",
       "     )\n",
       "   )\n",
       "   (s2): FCNN(\n",
       "     (network): Sequential(\n",
       "       (0): Linear(in_features=1, out_features=8, bias=True)\n",
       "       (1): Tanh()\n",
       "       (2): Linear(in_features=8, out_features=8, bias=True)\n",
       "       (3): Tanh()\n",
       "       (4): Linear(in_features=8, out_features=1, bias=True)\n",
       "     )\n",
       "   )\n",
       " ),\n",
       " ActNorm(),\n",
       " OneByOneConv(),\n",
       " RealNVP(\n",
       "   (t1): FCNN(\n",
       "     (network): Sequential(\n",
       "       (0): Linear(in_features=1, out_features=8, bias=True)\n",
       "       (1): Tanh()\n",
       "       (2): Linear(in_features=8, out_features=8, bias=True)\n",
       "       (3): Tanh()\n",
       "       (4): Linear(in_features=8, out_features=1, bias=True)\n",
       "     )\n",
       "   )\n",
       "   (s1): FCNN(\n",
       "     (network): Sequential(\n",
       "       (0): Linear(in_features=1, out_features=8, bias=True)\n",
       "       (1): Tanh()\n",
       "       (2): Linear(in_features=8, out_features=8, bias=True)\n",
       "       (3): Tanh()\n",
       "       (4): Linear(in_features=8, out_features=1, bias=True)\n",
       "     )\n",
       "   )\n",
       "   (t2): FCNN(\n",
       "     (network): Sequential(\n",
       "       (0): Linear(in_features=1, out_features=8, bias=True)\n",
       "       (1): Tanh()\n",
       "       (2): Linear(in_features=8, out_features=8, bias=True)\n",
       "       (3): Tanh()\n",
       "       (4): Linear(in_features=8, out_features=1, bias=True)\n",
       "     )\n",
       "   )\n",
       "   (s2): FCNN(\n",
       "     (network): Sequential(\n",
       "       (0): Linear(in_features=1, out_features=8, bias=True)\n",
       "       (1): Tanh()\n",
       "       (2): Linear(in_features=8, out_features=8, bias=True)\n",
       "       (3): Tanh()\n",
       "       (4): Linear(in_features=8, out_features=1, bias=True)\n",
       "     )\n",
       "   )\n",
       " ),\n",
       " ActNorm(),\n",
       " OneByOneConv(),\n",
       " RealNVP(\n",
       "   (t1): FCNN(\n",
       "     (network): Sequential(\n",
       "       (0): Linear(in_features=1, out_features=8, bias=True)\n",
       "       (1): Tanh()\n",
       "       (2): Linear(in_features=8, out_features=8, bias=True)\n",
       "       (3): Tanh()\n",
       "       (4): Linear(in_features=8, out_features=1, bias=True)\n",
       "     )\n",
       "   )\n",
       "   (s1): FCNN(\n",
       "     (network): Sequential(\n",
       "       (0): Linear(in_features=1, out_features=8, bias=True)\n",
       "       (1): Tanh()\n",
       "       (2): Linear(in_features=8, out_features=8, bias=True)\n",
       "       (3): Tanh()\n",
       "       (4): Linear(in_features=8, out_features=1, bias=True)\n",
       "     )\n",
       "   )\n",
       "   (t2): FCNN(\n",
       "     (network): Sequential(\n",
       "       (0): Linear(in_features=1, out_features=8, bias=True)\n",
       "       (1): Tanh()\n",
       "       (2): Linear(in_features=8, out_features=8, bias=True)\n",
       "       (3): Tanh()\n",
       "       (4): Linear(in_features=8, out_features=1, bias=True)\n",
       "     )\n",
       "   )\n",
       "   (s2): FCNN(\n",
       "     (network): Sequential(\n",
       "       (0): Linear(in_features=1, out_features=8, bias=True)\n",
       "       (1): Tanh()\n",
       "       (2): Linear(in_features=8, out_features=8, bias=True)\n",
       "       (3): Tanh()\n",
       "       (4): Linear(in_features=8, out_features=1, bias=True)\n",
       "     )\n",
       "   )\n",
       " ),\n",
       " ActNorm(),\n",
       " OneByOneConv(),\n",
       " RealNVP(\n",
       "   (t1): FCNN(\n",
       "     (network): Sequential(\n",
       "       (0): Linear(in_features=1, out_features=8, bias=True)\n",
       "       (1): Tanh()\n",
       "       (2): Linear(in_features=8, out_features=8, bias=True)\n",
       "       (3): Tanh()\n",
       "       (4): Linear(in_features=8, out_features=1, bias=True)\n",
       "     )\n",
       "   )\n",
       "   (s1): FCNN(\n",
       "     (network): Sequential(\n",
       "       (0): Linear(in_features=1, out_features=8, bias=True)\n",
       "       (1): Tanh()\n",
       "       (2): Linear(in_features=8, out_features=8, bias=True)\n",
       "       (3): Tanh()\n",
       "       (4): Linear(in_features=8, out_features=1, bias=True)\n",
       "     )\n",
       "   )\n",
       "   (t2): FCNN(\n",
       "     (network): Sequential(\n",
       "       (0): Linear(in_features=1, out_features=8, bias=True)\n",
       "       (1): Tanh()\n",
       "       (2): Linear(in_features=8, out_features=8, bias=True)\n",
       "       (3): Tanh()\n",
       "       (4): Linear(in_features=8, out_features=1, bias=True)\n",
       "     )\n",
       "   )\n",
       "   (s2): FCNN(\n",
       "     (network): Sequential(\n",
       "       (0): Linear(in_features=1, out_features=8, bias=True)\n",
       "       (1): Tanh()\n",
       "       (2): Linear(in_features=8, out_features=8, bias=True)\n",
       "       (3): Tanh()\n",
       "       (4): Linear(in_features=8, out_features=1, bias=True)\n",
       "     )\n",
       "   )\n",
       " )]"
      ]
     },
     "execution_count": 13,
     "metadata": {},
     "output_type": "execute_result"
    }
   ],
   "source": [
    "# The number of flow transformation = 10\n",
    "args.num_flows =10\n",
    "\n",
    "flows_planar = [eval('Planar')(dim=2) for _ in range(args.num_flows)]\n",
    "flows_rnvp = [eval(args.flow)(dim=2) for _ in range(args.num_flows)]\n",
    "\n",
    "convs = [OneByOneConv(dim=2) for _ in range(args.num_flows)]\n",
    "actnorms = [ActNorm(dim=2) for _ in range(args.num_flows)]\n",
    "flows_glow = list(itertools.chain(*zip(actnorms, convs, flows_rnvp)))\n",
    "\n",
    "flows_glow"
   ]
  },
  {
   "cell_type": "markdown",
   "metadata": {},
   "source": [
    "## Set Forward, inverse, sample"
   ]
  },
  {
   "cell_type": "code",
   "execution_count": 14,
   "metadata": {
    "ExecuteTime": {
     "end_time": "2022-02-19T18:51:25.593809Z",
     "start_time": "2022-02-19T18:51:25.589396Z"
    }
   },
   "outputs": [],
   "source": [
    "class NormalizingFlowModel(nn.Module):\n",
    "\n",
    "    def __init__(self, prior, flows):\n",
    "        super().__init__()\n",
    "        self.prior = prior\n",
    "        self.flows = nn.ModuleList(flows)\n",
    "\n",
    "    def forward(self, x):\n",
    "        m, _ = x.shape\n",
    "        log_det = torch.zeros(m)\n",
    "        for flow in self.flows:\n",
    "            x, ld = flow.forward(x)\n",
    "            log_det += ld\n",
    "        z, prior_logprob = x, self.prior.log_prob(x)\n",
    "        return z, prior_logprob, log_det\n",
    "\n",
    "    def inverse(self, z):\n",
    "        m, _ = z.shape\n",
    "        log_det = torch.zeros(m)\n",
    "        for flow in self.flows[::-1]:\n",
    "            z, ld = flow.inverse(z)\n",
    "            log_det += ld\n",
    "        x = z\n",
    "        return x, log_det\n",
    "\n",
    "    def sample(self, n_samples):\n",
    "        z = self.prior.sample((n_samples,))\n",
    "        x, _ = self.inverse(z)\n",
    "        return x"
   ]
  },
  {
   "cell_type": "code",
   "execution_count": 15,
   "metadata": {
    "ExecuteTime": {
     "end_time": "2022-02-19T18:51:25.600623Z",
     "start_time": "2022-02-19T18:51:25.594951Z"
    }
   },
   "outputs": [
    {
     "data": {
      "text/plain": [
       "NormalizingFlowModel(\n",
       "  (flows): ModuleList(\n",
       "    (0): ActNorm()\n",
       "    (1): OneByOneConv()\n",
       "    (2): RealNVP(\n",
       "      (t1): FCNN(\n",
       "        (network): Sequential(\n",
       "          (0): Linear(in_features=1, out_features=8, bias=True)\n",
       "          (1): Tanh()\n",
       "          (2): Linear(in_features=8, out_features=8, bias=True)\n",
       "          (3): Tanh()\n",
       "          (4): Linear(in_features=8, out_features=1, bias=True)\n",
       "        )\n",
       "      )\n",
       "      (s1): FCNN(\n",
       "        (network): Sequential(\n",
       "          (0): Linear(in_features=1, out_features=8, bias=True)\n",
       "          (1): Tanh()\n",
       "          (2): Linear(in_features=8, out_features=8, bias=True)\n",
       "          (3): Tanh()\n",
       "          (4): Linear(in_features=8, out_features=1, bias=True)\n",
       "        )\n",
       "      )\n",
       "      (t2): FCNN(\n",
       "        (network): Sequential(\n",
       "          (0): Linear(in_features=1, out_features=8, bias=True)\n",
       "          (1): Tanh()\n",
       "          (2): Linear(in_features=8, out_features=8, bias=True)\n",
       "          (3): Tanh()\n",
       "          (4): Linear(in_features=8, out_features=1, bias=True)\n",
       "        )\n",
       "      )\n",
       "      (s2): FCNN(\n",
       "        (network): Sequential(\n",
       "          (0): Linear(in_features=1, out_features=8, bias=True)\n",
       "          (1): Tanh()\n",
       "          (2): Linear(in_features=8, out_features=8, bias=True)\n",
       "          (3): Tanh()\n",
       "          (4): Linear(in_features=8, out_features=1, bias=True)\n",
       "        )\n",
       "      )\n",
       "    )\n",
       "    (3): ActNorm()\n",
       "    (4): OneByOneConv()\n",
       "    (5): RealNVP(\n",
       "      (t1): FCNN(\n",
       "        (network): Sequential(\n",
       "          (0): Linear(in_features=1, out_features=8, bias=True)\n",
       "          (1): Tanh()\n",
       "          (2): Linear(in_features=8, out_features=8, bias=True)\n",
       "          (3): Tanh()\n",
       "          (4): Linear(in_features=8, out_features=1, bias=True)\n",
       "        )\n",
       "      )\n",
       "      (s1): FCNN(\n",
       "        (network): Sequential(\n",
       "          (0): Linear(in_features=1, out_features=8, bias=True)\n",
       "          (1): Tanh()\n",
       "          (2): Linear(in_features=8, out_features=8, bias=True)\n",
       "          (3): Tanh()\n",
       "          (4): Linear(in_features=8, out_features=1, bias=True)\n",
       "        )\n",
       "      )\n",
       "      (t2): FCNN(\n",
       "        (network): Sequential(\n",
       "          (0): Linear(in_features=1, out_features=8, bias=True)\n",
       "          (1): Tanh()\n",
       "          (2): Linear(in_features=8, out_features=8, bias=True)\n",
       "          (3): Tanh()\n",
       "          (4): Linear(in_features=8, out_features=1, bias=True)\n",
       "        )\n",
       "      )\n",
       "      (s2): FCNN(\n",
       "        (network): Sequential(\n",
       "          (0): Linear(in_features=1, out_features=8, bias=True)\n",
       "          (1): Tanh()\n",
       "          (2): Linear(in_features=8, out_features=8, bias=True)\n",
       "          (3): Tanh()\n",
       "          (4): Linear(in_features=8, out_features=1, bias=True)\n",
       "        )\n",
       "      )\n",
       "    )\n",
       "    (6): ActNorm()\n",
       "    (7): OneByOneConv()\n",
       "    (8): RealNVP(\n",
       "      (t1): FCNN(\n",
       "        (network): Sequential(\n",
       "          (0): Linear(in_features=1, out_features=8, bias=True)\n",
       "          (1): Tanh()\n",
       "          (2): Linear(in_features=8, out_features=8, bias=True)\n",
       "          (3): Tanh()\n",
       "          (4): Linear(in_features=8, out_features=1, bias=True)\n",
       "        )\n",
       "      )\n",
       "      (s1): FCNN(\n",
       "        (network): Sequential(\n",
       "          (0): Linear(in_features=1, out_features=8, bias=True)\n",
       "          (1): Tanh()\n",
       "          (2): Linear(in_features=8, out_features=8, bias=True)\n",
       "          (3): Tanh()\n",
       "          (4): Linear(in_features=8, out_features=1, bias=True)\n",
       "        )\n",
       "      )\n",
       "      (t2): FCNN(\n",
       "        (network): Sequential(\n",
       "          (0): Linear(in_features=1, out_features=8, bias=True)\n",
       "          (1): Tanh()\n",
       "          (2): Linear(in_features=8, out_features=8, bias=True)\n",
       "          (3): Tanh()\n",
       "          (4): Linear(in_features=8, out_features=1, bias=True)\n",
       "        )\n",
       "      )\n",
       "      (s2): FCNN(\n",
       "        (network): Sequential(\n",
       "          (0): Linear(in_features=1, out_features=8, bias=True)\n",
       "          (1): Tanh()\n",
       "          (2): Linear(in_features=8, out_features=8, bias=True)\n",
       "          (3): Tanh()\n",
       "          (4): Linear(in_features=8, out_features=1, bias=True)\n",
       "        )\n",
       "      )\n",
       "    )\n",
       "    (9): ActNorm()\n",
       "    (10): OneByOneConv()\n",
       "    (11): RealNVP(\n",
       "      (t1): FCNN(\n",
       "        (network): Sequential(\n",
       "          (0): Linear(in_features=1, out_features=8, bias=True)\n",
       "          (1): Tanh()\n",
       "          (2): Linear(in_features=8, out_features=8, bias=True)\n",
       "          (3): Tanh()\n",
       "          (4): Linear(in_features=8, out_features=1, bias=True)\n",
       "        )\n",
       "      )\n",
       "      (s1): FCNN(\n",
       "        (network): Sequential(\n",
       "          (0): Linear(in_features=1, out_features=8, bias=True)\n",
       "          (1): Tanh()\n",
       "          (2): Linear(in_features=8, out_features=8, bias=True)\n",
       "          (3): Tanh()\n",
       "          (4): Linear(in_features=8, out_features=1, bias=True)\n",
       "        )\n",
       "      )\n",
       "      (t2): FCNN(\n",
       "        (network): Sequential(\n",
       "          (0): Linear(in_features=1, out_features=8, bias=True)\n",
       "          (1): Tanh()\n",
       "          (2): Linear(in_features=8, out_features=8, bias=True)\n",
       "          (3): Tanh()\n",
       "          (4): Linear(in_features=8, out_features=1, bias=True)\n",
       "        )\n",
       "      )\n",
       "      (s2): FCNN(\n",
       "        (network): Sequential(\n",
       "          (0): Linear(in_features=1, out_features=8, bias=True)\n",
       "          (1): Tanh()\n",
       "          (2): Linear(in_features=8, out_features=8, bias=True)\n",
       "          (3): Tanh()\n",
       "          (4): Linear(in_features=8, out_features=1, bias=True)\n",
       "        )\n",
       "      )\n",
       "    )\n",
       "    (12): ActNorm()\n",
       "    (13): OneByOneConv()\n",
       "    (14): RealNVP(\n",
       "      (t1): FCNN(\n",
       "        (network): Sequential(\n",
       "          (0): Linear(in_features=1, out_features=8, bias=True)\n",
       "          (1): Tanh()\n",
       "          (2): Linear(in_features=8, out_features=8, bias=True)\n",
       "          (3): Tanh()\n",
       "          (4): Linear(in_features=8, out_features=1, bias=True)\n",
       "        )\n",
       "      )\n",
       "      (s1): FCNN(\n",
       "        (network): Sequential(\n",
       "          (0): Linear(in_features=1, out_features=8, bias=True)\n",
       "          (1): Tanh()\n",
       "          (2): Linear(in_features=8, out_features=8, bias=True)\n",
       "          (3): Tanh()\n",
       "          (4): Linear(in_features=8, out_features=1, bias=True)\n",
       "        )\n",
       "      )\n",
       "      (t2): FCNN(\n",
       "        (network): Sequential(\n",
       "          (0): Linear(in_features=1, out_features=8, bias=True)\n",
       "          (1): Tanh()\n",
       "          (2): Linear(in_features=8, out_features=8, bias=True)\n",
       "          (3): Tanh()\n",
       "          (4): Linear(in_features=8, out_features=1, bias=True)\n",
       "        )\n",
       "      )\n",
       "      (s2): FCNN(\n",
       "        (network): Sequential(\n",
       "          (0): Linear(in_features=1, out_features=8, bias=True)\n",
       "          (1): Tanh()\n",
       "          (2): Linear(in_features=8, out_features=8, bias=True)\n",
       "          (3): Tanh()\n",
       "          (4): Linear(in_features=8, out_features=1, bias=True)\n",
       "        )\n",
       "      )\n",
       "    )\n",
       "    (15): ActNorm()\n",
       "    (16): OneByOneConv()\n",
       "    (17): RealNVP(\n",
       "      (t1): FCNN(\n",
       "        (network): Sequential(\n",
       "          (0): Linear(in_features=1, out_features=8, bias=True)\n",
       "          (1): Tanh()\n",
       "          (2): Linear(in_features=8, out_features=8, bias=True)\n",
       "          (3): Tanh()\n",
       "          (4): Linear(in_features=8, out_features=1, bias=True)\n",
       "        )\n",
       "      )\n",
       "      (s1): FCNN(\n",
       "        (network): Sequential(\n",
       "          (0): Linear(in_features=1, out_features=8, bias=True)\n",
       "          (1): Tanh()\n",
       "          (2): Linear(in_features=8, out_features=8, bias=True)\n",
       "          (3): Tanh()\n",
       "          (4): Linear(in_features=8, out_features=1, bias=True)\n",
       "        )\n",
       "      )\n",
       "      (t2): FCNN(\n",
       "        (network): Sequential(\n",
       "          (0): Linear(in_features=1, out_features=8, bias=True)\n",
       "          (1): Tanh()\n",
       "          (2): Linear(in_features=8, out_features=8, bias=True)\n",
       "          (3): Tanh()\n",
       "          (4): Linear(in_features=8, out_features=1, bias=True)\n",
       "        )\n",
       "      )\n",
       "      (s2): FCNN(\n",
       "        (network): Sequential(\n",
       "          (0): Linear(in_features=1, out_features=8, bias=True)\n",
       "          (1): Tanh()\n",
       "          (2): Linear(in_features=8, out_features=8, bias=True)\n",
       "          (3): Tanh()\n",
       "          (4): Linear(in_features=8, out_features=1, bias=True)\n",
       "        )\n",
       "      )\n",
       "    )\n",
       "    (18): ActNorm()\n",
       "    (19): OneByOneConv()\n",
       "    (20): RealNVP(\n",
       "      (t1): FCNN(\n",
       "        (network): Sequential(\n",
       "          (0): Linear(in_features=1, out_features=8, bias=True)\n",
       "          (1): Tanh()\n",
       "          (2): Linear(in_features=8, out_features=8, bias=True)\n",
       "          (3): Tanh()\n",
       "          (4): Linear(in_features=8, out_features=1, bias=True)\n",
       "        )\n",
       "      )\n",
       "      (s1): FCNN(\n",
       "        (network): Sequential(\n",
       "          (0): Linear(in_features=1, out_features=8, bias=True)\n",
       "          (1): Tanh()\n",
       "          (2): Linear(in_features=8, out_features=8, bias=True)\n",
       "          (3): Tanh()\n",
       "          (4): Linear(in_features=8, out_features=1, bias=True)\n",
       "        )\n",
       "      )\n",
       "      (t2): FCNN(\n",
       "        (network): Sequential(\n",
       "          (0): Linear(in_features=1, out_features=8, bias=True)\n",
       "          (1): Tanh()\n",
       "          (2): Linear(in_features=8, out_features=8, bias=True)\n",
       "          (3): Tanh()\n",
       "          (4): Linear(in_features=8, out_features=1, bias=True)\n",
       "        )\n",
       "      )\n",
       "      (s2): FCNN(\n",
       "        (network): Sequential(\n",
       "          (0): Linear(in_features=1, out_features=8, bias=True)\n",
       "          (1): Tanh()\n",
       "          (2): Linear(in_features=8, out_features=8, bias=True)\n",
       "          (3): Tanh()\n",
       "          (4): Linear(in_features=8, out_features=1, bias=True)\n",
       "        )\n",
       "      )\n",
       "    )\n",
       "    (21): ActNorm()\n",
       "    (22): OneByOneConv()\n",
       "    (23): RealNVP(\n",
       "      (t1): FCNN(\n",
       "        (network): Sequential(\n",
       "          (0): Linear(in_features=1, out_features=8, bias=True)\n",
       "          (1): Tanh()\n",
       "          (2): Linear(in_features=8, out_features=8, bias=True)\n",
       "          (3): Tanh()\n",
       "          (4): Linear(in_features=8, out_features=1, bias=True)\n",
       "        )\n",
       "      )\n",
       "      (s1): FCNN(\n",
       "        (network): Sequential(\n",
       "          (0): Linear(in_features=1, out_features=8, bias=True)\n",
       "          (1): Tanh()\n",
       "          (2): Linear(in_features=8, out_features=8, bias=True)\n",
       "          (3): Tanh()\n",
       "          (4): Linear(in_features=8, out_features=1, bias=True)\n",
       "        )\n",
       "      )\n",
       "      (t2): FCNN(\n",
       "        (network): Sequential(\n",
       "          (0): Linear(in_features=1, out_features=8, bias=True)\n",
       "          (1): Tanh()\n",
       "          (2): Linear(in_features=8, out_features=8, bias=True)\n",
       "          (3): Tanh()\n",
       "          (4): Linear(in_features=8, out_features=1, bias=True)\n",
       "        )\n",
       "      )\n",
       "      (s2): FCNN(\n",
       "        (network): Sequential(\n",
       "          (0): Linear(in_features=1, out_features=8, bias=True)\n",
       "          (1): Tanh()\n",
       "          (2): Linear(in_features=8, out_features=8, bias=True)\n",
       "          (3): Tanh()\n",
       "          (4): Linear(in_features=8, out_features=1, bias=True)\n",
       "        )\n",
       "      )\n",
       "    )\n",
       "    (24): ActNorm()\n",
       "    (25): OneByOneConv()\n",
       "    (26): RealNVP(\n",
       "      (t1): FCNN(\n",
       "        (network): Sequential(\n",
       "          (0): Linear(in_features=1, out_features=8, bias=True)\n",
       "          (1): Tanh()\n",
       "          (2): Linear(in_features=8, out_features=8, bias=True)\n",
       "          (3): Tanh()\n",
       "          (4): Linear(in_features=8, out_features=1, bias=True)\n",
       "        )\n",
       "      )\n",
       "      (s1): FCNN(\n",
       "        (network): Sequential(\n",
       "          (0): Linear(in_features=1, out_features=8, bias=True)\n",
       "          (1): Tanh()\n",
       "          (2): Linear(in_features=8, out_features=8, bias=True)\n",
       "          (3): Tanh()\n",
       "          (4): Linear(in_features=8, out_features=1, bias=True)\n",
       "        )\n",
       "      )\n",
       "      (t2): FCNN(\n",
       "        (network): Sequential(\n",
       "          (0): Linear(in_features=1, out_features=8, bias=True)\n",
       "          (1): Tanh()\n",
       "          (2): Linear(in_features=8, out_features=8, bias=True)\n",
       "          (3): Tanh()\n",
       "          (4): Linear(in_features=8, out_features=1, bias=True)\n",
       "        )\n",
       "      )\n",
       "      (s2): FCNN(\n",
       "        (network): Sequential(\n",
       "          (0): Linear(in_features=1, out_features=8, bias=True)\n",
       "          (1): Tanh()\n",
       "          (2): Linear(in_features=8, out_features=8, bias=True)\n",
       "          (3): Tanh()\n",
       "          (4): Linear(in_features=8, out_features=1, bias=True)\n",
       "        )\n",
       "      )\n",
       "    )\n",
       "    (27): ActNorm()\n",
       "    (28): OneByOneConv()\n",
       "    (29): RealNVP(\n",
       "      (t1): FCNN(\n",
       "        (network): Sequential(\n",
       "          (0): Linear(in_features=1, out_features=8, bias=True)\n",
       "          (1): Tanh()\n",
       "          (2): Linear(in_features=8, out_features=8, bias=True)\n",
       "          (3): Tanh()\n",
       "          (4): Linear(in_features=8, out_features=1, bias=True)\n",
       "        )\n",
       "      )\n",
       "      (s1): FCNN(\n",
       "        (network): Sequential(\n",
       "          (0): Linear(in_features=1, out_features=8, bias=True)\n",
       "          (1): Tanh()\n",
       "          (2): Linear(in_features=8, out_features=8, bias=True)\n",
       "          (3): Tanh()\n",
       "          (4): Linear(in_features=8, out_features=1, bias=True)\n",
       "        )\n",
       "      )\n",
       "      (t2): FCNN(\n",
       "        (network): Sequential(\n",
       "          (0): Linear(in_features=1, out_features=8, bias=True)\n",
       "          (1): Tanh()\n",
       "          (2): Linear(in_features=8, out_features=8, bias=True)\n",
       "          (3): Tanh()\n",
       "          (4): Linear(in_features=8, out_features=1, bias=True)\n",
       "        )\n",
       "      )\n",
       "      (s2): FCNN(\n",
       "        (network): Sequential(\n",
       "          (0): Linear(in_features=1, out_features=8, bias=True)\n",
       "          (1): Tanh()\n",
       "          (2): Linear(in_features=8, out_features=8, bias=True)\n",
       "          (3): Tanh()\n",
       "          (4): Linear(in_features=8, out_features=1, bias=True)\n",
       "        )\n",
       "      )\n",
       "    )\n",
       "  )\n",
       ")"
      ]
     },
     "execution_count": 15,
     "metadata": {},
     "output_type": "execute_result"
    }
   ],
   "source": [
    "model_planar = NormalizingFlowModel(prior, flows_planar)\n",
    "model_rnvp = NormalizingFlowModel(prior, flows_rnvp)\n",
    "model_glow = NormalizingFlowModel(prior, flows_glow)\n",
    "\n",
    "model_glow"
   ]
  },
  {
   "cell_type": "markdown",
   "metadata": {},
   "source": [
    "## Set optimizer"
   ]
  },
  {
   "cell_type": "code",
   "execution_count": 16,
   "metadata": {
    "ExecuteTime": {
     "end_time": "2022-02-19T18:51:25.605789Z",
     "start_time": "2022-02-19T18:51:25.601623Z"
    }
   },
   "outputs": [],
   "source": [
    "opt_planar = optim.Adam(model_planar.parameters(), lr=0.005)\n",
    "opt_rnvp = optim.Adam(model_rnvp.parameters(), lr=0.005)\n",
    "opt_glow = optim.Adam(model_glow.parameters(), lr=0.005)"
   ]
  },
  {
   "cell_type": "markdown",
   "metadata": {},
   "source": [
    "# Train"
   ]
  },
  {
   "cell_type": "code",
   "execution_count": 17,
   "metadata": {
    "ExecuteTime": {
     "end_time": "2022-02-19T18:51:25.611310Z",
     "start_time": "2022-02-19T18:51:25.606802Z"
    }
   },
   "outputs": [],
   "source": [
    "# arguments setting\n",
    "\n",
    "args.iterations=1000\n",
    "args.data='normal'\n",
    "\n",
    "x = torch.Tensor(gen_data(args))"
   ]
  },
  {
   "cell_type": "code",
   "execution_count": 18,
   "metadata": {
    "ExecuteTime": {
     "end_time": "2022-02-19T18:51:25.617417Z",
     "start_time": "2022-02-19T18:51:25.614654Z"
    }
   },
   "outputs": [],
   "source": [
    "# normalization\n",
    "for i in range(x.shape[1]):\n",
    "    x[:,i] = (x[:,i] - torch.mean(x[:,i])) / torch.std(x[:,i])"
   ]
  },
  {
   "cell_type": "code",
   "execution_count": 19,
   "metadata": {
    "ExecuteTime": {
     "end_time": "2022-02-19T18:51:25.623689Z",
     "start_time": "2022-02-19T18:51:25.618949Z"
    }
   },
   "outputs": [],
   "source": [
    "def train(args, model, optim, vis=False):\n",
    "    \n",
    "    loss_list = []\n",
    "    \n",
    "    for i in range(args.iterations):\n",
    "        optim.zero_grad()\n",
    "        z, prior_logprob, log_det = model(x)\n",
    "        logprob = prior_logprob + log_det\n",
    "        loss = -torch.mean(prior_logprob + log_det)\n",
    "        loss.backward()\n",
    "        optim.step()\n",
    "        \n",
    "        loss_list.append(float(loss))\n",
    "        \n",
    "        if i % 200 == 0:\n",
    "            print(f\"Iter: {i}\\t\" +\n",
    "                  f\"Logprob: {logprob.mean().data:.2f}\\t\" +\n",
    "                  f\"Prior: {prior_logprob.mean().data:.2f}\\t\" +\n",
    "                  f\"LogDet: {log_det.mean().data:.2f}\")\n",
    "    \n",
    "    figsize=(10,7)\n",
    "\n",
    "    plt.subplot(1, 3, 1)\n",
    "    plt.title(\"Training data\")\n",
    "    plt.scatter(x[:,0], x[:,1], marker=\"o\", color=\"black\", alpha=0.5)\n",
    "\n",
    "    plt.subplot(1, 3, 2)\n",
    "    plt.title(\"Latent space\")\n",
    "    plt.scatter(z.data[:,0], z.data[:,1], marker=\"o\", color=\"darkblue\", alpha=0.5)\n",
    "\n",
    "    if vis:\n",
    "        plt.subplot(1, 3, 3)\n",
    "        plt.title(\"Generated samples\")\n",
    "        samples = model.sample(500).data\n",
    "        plt.scatter(samples[:,0], samples[:,1], marker=\"o\", color=\"black\", alpha=0.5)\n",
    "\n",
    "    plt.show()\n",
    "\n",
    "    return model, optim, loss_list"
   ]
  },
  {
   "cell_type": "markdown",
   "metadata": {},
   "source": [
    "## planar"
   ]
  },
  {
   "cell_type": "code",
   "execution_count": 20,
   "metadata": {
    "ExecuteTime": {
     "end_time": "2022-02-19T18:51:29.885570Z",
     "start_time": "2022-02-19T18:51:25.624697Z"
    }
   },
   "outputs": [
    {
     "name": "stdout",
     "output_type": "stream",
     "text": [
      "Iter: 0\tLogprob: -3.44\tPrior: -2.73\tLogDet: -0.70\n",
      "Iter: 200\tLogprob: -2.37\tPrior: -2.77\tLogDet: 0.39\n",
      "Iter: 400\tLogprob: -2.33\tPrior: -2.80\tLogDet: 0.47\n",
      "Iter: 600\tLogprob: -2.32\tPrior: -2.82\tLogDet: 0.50\n",
      "Iter: 800\tLogprob: -2.29\tPrior: -2.82\tLogDet: 0.53\n"
     ]
    },
    {
     "data": {
      "image/png": "[encoded data removed]",
      "text/plain": [
       "<Figure size 432x288 with 2 Axes>"
      ]
     },
     "metadata": {},
     "output_type": "display_data"
    }
   ],
   "source": [
    "model_planar, opt_planar, loss_planar = train(args, model_planar, opt_planar, vis=False)"
   ]
  },
  {
   "cell_type": "markdown",
   "metadata": {},
   "source": [
    "## RealNVP"
   ]
  },
  {
   "cell_type": "code",
   "execution_count": 21,
   "metadata": {
    "ExecuteTime": {
     "end_time": "2022-02-19T18:51:46.188878Z",
     "start_time": "2022-02-19T18:51:29.886607Z"
    }
   },
   "outputs": [
    {
     "name": "stdout",
     "output_type": "stream",
     "text": [
      "Iter: 0\tLogprob: -4.54\tPrior: -2.81\tLogDet: -1.73\n",
      "Iter: 200\tLogprob: -2.26\tPrior: -2.84\tLogDet: 0.58\n",
      "Iter: 400\tLogprob: -2.22\tPrior: -2.82\tLogDet: 0.59\n",
      "Iter: 600\tLogprob: -2.30\tPrior: -2.82\tLogDet: 0.52\n",
      "Iter: 800\tLogprob: -2.20\tPrior: -2.92\tLogDet: 0.72\n"
     ]
    },
    {
     "data": {
      "image/png": "[encoded data removed]",
      "text/plain": [
       "<Figure size 432x288 with 3 Axes>"
      ]
     },
     "metadata": {},
     "output_type": "display_data"
    }
   ],
   "source": [
    "model_rvnp, opt_rvnp, loss_rvnp = train(args, model_rnvp, opt_rnvp, vis=True)"
   ]
  },
  {
   "cell_type": "markdown",
   "metadata": {},
   "source": [
    "## Glow"
   ]
  },
  {
   "cell_type": "code",
   "execution_count": 22,
   "metadata": {
    "ExecuteTime": {
     "end_time": "2022-02-19T18:52:07.033924Z",
     "start_time": "2022-02-19T18:51:46.190037Z"
    },
    "scrolled": false
   },
   "outputs": [
    {
     "name": "stdout",
     "output_type": "stream",
     "text": [
      "Iter: 0\tLogprob: -118.19\tPrior: -118.93\tLogDet: 0.74\n",
      "Iter: 200\tLogprob: -2.43\tPrior: -2.82\tLogDet: 0.39\n",
      "Iter: 400\tLogprob: -2.32\tPrior: -2.84\tLogDet: 0.52\n",
      "Iter: 600\tLogprob: -2.29\tPrior: -2.84\tLogDet: 0.55\n",
      "Iter: 800\tLogprob: -2.26\tPrior: -2.84\tLogDet: 0.58\n"
     ]
    },
    {
     "data": {
      "image/png": "[encoded data removed]",
      "text/plain": [
       "<Figure size 432x288 with 3 Axes>"
      ]
     },
     "metadata": {},
     "output_type": "display_data"
    }
   ],
   "source": [
    "model_glow, opt_glow, loss_glow = train(args, model_glow, opt_glow, vis=True)"
   ]
  },
  {
   "cell_type": "markdown",
   "metadata": {},
   "source": [
    "## Moon data"
   ]
  },
  {
   "cell_type": "code",
   "execution_count": 23,
   "metadata": {
    "ExecuteTime": {
     "end_time": "2022-02-19T18:52:07.038044Z",
     "start_time": "2022-02-19T18:52:07.035254Z"
    }
   },
   "outputs": [],
   "source": [
    "# arguments setting\n",
    "args.data='moon'\n",
    "\n",
    "x = torch.Tensor(gen_data(args))"
   ]
  },
  {
   "cell_type": "code",
   "execution_count": 24,
   "metadata": {
    "ExecuteTime": {
     "end_time": "2022-02-19T18:52:07.042563Z",
     "start_time": "2022-02-19T18:52:07.039414Z"
    }
   },
   "outputs": [],
   "source": [
    "# normalization\n",
    "for i in range(x.shape[1]):\n",
    "    x[:,i] = (x[:,i] - torch.mean(x[:,i])) / torch.std(x[:,i])"
   ]
  },
  {
   "cell_type": "code",
   "execution_count": 25,
   "metadata": {
    "ExecuteTime": {
     "end_time": "2022-02-19T18:52:07.049117Z",
     "start_time": "2022-02-19T18:52:07.043716Z"
    }
   },
   "outputs": [],
   "source": [
    "def train(args, model, optim, vis=False):\n",
    "    \n",
    "    loss_list = []\n",
    "    \n",
    "    for i in range(args.iterations):\n",
    "        optim.zero_grad()\n",
    "        z, prior_logprob, log_det = model(x)\n",
    "        logprob = prior_logprob + log_det\n",
    "        loss = -torch.mean(prior_logprob + log_det)\n",
    "        loss.backward()\n",
    "        optim.step()\n",
    "        \n",
    "        loss_list.append(float(loss))\n",
    "        \n",
    "        if i % 200 == 0:\n",
    "            print(f\"Iter: {i}\\t\" +\n",
    "                  f\"Logprob: {logprob.mean().data:.2f}\\t\" +\n",
    "                  f\"Prior: {prior_logprob.mean().data:.2f}\\t\" +\n",
    "                  f\"LogDet: {log_det.mean().data:.2f}\")\n",
    "    \n",
    "    figsize=(10,7)\n",
    "\n",
    "    plt.subplot(1, 3, 1)\n",
    "    plt.title(\"Training data\")\n",
    "    plt.scatter(x[:,0], x[:,1], marker=\"o\", color=\"black\", alpha=0.5)\n",
    "\n",
    "    plt.subplot(1, 3, 2)\n",
    "    plt.title(\"Latent space\")\n",
    "    plt.scatter(z.data[:,0], z.data[:,1], marker=\"o\", color=\"darkblue\", alpha=0.5)\n",
    "\n",
    "    if vis:\n",
    "        plt.subplot(1, 3, 3)\n",
    "        plt.title(\"Generated samples\")\n",
    "        samples = model.sample(500).data\n",
    "        plt.scatter(samples[:,0], samples[:,1], marker=\"o\", color=\"black\", alpha=0.5)\n",
    "\n",
    "    plt.show()\n",
    "\n",
    "    return model, optim, loss_list"
   ]
  },
  {
   "cell_type": "code",
   "execution_count": 26,
   "metadata": {
    "ExecuteTime": {
     "end_time": "2022-02-19T18:52:07.066625Z",
     "start_time": "2022-02-19T18:52:07.050397Z"
    }
   },
   "outputs": [],
   "source": [
    "# The number of flow transformation = 10\n",
    "args.num_flows =10\n",
    "args.iterations=10000\n",
    "\n",
    "flows_planar = [eval('Planar')(dim=2) for _ in range(args.num_flows)]\n",
    "flows_rnvp = [eval(args.flow)(dim=2) for _ in range(args.num_flows)]\n",
    "\n",
    "convs = [OneByOneConv(dim=2) for _ in range(args.num_flows)]\n",
    "actnorms = [ActNorm(dim=2) for _ in range(args.num_flows)]\n",
    "flows_glow = list(itertools.chain(*zip(actnorms, convs, flows_rnvp)))"
   ]
  },
  {
   "cell_type": "code",
   "execution_count": 27,
   "metadata": {
    "ExecuteTime": {
     "end_time": "2022-02-19T18:52:07.069649Z",
     "start_time": "2022-02-19T18:52:07.067584Z"
    }
   },
   "outputs": [],
   "source": [
    "model_planar = NormalizingFlowModel(prior, flows_planar)\n",
    "model_rnvp = NormalizingFlowModel(prior, flows_rnvp)\n",
    "model_glow = NormalizingFlowModel(prior, flows_glow)"
   ]
  },
  {
   "cell_type": "code",
   "execution_count": 28,
   "metadata": {
    "ExecuteTime": {
     "end_time": "2022-02-19T18:52:07.075211Z",
     "start_time": "2022-02-19T18:52:07.070690Z"
    }
   },
   "outputs": [],
   "source": [
    "opt_planar = optim.Adam(model_planar.parameters(), lr=0.005)\n",
    "opt_rnvp = optim.Adam(model_rnvp.parameters(), lr=0.005)\n",
    "opt_glow = optim.Adam(model_glow.parameters(), lr=0.005)"
   ]
  },
  {
   "cell_type": "code",
   "execution_count": 29,
   "metadata": {
    "ExecuteTime": {
     "end_time": "2022-02-19T18:52:37.048961Z",
     "start_time": "2022-02-19T18:52:07.076210Z"
    }
   },
   "outputs": [
    {
     "name": "stdout",
     "output_type": "stream",
     "text": [
      "Iter: 0\tLogprob: -3.53\tPrior: -3.72\tLogDet: 0.19\n",
      "Iter: 200\tLogprob: -2.55\tPrior: -2.74\tLogDet: 0.19\n",
      "Iter: 400\tLogprob: -2.20\tPrior: -2.74\tLogDet: 0.54\n",
      "Iter: 600\tLogprob: -1.78\tPrior: -2.82\tLogDet: 1.05\n",
      "Iter: 800\tLogprob: -1.41\tPrior: -2.78\tLogDet: 1.37\n",
      "Iter: 1000\tLogprob: -0.80\tPrior: -2.75\tLogDet: 1.95\n",
      "Iter: 1200\tLogprob: -0.42\tPrior: -2.78\tLogDet: 2.37\n",
      "Iter: 1400\tLogprob: -0.36\tPrior: -2.53\tLogDet: 2.17\n",
      "Iter: 1600\tLogprob: 0.02\tPrior: -2.72\tLogDet: 2.74\n",
      "Iter: 1800\tLogprob: 0.21\tPrior: -2.69\tLogDet: 2.91\n",
      "Iter: 2000\tLogprob: 0.04\tPrior: -2.93\tLogDet: 2.97\n",
      "Iter: 2200\tLogprob: -0.05\tPrior: -2.99\tLogDet: 2.95\n",
      "Iter: 2400\tLogprob: -1.17\tPrior: -4.00\tLogDet: 2.83\n",
      "Iter: 2600\tLogprob: 0.13\tPrior: -2.59\tLogDet: 2.73\n",
      "Iter: 2800\tLogprob: 0.54\tPrior: -2.74\tLogDet: 3.28\n",
      "Iter: 3000\tLogprob: -0.04\tPrior: -3.26\tLogDet: 3.22\n",
      "Iter: 3200\tLogprob: 0.59\tPrior: -2.76\tLogDet: 3.35\n",
      "Iter: 3400\tLogprob: -0.81\tPrior: -3.89\tLogDet: 3.08\n",
      "Iter: 3600\tLogprob: 0.46\tPrior: -2.75\tLogDet: 3.21\n",
      "Iter: 3800\tLogprob: 0.69\tPrior: -2.72\tLogDet: 3.41\n",
      "Iter: 4000\tLogprob: 0.78\tPrior: -2.70\tLogDet: 3.48\n",
      "Iter: 4200\tLogprob: 0.82\tPrior: -2.70\tLogDet: 3.52\n",
      "Iter: 4400\tLogprob: 0.82\tPrior: -2.67\tLogDet: 3.49\n",
      "Iter: 4600\tLogprob: 0.59\tPrior: -2.94\tLogDet: 3.53\n",
      "Iter: 4800\tLogprob: 0.86\tPrior: -2.70\tLogDet: 3.57\n",
      "Iter: 5000\tLogprob: 0.86\tPrior: -2.71\tLogDet: 3.57\n",
      "Iter: 5200\tLogprob: 0.90\tPrior: -2.66\tLogDet: 3.56\n",
      "Iter: 5400\tLogprob: 0.07\tPrior: -3.31\tLogDet: 3.38\n",
      "Iter: 5600\tLogprob: 0.93\tPrior: -2.68\tLogDet: 3.61\n",
      "Iter: 5800\tLogprob: 0.52\tPrior: -2.90\tLogDet: 3.42\n",
      "Iter: 6000\tLogprob: 0.95\tPrior: -2.66\tLogDet: 3.61\n",
      "Iter: 6200\tLogprob: -1.76\tPrior: -4.96\tLogDet: 3.19\n",
      "Iter: 6400\tLogprob: 0.62\tPrior: -2.72\tLogDet: 3.34\n",
      "Iter: 6600\tLogprob: 0.87\tPrior: -2.64\tLogDet: 3.51\n",
      "Iter: 6800\tLogprob: 0.09\tPrior: -3.52\tLogDet: 3.62\n",
      "Iter: 7000\tLogprob: 0.35\tPrior: -2.73\tLogDet: 3.08\n",
      "Iter: 7200\tLogprob: 0.97\tPrior: -2.75\tLogDet: 3.72\n",
      "Iter: 7400\tLogprob: 0.78\tPrior: -2.65\tLogDet: 3.43\n",
      "Iter: 7600\tLogprob: 0.65\tPrior: -2.70\tLogDet: 3.34\n",
      "Iter: 7800\tLogprob: 1.23\tPrior: -2.69\tLogDet: 3.93\n",
      "Iter: 8000\tLogprob: 0.14\tPrior: -2.93\tLogDet: 3.07\n",
      "Iter: 8200\tLogprob: 1.29\tPrior: -2.69\tLogDet: 3.98\n",
      "Iter: 8400\tLogprob: 1.29\tPrior: -2.77\tLogDet: 4.06\n",
      "Iter: 8600\tLogprob: 1.30\tPrior: -2.77\tLogDet: 4.07\n",
      "Iter: 8800\tLogprob: 1.27\tPrior: -2.82\tLogDet: 4.08\n",
      "Iter: 9000\tLogprob: 1.34\tPrior: -2.71\tLogDet: 4.04\n",
      "Iter: 9200\tLogprob: 1.20\tPrior: -2.90\tLogDet: 4.10\n",
      "Iter: 9400\tLogprob: 1.25\tPrior: -2.67\tLogDet: 3.92\n",
      "Iter: 9600\tLogprob: 0.30\tPrior: -3.50\tLogDet: 3.81\n",
      "Iter: 9800\tLogprob: 0.95\tPrior: -2.99\tLogDet: 3.95\n"
     ]
    },
    {
     "data": {
      "image/png": "[encoded data removed]",
      "text/plain": [
       "<Figure size 432x288 with 2 Axes>"
      ]
     },
     "metadata": {},
     "output_type": "display_data"
    }
   ],
   "source": [
    "model_planar, opt_planar, loss_planar = train(args, model_planar, opt_planar, vis=False)"
   ]
  },
  {
   "cell_type": "code",
   "execution_count": 30,
   "metadata": {
    "ExecuteTime": {
     "end_time": "2022-02-19T18:54:50.064001Z",
     "start_time": "2022-02-19T18:52:37.050251Z"
    }
   },
   "outputs": [
    {
     "name": "stdout",
     "output_type": "stream",
     "text": [
      "Iter: 0\tLogprob: -4.42\tPrior: -5.06\tLogDet: 0.63\n",
      "Iter: 200\tLogprob: -1.36\tPrior: -2.94\tLogDet: 1.59\n",
      "Iter: 400\tLogprob: -0.71\tPrior: -2.84\tLogDet: 2.13\n",
      "Iter: 600\tLogprob: -4.09\tPrior: -2.44\tLogDet: -1.65\n",
      "Iter: 800\tLogprob: -1.65\tPrior: -2.92\tLogDet: 1.26\n",
      "Iter: 1000\tLogprob: -1.63\tPrior: -2.44\tLogDet: 0.82\n",
      "Iter: 1200\tLogprob: -0.71\tPrior: -2.99\tLogDet: 2.27\n",
      "Iter: 1400\tLogprob: -1.18\tPrior: -3.28\tLogDet: 2.10\n",
      "Iter: 1600\tLogprob: -0.31\tPrior: -2.35\tLogDet: 2.04\n",
      "Iter: 1800\tLogprob: -0.52\tPrior: -3.06\tLogDet: 2.54\n",
      "Iter: 2000\tLogprob: -0.89\tPrior: -2.45\tLogDet: 1.55\n",
      "Iter: 2200\tLogprob: 0.00\tPrior: -2.53\tLogDet: 2.53\n",
      "Iter: 2400\tLogprob: -0.17\tPrior: -2.91\tLogDet: 2.74\n",
      "Iter: 2600\tLogprob: -2.98\tPrior: -2.67\tLogDet: -0.31\n",
      "Iter: 2800\tLogprob: -3.91\tPrior: -4.94\tLogDet: 1.03\n",
      "Iter: 3000\tLogprob: -1.19\tPrior: -2.51\tLogDet: 1.31\n",
      "Iter: 3200\tLogprob: -1.42\tPrior: -2.59\tLogDet: 1.18\n",
      "Iter: 3400\tLogprob: -2.19\tPrior: -4.24\tLogDet: 2.05\n",
      "Iter: 3600\tLogprob: -0.32\tPrior: -2.68\tLogDet: 2.35\n",
      "Iter: 3800\tLogprob: -0.58\tPrior: -3.03\tLogDet: 2.45\n",
      "Iter: 4000\tLogprob: -0.26\tPrior: -2.93\tLogDet: 2.67\n",
      "Iter: 4200\tLogprob: 0.33\tPrior: -2.33\tLogDet: 2.66\n",
      "Iter: 4400\tLogprob: 0.06\tPrior: -2.77\tLogDet: 2.82\n",
      "Iter: 4600\tLogprob: 0.42\tPrior: -2.44\tLogDet: 2.86\n",
      "Iter: 4800\tLogprob: -1.07\tPrior: -4.18\tLogDet: 3.12\n",
      "Iter: 5000\tLogprob: -1.02\tPrior: -3.97\tLogDet: 2.95\n",
      "Iter: 5200\tLogprob: 0.34\tPrior: -2.58\tLogDet: 2.92\n",
      "Iter: 5400\tLogprob: 0.53\tPrior: -2.71\tLogDet: 3.24\n",
      "Iter: 5600\tLogprob: 0.66\tPrior: -2.52\tLogDet: 3.18\n",
      "Iter: 5800\tLogprob: 0.95\tPrior: -2.20\tLogDet: 3.14\n",
      "Iter: 6000\tLogprob: 0.54\tPrior: -2.96\tLogDet: 3.50\n",
      "Iter: 6200\tLogprob: 1.11\tPrior: -2.41\tLogDet: 3.52\n",
      "Iter: 6400\tLogprob: 0.94\tPrior: -2.67\tLogDet: 3.61\n",
      "Iter: 6600\tLogprob: 0.93\tPrior: -2.54\tLogDet: 3.47\n",
      "Iter: 6800\tLogprob: 1.09\tPrior: -2.56\tLogDet: 3.65\n",
      "Iter: 7000\tLogprob: 0.91\tPrior: -2.77\tLogDet: 3.68\n",
      "Iter: 7200\tLogprob: 1.00\tPrior: -2.62\tLogDet: 3.62\n",
      "Iter: 7400\tLogprob: 0.60\tPrior: -2.31\tLogDet: 2.92\n",
      "Iter: 7600\tLogprob: 1.03\tPrior: -2.53\tLogDet: 3.56\n",
      "Iter: 7800\tLogprob: 1.07\tPrior: -2.58\tLogDet: 3.65\n",
      "Iter: 8000\tLogprob: 1.41\tPrior: -2.29\tLogDet: 3.70\n",
      "Iter: 8200\tLogprob: 0.40\tPrior: -3.22\tLogDet: 3.62\n",
      "Iter: 8400\tLogprob: 0.68\tPrior: -2.98\tLogDet: 3.66\n",
      "Iter: 8600\tLogprob: 0.69\tPrior: -3.25\tLogDet: 3.94\n",
      "Iter: 8800\tLogprob: 1.16\tPrior: -2.75\tLogDet: 3.91\n",
      "Iter: 9000\tLogprob: 0.81\tPrior: -2.64\tLogDet: 3.46\n",
      "Iter: 9200\tLogprob: 0.93\tPrior: -2.79\tLogDet: 3.71\n",
      "Iter: 9400\tLogprob: 1.30\tPrior: -2.67\tLogDet: 3.97\n",
      "Iter: 9600\tLogprob: 1.44\tPrior: -2.43\tLogDet: 3.87\n",
      "Iter: 9800\tLogprob: 1.10\tPrior: -2.54\tLogDet: 3.64\n"
     ]
    },
    {
     "data": {
      "image/png": "[encoded data removed]",
      "text/plain": [
       "<Figure size 432x288 with 3 Axes>"
      ]
     },
     "metadata": {},
     "output_type": "display_data"
    }
   ],
   "source": [
    "model_rvnp, opt_rvnp, loss_rvnp = train(args, model_rnvp, opt_rnvp, vis=True)"
   ]
  },
  {
   "cell_type": "code",
   "execution_count": 31,
   "metadata": {
    "ExecuteTime": {
     "end_time": "2022-02-19T18:56:21.787866Z",
     "start_time": "2022-02-19T18:54:50.065280Z"
    }
   },
   "outputs": [
    {
     "name": "stdout",
     "output_type": "stream",
     "text": [
      "Iter: 0\tLogprob: -1560.79\tPrior: -1565.12\tLogDet: 4.33\n",
      "Iter: 200\tLogprob: -2.90\tPrior: -2.72\tLogDet: -0.19\n",
      "Iter: 400\tLogprob: -2.67\tPrior: -2.82\tLogDet: 0.14\n",
      "Iter: 600\tLogprob: -2.58\tPrior: -2.80\tLogDet: 0.22\n",
      "Iter: 800\tLogprob: -2.42\tPrior: -2.74\tLogDet: 0.33\n",
      "Iter: 1000\tLogprob: -2.19\tPrior: -2.68\tLogDet: 0.50\n",
      "Iter: 1200\tLogprob: -1.82\tPrior: -2.64\tLogDet: 0.82\n",
      "Iter: 1400\tLogprob: -2.11\tPrior: -2.76\tLogDet: 0.65\n",
      "Iter: 1600\tLogprob: -3.22\tPrior: -4.17\tLogDet: 0.94\n",
      "Iter: 1800\tLogprob: -2.76\tPrior: -3.08\tLogDet: 0.32\n",
      "Iter: 2000\tLogprob: -2.65\tPrior: -3.15\tLogDet: 0.49\n",
      "Iter: 2200\tLogprob: -1.97\tPrior: -3.24\tLogDet: 1.27\n",
      "Iter: 2400\tLogprob: -2.12\tPrior: -2.80\tLogDet: 0.68\n",
      "Iter: 2600\tLogprob: -1.76\tPrior: -2.82\tLogDet: 1.06\n",
      "Iter: 2800\tLogprob: -1.78\tPrior: -3.14\tLogDet: 1.36\n",
      "Iter: 3000\tLogprob: -1.55\tPrior: -2.60\tLogDet: 1.05\n",
      "Iter: 3200\tLogprob: -1.51\tPrior: -2.64\tLogDet: 1.13\n",
      "Iter: 3400\tLogprob: -2.14\tPrior: -2.74\tLogDet: 0.61\n",
      "Iter: 3600\tLogprob: -1.95\tPrior: -2.78\tLogDet: 0.83\n",
      "Iter: 3800\tLogprob: -1.86\tPrior: -2.68\tLogDet: 0.82\n",
      "Iter: 4000\tLogprob: -2.05\tPrior: -2.93\tLogDet: 0.88\n",
      "Iter: 4200\tLogprob: -1.75\tPrior: -2.73\tLogDet: 0.97\n",
      "Iter: 4400\tLogprob: -1.69\tPrior: -2.73\tLogDet: 1.05\n",
      "Iter: 4600\tLogprob: -2.07\tPrior: -3.04\tLogDet: 0.97\n",
      "Iter: 4800\tLogprob: -1.92\tPrior: -2.78\tLogDet: 0.86\n"
     ]
    },
    {
     "data": {
      "image/png": "[encoded data removed]",
      "text/plain": [
       "<Figure size 432x288 with 3 Axes>"
      ]
     },
     "metadata": {},
     "output_type": "display_data"
    }
   ],
   "source": [
    "args.iterations=5000\n",
    "model_glow, opt_glow, loss_glow = train(args, model_glow, opt_glow, vis=True)"
   ]
  },
  {
   "cell_type": "markdown",
   "metadata": {},
   "source": [
    "# Appendix"
   ]
  },
  {
   "cell_type": "markdown",
   "metadata": {},
   "source": [
    "## Normalizing Flow "
   ]
  },
  {
   "cell_type": "markdown",
   "metadata": {},
   "source": [
    "<img src=\"imgs/flow1.png\" width=\"1000\" height=\"500\">\n",
    "<img src=\"imgs/flow2.png\" width=\"1000\" height=\"500\">"
   ]
  },
  {
   "cell_type": "markdown",
   "metadata": {},
   "source": [
    "## python \"eval\" function\n",
    "\n",
    "```python\n",
    "eval(expression:str)\n",
    "```\n",
    "\n",
    "- string의 expression(ex : \"1+2\")를 받아, 이를 그대로 python으로 실행하는 함수"
   ]
  },
  {
   "cell_type": "code",
   "execution_count": 32,
   "metadata": {
    "ExecuteTime": {
     "end_time": "2022-02-19T18:56:21.791278Z",
     "start_time": "2022-02-19T18:56:21.788916Z"
    }
   },
   "outputs": [
    {
     "data": {
      "text/plain": [
       "3"
      ]
     },
     "execution_count": 32,
     "metadata": {},
     "output_type": "execute_result"
    }
   ],
   "source": [
    "# ref : https://blockdmask.tistory.com/437\n",
    "\n",
    "eval(\"1+2\")"
   ]
  },
  {
   "cell_type": "code",
   "execution_count": 33,
   "metadata": {
    "ExecuteTime": {
     "end_time": "2022-02-19T18:56:21.795487Z",
     "start_time": "2022-02-19T18:56:21.792254Z"
    },
    "scrolled": true
   },
   "outputs": [
    {
     "data": {
      "text/plain": [
       "[0, 2, 4, 6, 8]"
      ]
     },
     "execution_count": 33,
     "metadata": {},
     "output_type": "execute_result"
    }
   ],
   "source": [
    "eval(\"[x*2 for x in range(5)]\")"
   ]
  },
  {
   "cell_type": "markdown",
   "metadata": {},
   "source": [
    "## Planar"
   ]
  },
  {
   "cell_type": "markdown",
   "metadata": {},
   "source": [
    "- reference : Stefano Ermon, Yang Song(stanford univ, lecture 7)\n",
    "    - https://deepgenerativemodels.github.io/assets/slides/cs236_lecture7.pdf\n",
    "\n",
    "<img src=\"imgs/planar_t.png\" width=\"1000\" height=\"500\">"
   ]
  },
  {
   "cell_type": "markdown",
   "metadata": {},
   "source": [
    "**make moons**"
   ]
  },
  {
   "cell_type": "code",
   "execution_count": 34,
   "metadata": {
    "ExecuteTime": {
     "end_time": "2022-02-19T18:56:21.891346Z",
     "start_time": "2022-02-19T18:56:21.796312Z"
    }
   },
   "outputs": [
    {
     "data": {
      "image/png": "[encoded data removed]",
      "text/plain": [
       "<Figure size 720x360 with 1 Axes>"
      ]
     },
     "metadata": {},
     "output_type": "display_data"
    }
   ],
   "source": [
    "from sklearn.datasets import make_moons\n",
    "\n",
    "data, _ = make_moons(n_samples=100)\n",
    "\n",
    "plt.figure(figsize=(10,5))\n",
    "plt.plot(data[:,0], data[:,1], '.')\n",
    "plt.show()"
   ]
  },
  {
   "cell_type": "markdown",
   "metadata": {},
   "source": [
    "**Planar transformation**\n",
    "\n",
    "- residual : nonlinearity\n",
    "    - u에 의해 원 데이터에 더해지는 nonlinearity값에 변화가 생김\n",
    "\n",
    "\n",
    "- w, b 고정\n",
    "- u만 변화시키며 transformation결과 확인\n",
    "\n",
    "<img src=\"imgs/planar.png\" width=\"250\" height=\"50\">"
   ]
  },
  {
   "cell_type": "code",
   "execution_count": 35,
   "metadata": {
    "ExecuteTime": {
     "end_time": "2022-02-19T18:56:21.969990Z",
     "start_time": "2022-02-19T18:56:21.892318Z"
    }
   },
   "outputs": [
    {
     "ename": "NameError",
     "evalue": "name 'self' is not defined",
     "output_type": "error",
     "traceback": [
      "\u001b[0;31m---------------------------------------------------------------------------\u001b[0m",
      "\u001b[0;31mNameError\u001b[0m                                 Traceback (most recent call last)",
      "\u001b[0;32m<ipython-input-35-4f24d044f2a1>\u001b[0m in \u001b[0;36m<module>\u001b[0;34m\u001b[0m\n\u001b[0;32m----> 1\u001b[0;31m \u001b[0mscal\u001b[0m \u001b[0;34m=\u001b[0m \u001b[0mtorch\u001b[0m\u001b[0;34m.\u001b[0m\u001b[0mlog\u001b[0m\u001b[0;34m(\u001b[0m\u001b[0;36m1\u001b[0m\u001b[0;34m+\u001b[0m\u001b[0mtorch\u001b[0m\u001b[0;34m.\u001b[0m\u001b[0mexp\u001b[0m\u001b[0;34m(\u001b[0m\u001b[0mself\u001b[0m\u001b[0;34m.\u001b[0m\u001b[0mw\u001b[0m \u001b[0;34m@\u001b[0m \u001b[0mself\u001b[0m\u001b[0;34m.\u001b[0m\u001b[0mu\u001b[0m\u001b[0;34m)\u001b[0m\u001b[0;34m)\u001b[0m \u001b[0;34m-\u001b[0m \u001b[0mself\u001b[0m\u001b[0;34m.\u001b[0m\u001b[0mw\u001b[0m \u001b[0;34m@\u001b[0m \u001b[0mself\u001b[0m\u001b[0;34m.\u001b[0m\u001b[0mu\u001b[0m \u001b[0;34m-\u001b[0m \u001b[0;36m1\u001b[0m\u001b[0;34m\u001b[0m\u001b[0;34m\u001b[0m\u001b[0m\n\u001b[0m\u001b[1;32m      2\u001b[0m \u001b[0mu\u001b[0m \u001b[0;34m=\u001b[0m \u001b[0mself\u001b[0m\u001b[0;34m.\u001b[0m\u001b[0mu\u001b[0m \u001b[0;34m+\u001b[0m \u001b[0mscal\u001b[0m \u001b[0;34m*\u001b[0m \u001b[0mself\u001b[0m\u001b[0;34m.\u001b[0m\u001b[0mw\u001b[0m \u001b[0;34m/\u001b[0m \u001b[0mtorch\u001b[0m\u001b[0;34m.\u001b[0m\u001b[0mnorm\u001b[0m\u001b[0;34m(\u001b[0m\u001b[0mself\u001b[0m\u001b[0;34m.\u001b[0m\u001b[0mw\u001b[0m\u001b[0;34m)\u001b[0m \u001b[0;34m**\u001b[0m \u001b[0;36m2\u001b[0m\u001b[0;34m\u001b[0m\u001b[0;34m\u001b[0m\u001b[0m\n\u001b[1;32m      3\u001b[0m \u001b[0mlin\u001b[0m \u001b[0;34m=\u001b[0m \u001b[0mtorch\u001b[0m\u001b[0;34m.\u001b[0m\u001b[0munsqueeze\u001b[0m\u001b[0;34m(\u001b[0m\u001b[0mx\u001b[0m \u001b[0;34m@\u001b[0m \u001b[0mself\u001b[0m\u001b[0;34m.\u001b[0m\u001b[0mw\u001b[0m\u001b[0;34m,\u001b[0m \u001b[0;36m1\u001b[0m\u001b[0;34m)\u001b[0m \u001b[0;34m+\u001b[0m \u001b[0mself\u001b[0m\u001b[0;34m.\u001b[0m\u001b[0mb\u001b[0m\u001b[0;34m\u001b[0m\u001b[0;34m\u001b[0m\u001b[0m\n\u001b[1;32m      4\u001b[0m \u001b[0mz\u001b[0m \u001b[0;34m=\u001b[0m \u001b[0mx\u001b[0m \u001b[0;34m+\u001b[0m \u001b[0mu\u001b[0m \u001b[0;34m*\u001b[0m \u001b[0mself\u001b[0m\u001b[0;34m.\u001b[0m\u001b[0mh\u001b[0m\u001b[0;34m(\u001b[0m\u001b[0mlin\u001b[0m\u001b[0;34m)\u001b[0m\u001b[0;34m\u001b[0m\u001b[0;34m\u001b[0m\u001b[0m\n\u001b[1;32m      5\u001b[0m \u001b[0mphi\u001b[0m \u001b[0;34m=\u001b[0m \u001b[0mfunctional_derivatives\u001b[0m\u001b[0;34m[\u001b[0m\u001b[0mself\u001b[0m\u001b[0;34m.\u001b[0m\u001b[0mh\u001b[0m\u001b[0;34m]\u001b[0m\u001b[0;34m(\u001b[0m\u001b[0mlin\u001b[0m\u001b[0;34m)\u001b[0m \u001b[0;34m*\u001b[0m \u001b[0mself\u001b[0m\u001b[0;34m.\u001b[0m\u001b[0mw\u001b[0m\u001b[0;34m\u001b[0m\u001b[0;34m\u001b[0m\u001b[0m\n",
      "\u001b[0;31mNameError\u001b[0m: name 'self' is not defined"
     ]
    }
   ],
   "source": [
    "scal = torch.log(1+torch.exp(self.w @ self.u)) - self.w @ self.u - 1\n",
    "u = self.u + scal * self.w / torch.norm(self.w) ** 2\n",
    "lin = torch.unsqueeze(x @ self.w, 1) + self.b\n",
    "z = x + u * self.h(lin)\n",
    "phi = functional_derivatives[self.h](lin) * self.w\n",
    "log_det = torch.log(torch.abs(1 + phi @ u) + 1e-4)\n",
    "return z, log_det"
   ]
  },
  {
   "cell_type": "code",
   "execution_count": null,
   "metadata": {
    "ExecuteTime": {
     "end_time": "2022-02-19T18:56:21.986209Z",
     "start_time": "2022-02-19T18:51:24.332Z"
    }
   },
   "outputs": [],
   "source": [
    "from matplotlib import collections  as mc\n",
    "\n",
    "def linear(w, x, b):\n",
    "    '''\n",
    "    linear transformation : w.T@z + b\n",
    "    \n",
    "    in : 2-dim \n",
    "    out : 1-dim\n",
    "    '''\n",
    "    return x@w + b\n",
    "\n",
    "def planar(u):\n",
    "    '''\n",
    "    planar transformation : data + u * tanh(linear)\n",
    "    \n",
    "    in : 2-dim\n",
    "    out : 2-dim\n",
    "    '''\n",
    "    return data + u*np.tanh(linear(w,data,b)[:, np.newaxis])\n",
    "\n",
    "\n",
    "data, _ = make_moons(n_samples=100)\n",
    "w, b = np.ones(2,)*2., np.zeros(1,)\n",
    "fig, axes = plt.subplots(5, 2, figsize=(20, 20))\n",
    "\n",
    "for i, v in enumerate(np.linspace(0.2, 2., 10)):\n",
    "    u = np.ones((2,)) * v\n",
    "\n",
    "    transformed = planar(u)\n",
    "\n",
    "    axes[i//2, i%2].plot(data[:, 0], data[:, 1], '.', color='blue');\n",
    "    axes[i//2, i%2].axis('off');\n",
    "    axes[i//2, i%2].plot(transformed[:, 0], transformed[:, 1], '.', color='red');\n",
    "    axes[i//2, i%2].set_title('v=%.1f' % v)\n",
    "\n",
    "    lines = [[data[i], transformed[i]] for i in range(100)]\n",
    "    lc = mc.LineCollection(lines, colors='black', linewidths=0.5)\n",
    "    axes[i//2, i%2].add_collection(lc)"
   ]
  },
  {
   "cell_type": "markdown",
   "metadata": {},
   "source": [
    "**Log determinant of 'Planar flow'**\n",
    "\n",
    "- reference : Stefano Ermon, Yang Song(stanford univ, lecture 7)\n",
    "    - https://deepgenerativemodels.github.io/assets/slides/cs236_lecture7.pdf\n",
    "\n",
    "- objective function of NF\n",
    "<img src=\"imgs/objec.png\" width=\"1000\" height=\"500\">\n",
    "\n",
    "- Log determinant of 'Planar flow'\n",
    "<img src=\"imgs/planar_logdet.png\" width=\"1000\" height=\"500\">"
   ]
  },
  {
   "cell_type": "markdown",
   "metadata": {},
   "source": [
    "## Affine coupling layer\n",
    "\n",
    "<img src=\"imgs/affine.png\" width=\"1000\" height=\"500\">"
   ]
  },
  {
   "cell_type": "markdown",
   "metadata": {},
   "source": [
    "## Glow\n",
    "\n",
    "- structure\n",
    "\n",
    "<img src=\"imgs/glow_structure.png\" width=\"1000\" height=\"500\">"
   ]
  },
  {
   "cell_type": "markdown",
   "metadata": {},
   "source": [
    "- 1x1 conv\n",
    "\n",
    "<img src=\"imgs/1x1_2.png\" width=\"1000\" height=\"500\">\n",
    "<img src=\"imgs/1x1_1.png\" width=\"1000\" height=\"500\">\n",
    "<img src=\"imgs/1x1_3.png\" width=\"1000\" height=\"500\">\n",
    "\n",
    "       \n",
    "\n",
    "- Act norm\n",
    "\n",
    "<img src=\"imgs/actnorm.png\" width=\"1000\" height=\"500\">\n",
    "\n",
    "- Log determinant of '1x1 conv' and 'Act norm'\n",
    "\n",
    "<img src=\"imgs/log_det_1x1.png\" width=\"1000\" height=\"500\">"
   ]
  },
  {
   "cell_type": "code",
   "execution_count": null,
   "metadata": {},
   "outputs": [],
   "source": []
  },
  {
   "cell_type": "code",
   "execution_count": null,
   "metadata": {},
   "outputs": [],
   "source": []
  },
  {
   "cell_type": "code",
   "execution_count": null,
   "metadata": {},
   "outputs": [],
   "source": []
  },
  {
   "cell_type": "code",
   "execution_count": null,
   "metadata": {},
   "outputs": [],
   "source": []
  },
  {
   "cell_type": "code",
   "execution_count": null,
   "metadata": {},
   "outputs": [],
   "source": []
  }
 ],
 "metadata": {
  "hide_input": false,
  "kernelspec": {
   "display_name": "flows",
   "language": "python",
   "name": "flows"
  },
  "language_info": {
   "codemirror_mode": {
    "name": "ipython",
    "version": 3
   },
   "file_extension": ".py",
   "mimetype": "text/x-python",
   "name": "python",
   "nbconvert_exporter": "python",
   "pygments_lexer": "ipython3",
   "version": "3.8.5"
  },
  "toc": {
   "base_numbering": 1,
   "nav_menu": {},
   "number_sections": true,
   "sideBar": true,
   "skip_h1_title": false,
   "title_cell": "Table of Contents",
   "title_sidebar": "Contents",
   "toc_cell": false,
   "toc_position": {
    "height": "calc(100% - 180px)",
    "left": "10px",
    "top": "150px",
    "width": "202px"
   },
   "toc_section_display": true,
   "toc_window_display": true
  },
  "varInspector": {
   "cols": {
    "lenName": 16,
    "lenType": 16,
    "lenVar": 40
   },
   "kernels_config": {
    "python": {
     "delete_cmd_postfix": "",
     "delete_cmd_prefix": "del ",
     "library": "var_list.py",
     "varRefreshCmd": "print(var_dic_list())"
    },
    "r": {
     "delete_cmd_postfix": ") ",
     "delete_cmd_prefix": "rm(",
     "library": "var_list.r",
     "varRefreshCmd": "cat(var_dic_list()) "
    }
   },
   "types_to_exclude": [
    "module",
    "function",
    "builtin_function_or_method",
    "instance",
    "_Feature"
   ],
   "window_display": false
  }
 },
 "nbformat": 4,
 "nbformat_minor": 4
}
