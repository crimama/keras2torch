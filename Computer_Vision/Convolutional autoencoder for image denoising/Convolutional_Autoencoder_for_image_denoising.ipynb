{
 "cells": [
  {
   "cell_type": "markdown",
   "metadata": {},
   "source": [
    "# Convolutional Autoencoder for image denoising\n",
    "\n",
    "- reference\n",
    "    - https://keras.io/examples/vision/autoencoder/\n",
    "    - https://blog.keras.io/building-autoencoders-in-keras.html"
   ]
  },
  {
   "cell_type": "markdown",
   "metadata": {},
   "source": [
    "## Introduction\n",
    "\n",
    "This example demonstrates how to implement a deep convolutional autoencoder for image denoising, mapping noisy digits images from the MNIST dataset to clean digits images. This implementation is based on an original blog post titled Building Autoencoders in Keras by François Chollet.\n",
    "- https://blog.keras.io/building-autoencoders-in-keras.html"
   ]
  },
  {
   "cell_type": "code",
   "execution_count": 1,
   "metadata": {},
   "outputs": [],
   "source": [
    "import random\n",
    "import os\n",
    "\n",
    "import torch\n",
    "import torch.nn as nn\n",
    "import torchvision\n",
    "import torch.optim as optim\n",
    "\n",
    "import numpy as np\n",
    "import matplotlib.pyplot as plt\n",
    "\n",
    "\n",
    "def seed_everything(seed):\n",
    "    random.seed(seed)\n",
    "    os.environ['PYTHONHASHSEED'] = str(seed)\n",
    "    np.random.seed(seed)\n",
    "    torch.manual_seed(seed)\n",
    "    torch.cuda.manual_seed(seed)\n",
    "    torch.backends.cudnn.deterministic = True\n",
    "    torch.backends.cudnn.benchmark = True\n",
    "    \n",
    "seed_everything(0)"
   ]
  },
  {
   "cell_type": "markdown",
   "metadata": {},
   "source": [
    "## Setup"
   ]
  },
  {
   "cell_type": "code",
   "execution_count": 2,
   "metadata": {},
   "outputs": [],
   "source": [
    "def preprocess(array):\n",
    "    \"\"\"\n",
    "    Normalizes the supplied array and reshapes it into the appropriate format.\n",
    "    \"\"\"\n",
    "\n",
    "    array = array.astype(\"float32\") / 255.0\n",
    "    array = np.reshape(array, (len(array), 28, 28, 1))\n",
    "    return array\n",
    "\n",
    "\n",
    "def noise(array):\n",
    "    \"\"\"\n",
    "    Adds random noise to each image in the supplied array.\n",
    "    \"\"\"\n",
    "\n",
    "    noise_factor = 0.4\n",
    "    noisy_array = array + noise_factor * np.random.normal(\n",
    "        loc=0.0, scale=1.0, size=array.shape\n",
    "    )\n",
    "\n",
    "    return np.clip(noisy_array, 0.0, 1.0)\n",
    "\n",
    "\n",
    "def display(array1, array2):\n",
    "    \"\"\"\n",
    "    Displays ten random images from each one of the supplied arrays.\n",
    "    \"\"\"\n",
    "\n",
    "    n = 10\n",
    "\n",
    "#     indices = np.random.randint(len(array1), size=n)\n",
    "    indices = np.random.randint(10, size=n)\n",
    "    images1 = array1[indices, :]\n",
    "    images2 = array2[indices, :]\n",
    "\n",
    "    plt.figure(figsize=(20, 4))\n",
    "    for i, (image1, image2) in enumerate(zip(images1, images2)):\n",
    "        ax = plt.subplot(2, n, i + 1)\n",
    "        plt.imshow(image1.reshape(28, 28))\n",
    "        plt.gray()\n",
    "        ax.get_xaxis().set_visible(False)\n",
    "        ax.get_yaxis().set_visible(False)\n",
    "\n",
    "        ax = plt.subplot(2, n, i + 1 + n)\n",
    "        plt.imshow(image2.reshape(28, 28))\n",
    "        plt.gray()\n",
    "        ax.get_xaxis().set_visible(False)\n",
    "        ax.get_yaxis().set_visible(False)\n",
    "\n",
    "    plt.show()"
   ]
  },
  {
   "cell_type": "markdown",
   "metadata": {},
   "source": [
    "## Prepare the data"
   ]
  },
  {
   "cell_type": "code",
   "execution_count": 3,
   "metadata": {
    "scrolled": false
   },
   "outputs": [
    {
     "name": "stderr",
     "output_type": "stream",
     "text": [
      "/home/jeongseobkim/anaconda3/lib/python3.8/site-packages/torchvision/datasets/mnist.py:498: UserWarning: The given NumPy array is not writeable, and PyTorch does not support non-writeable tensors. This means you can write to the underlying (supposedly non-writeable) NumPy array using the tensor. You may want to copy the array to protect its data or make it writeable before converting it to a tensor. This type of warning will be suppressed for the rest of this program. (Triggered internally at  /pytorch/torch/csrc/utils/tensor_numpy.cpp:180.)\n",
      "  return torch.from_numpy(parsed.astype(m[2], copy=False)).view(*s)\n",
      "/home/jeongseobkim/anaconda3/lib/python3.8/site-packages/torchvision/datasets/mnist.py:62: UserWarning: train_data has been renamed data\n",
      "  warnings.warn(\"train_data has been renamed data\")\n",
      "/home/jeongseobkim/anaconda3/lib/python3.8/site-packages/torchvision/datasets/mnist.py:67: UserWarning: test_data has been renamed data\n",
      "  warnings.warn(\"test_data has been renamed data\")\n"
     ]
    },
    {
     "data": {
      "image/png": "[encoded data removed]",
      "text/plain": [
       "<Figure size 1440x288 with 20 Axes>"
      ]
     },
     "metadata": {
      "needs_background": "light"
     },
     "output_type": "display_data"
    }
   ],
   "source": [
    "# Since we only need images from the dataset to encode and decode, we\n",
    "# won't use the labels.\n",
    "mnist = torchvision.datasets.mnist.MNIST(root='mnist_data', download=True)\n",
    "train_data, test_data = mnist.train_data, mnist.test_data\n",
    "\n",
    "# Normalize and reshape the data\n",
    "train_data = preprocess(train_data.numpy())\n",
    "test_data = preprocess(test_data.numpy())\n",
    "\n",
    "# Create a copy of the data with added noise\n",
    "noisy_train_data = noise(train_data)\n",
    "noisy_test_data = noise(test_data)\n",
    "\n",
    "noisy_train_data = np.array(noisy_train_data, dtype='float32')\n",
    "noisy_test_data = np.array(noisy_test_data, dtype='float32')\n",
    "\n",
    "# Display the train data and a version of it with added noise\n",
    "display(train_data, noisy_train_data)"
   ]
  },
  {
   "cell_type": "markdown",
   "metadata": {},
   "source": [
    "## Build the autoencoder\n",
    "```\n",
    "_________________________________________________________________\n",
    "Layer (type)                 Output Shape              Param #   \n",
    "=================================================================\n",
    "input_1 (InputLayer)         [(None, 28, 28, 1)]       0         \n",
    "_________________________________________________________________\n",
    "conv2d (Conv2D)              (None, 28, 28, 32)        320       \n",
    "_________________________________________________________________\n",
    "max_pooling2d (MaxPooling2D) (None, 14, 14, 32)        0         \n",
    "_________________________________________________________________\n",
    "conv2d_1 (Conv2D)            (None, 14, 14, 32)        9248      \n",
    "_________________________________________________________________\n",
    "max_pooling2d_1 (MaxPooling2 (None, 7, 7, 32)          0         \n",
    "_________________________________________________________________\n",
    "conv2d_transpose (Conv2DTran (None, 14, 14, 32)        9248      \n",
    "_________________________________________________________________\n",
    "conv2d_transpose_1 (Conv2DTr (None, 28, 28, 32)        9248      \n",
    "_________________________________________________________________\n",
    "conv2d_2 (Conv2D)            (None, 28, 28, 1)         289       \n",
    "=================================================================\n",
    "Total params: 28,353\n",
    "Trainable params: 28,353\n",
    "Non-trainable params: 0\n",
    "_________________________________________________________________\n",
    "```"
   ]
  },
  {
   "cell_type": "code",
   "execution_count": 4,
   "metadata": {},
   "outputs": [],
   "source": [
    "class Conv_ae(nn.Module):\n",
    "    def __init__(self):\n",
    "        super().__init__()\n",
    "        self.encoder = nn.Sequential(\n",
    "            nn.Conv2d(in_channels=1, out_channels=32, kernel_size=3, stride=1, padding=1),\n",
    "            nn.ReLU(),\n",
    "            nn.MaxPool2d(kernel_size=2, stride=2, padding=0),\n",
    "            nn.Conv2d(in_channels=32, out_channels=32, kernel_size=3, stride=1, padding=1),\n",
    "            nn.ReLU(),\n",
    "            nn.MaxPool2d(kernel_size=2, stride=2, padding=0)\n",
    "        )\n",
    "        self.decoder = nn.Sequential(\n",
    "            nn.ConvTranspose2d(in_channels=32, out_channels=32, kernel_size=3, stride=2, padding=1, output_padding=1),\n",
    "            nn.ReLU(),\n",
    "            nn.ConvTranspose2d(in_channels=32, out_channels=32, kernel_size=3, stride=2, padding=1, output_padding=1),\n",
    "            nn.ReLU(),\n",
    "            nn.Conv2d(in_channels=32, out_channels=1, kernel_size=3, stride=1, padding=1),\n",
    "            nn.Sigmoid()\n",
    "        )\n",
    " \n",
    "    def forward(self,x):\n",
    "        out = self.encoder(x)\n",
    "        out = self.decoder(out)\n",
    "        return out"
   ]
  },
  {
   "cell_type": "code",
   "execution_count": 5,
   "metadata": {},
   "outputs": [
    {
     "data": {
      "text/plain": [
       "Conv_ae(\n",
       "  (encoder): Sequential(\n",
       "    (0): Conv2d(1, 32, kernel_size=(3, 3), stride=(1, 1), padding=(1, 1))\n",
       "    (1): ReLU()\n",
       "    (2): MaxPool2d(kernel_size=2, stride=2, padding=0, dilation=1, ceil_mode=False)\n",
       "    (3): Conv2d(32, 32, kernel_size=(3, 3), stride=(1, 1), padding=(1, 1))\n",
       "    (4): ReLU()\n",
       "    (5): MaxPool2d(kernel_size=2, stride=2, padding=0, dilation=1, ceil_mode=False)\n",
       "  )\n",
       "  (decoder): Sequential(\n",
       "    (0): ConvTranspose2d(32, 32, kernel_size=(3, 3), stride=(2, 2), padding=(1, 1), output_padding=(1, 1))\n",
       "    (1): ReLU()\n",
       "    (2): ConvTranspose2d(32, 32, kernel_size=(3, 3), stride=(2, 2), padding=(1, 1), output_padding=(1, 1))\n",
       "    (3): ReLU()\n",
       "    (4): Conv2d(32, 1, kernel_size=(3, 3), stride=(1, 1), padding=(1, 1))\n",
       "    (5): Sigmoid()\n",
       "  )\n",
       ")"
      ]
     },
     "execution_count": 5,
     "metadata": {},
     "output_type": "execute_result"
    }
   ],
   "source": [
    "from torchsummary import summary\n",
    "\n",
    "device = \"cuda:0\" if torch.cuda.is_available() else \"cpu\"\n",
    "\n",
    "model = Conv_ae()\n",
    "model.to(device)\n",
    "\n",
    "# summary(model, input_size=(1, 28, 28), device='cuda')"
   ]
  },
  {
   "cell_type": "markdown",
   "metadata": {},
   "source": [
    "**make dataset, dataloaer**"
   ]
  },
  {
   "cell_type": "code",
   "execution_count": 13,
   "metadata": {},
   "outputs": [],
   "source": [
    "from torch.utils.data import DataLoader\n",
    "\n",
    "if train_data.shape[1] != 1:\n",
    "    train_data = train_data.swapaxes(1,-1)\n",
    "    test_data = test_data.swapaxes(1,-1)\n",
    "\n",
    "train_dataloader = DataLoader(train_data, batch_size=128, shuffle=True)\n",
    "test_dataloader = DataLoader(test_data, batch_size=128, shuffle=True)"
   ]
  },
  {
   "cell_type": "markdown",
   "metadata": {},
   "source": [
    "**set env**"
   ]
  },
  {
   "cell_type": "code",
   "execution_count": 14,
   "metadata": {},
   "outputs": [],
   "source": [
    "criterion = nn.BCELoss()\n",
    "optimizer = optim.Adam(model.parameters())"
   ]
  },
  {
   "cell_type": "code",
   "execution_count": 15,
   "metadata": {
    "scrolled": false
   },
   "outputs": [
    {
     "name": "stderr",
     "output_type": "stream",
     "text": [
      "/home/jeongseobkim/anaconda3/lib/python3.8/site-packages/torch/nn/functional.py:718: UserWarning: Named tensors and all their associated APIs are an experimental feature and subject to change. Please do not use them for anything important until they are released as stable. (Triggered internally at  /pytorch/c10/core/TensorImpl.h:1156.)\n",
      "  return torch.max_pool2d(input, kernel_size, stride, padding, dilation, ceil_mode)\n"
     ]
    },
    {
     "name": "stdout",
     "output_type": "stream",
     "text": [
      "EPOCH 0 | LOSS : 0.14420 (0.07632)\n",
      "EPOCH 1 | LOSS : 0.07342 (0.07179)\n",
      "EPOCH 2 | LOSS : 0.07078 (0.07000)\n",
      "EPOCH 3 | LOSS : 0.06949 (0.06899)\n",
      "EPOCH 4 | LOSS : 0.06862 (0.06822)\n",
      "EPOCH 5 | LOSS : 0.06795 (0.06769)\n",
      "EPOCH 6 | LOSS : 0.06743 (0.06715)\n",
      "EPOCH 7 | LOSS : 0.06700 (0.06678)\n",
      "EPOCH 8 | LOSS : 0.06665 (0.06647)\n",
      "EPOCH 9 | LOSS : 0.06635 (0.06617)\n",
      "EPOCH 10 | LOSS : 0.06609 (0.06591)\n",
      "EPOCH 11 | LOSS : 0.06585 (0.06572)\n",
      "EPOCH 12 | LOSS : 0.06566 (0.06557)\n",
      "EPOCH 13 | LOSS : 0.06547 (0.06544)\n",
      "EPOCH 14 | LOSS : 0.06532 (0.06534)\n",
      "EPOCH 15 | LOSS : 0.06516 (0.06507)\n",
      "EPOCH 16 | LOSS : 0.06502 (0.06497)\n",
      "EPOCH 17 | LOSS : 0.06490 (0.06483)\n",
      "EPOCH 18 | LOSS : 0.06477 (0.06468)\n",
      "EPOCH 19 | LOSS : 0.06466 (0.06458)\n",
      "EPOCH 20 | LOSS : 0.06457 (0.06455)\n",
      "EPOCH 21 | LOSS : 0.06448 (0.06442)\n",
      "EPOCH 22 | LOSS : 0.06438 (0.06431)\n",
      "EPOCH 23 | LOSS : 0.06430 (0.06425)\n",
      "EPOCH 24 | LOSS : 0.06423 (0.06418)\n",
      "EPOCH 25 | LOSS : 0.06415 (0.06408)\n",
      "EPOCH 26 | LOSS : 0.06409 (0.06409)\n",
      "EPOCH 27 | LOSS : 0.06403 (0.06408)\n",
      "EPOCH 28 | LOSS : 0.06397 (0.06394)\n",
      "EPOCH 29 | LOSS : 0.06392 (0.06385)\n",
      "EPOCH 30 | LOSS : 0.06388 (0.06381)\n",
      "EPOCH 31 | LOSS : 0.06381 (0.06385)\n",
      "EPOCH 32 | LOSS : 0.06378 (0.06379)\n",
      "EPOCH 33 | LOSS : 0.06374 (0.06366)\n",
      "EPOCH 34 | LOSS : 0.06369 (0.06378)\n",
      "EPOCH 35 | LOSS : 0.06365 (0.06376)\n",
      "EPOCH 36 | LOSS : 0.06363 (0.06358)\n",
      "EPOCH 37 | LOSS : 0.06357 (0.06358)\n",
      "EPOCH 38 | LOSS : 0.06354 (0.06350)\n",
      "EPOCH 39 | LOSS : 0.06352 (0.06355)\n",
      "EPOCH 40 | LOSS : 0.06348 (0.06346)\n",
      "EPOCH 41 | LOSS : 0.06345 (0.06343)\n",
      "EPOCH 42 | LOSS : 0.06342 (0.06336)\n",
      "EPOCH 43 | LOSS : 0.06339 (0.06339)\n",
      "EPOCH 44 | LOSS : 0.06336 (0.06332)\n",
      "EPOCH 45 | LOSS : 0.06333 (0.06348)\n",
      "EPOCH 46 | LOSS : 0.06331 (0.06325)\n",
      "EPOCH 47 | LOSS : 0.06328 (0.06323)\n",
      "EPOCH 48 | LOSS : 0.06325 (0.06325)\n",
      "EPOCH 49 | LOSS : 0.06323 (0.06322)\n"
     ]
    }
   ],
   "source": [
    "n_epochs = 50\n",
    "model.to(device)\n",
    "\n",
    "for epoch in range(n_epochs):\n",
    "    \n",
    "    train_loss, val_loss = 0,0\n",
    "    \n",
    "    model.train()\n",
    "    for train_data in train_dataloader:\n",
    "        \n",
    "        optimizer.zero_grad()\n",
    "        \n",
    "        x = train_data.to(device)\n",
    "        y = train_data.to(device)\n",
    "        \n",
    "        pred = model(x)\n",
    "        loss = criterion(pred, y)\n",
    "        \n",
    "        loss.backward()\n",
    "        optimizer.step()\n",
    "        \n",
    "        train_loss += float(loss)\n",
    "        \n",
    "    model.eval()\n",
    "    with torch.no_grad():\n",
    "        for val_data in test_dataloader:\n",
    "            \n",
    "            x_val, y_val = val_data.to(device), val_data.to(device)\n",
    "            \n",
    "            pred_val = model(x_val)\n",
    "            loss_val = criterion(pred_val, y_val)\n",
    "            \n",
    "            val_loss += float(loss_val)\n",
    "            \n",
    "    train_loss_ep = float(train_loss/len(train_dataloader))\n",
    "    val_loss_ep = float(val_loss/len(test_dataloader))\n",
    "    \n",
    "    print(f\"EPOCH {epoch} | LOSS : {train_loss_ep:.5f} ({val_loss_ep:.5f})\")\n",
    "        "
   ]
  },
  {
   "cell_type": "code",
   "execution_count": 6,
   "metadata": {},
   "outputs": [],
   "source": [
    "# save model(clean image reconstruction)\n",
    "\n",
    "# torch.save(model, \"model_clean_recon.pth\")\n",
    "del model\n",
    "conv_ae = torch.load(\"model_clean_recon.pth\")"
   ]
  },
  {
   "cell_type": "code",
   "execution_count": 17,
   "metadata": {},
   "outputs": [],
   "source": [
    "pred_test = None\n",
    "\n",
    "for test_data in test_dataloader:\n",
    "    \n",
    "    conv_ae.eval()\n",
    "    with torch.no_grad():\n",
    "        pred_test = conv_ae(test_data.to(device))"
   ]
  },
  {
   "cell_type": "code",
   "execution_count": 18,
   "metadata": {
    "scrolled": true
   },
   "outputs": [
    {
     "data": {
      "image/png": "[encoded data removed]",
      "text/plain": [
       "<Figure size 1440x288 with 20 Axes>"
      ]
     },
     "metadata": {
      "needs_background": "light"
     },
     "output_type": "display_data"
    }
   ],
   "source": [
    "display(test_data, pred_test.detach().to(\"cpu\"))"
   ]
  },
  {
   "cell_type": "markdown",
   "metadata": {},
   "source": [
    "## Noisy to clean"
   ]
  },
  {
   "cell_type": "code",
   "execution_count": 7,
   "metadata": {},
   "outputs": [],
   "source": [
    "from torch.utils.data import DataLoader, Dataset, TensorDataset\n",
    "\n",
    "# Since we only need images from the dataset to encode and decode, we\n",
    "# won't use the labels.\n",
    "mnist = torchvision.datasets.mnist.MNIST(root='mnist_data', download=True)\n",
    "train_data, test_data = mnist.train_data, mnist.test_data\n",
    "\n",
    "# Normalize and reshape the data\n",
    "train_data = preprocess(train_data.numpy())\n",
    "test_data = preprocess(test_data.numpy())\n",
    "\n",
    "# Create a copy of the data with added noise\n",
    "noisy_train_data = np.array(noise(train_data), dtype='float32')\n",
    "noisy_test_data = np.array(noise(test_data), dtype='float32')\n",
    "\n",
    "if noisy_train_data.shape[1] != 1:\n",
    "    noisy_train_data = noisy_train_data.swapaxes(1,-1)\n",
    "    noisy_test_data = noisy_test_data.swapaxes(1,-1)\n",
    "\n",
    "if train_data.shape[1] != 1:\n",
    "    train_data = train_data.swapaxes(1,-1)\n",
    "    test_data = test_data.swapaxes(1,-1)\n",
    "\n",
    "noisy_train_set = TensorDataset(torch.from_numpy(noisy_train_data), torch.from_numpy(train_data))\n",
    "noisy_test_set = TensorDataset(torch.from_numpy(noisy_test_data), torch.from_numpy(test_data))\n",
    "\n",
    "noisy_train_dataloader = DataLoader(noisy_train_set, batch_size=128, shuffle=False)\n",
    "noisy_test_dataloader = DataLoader(noisy_test_set, batch_size=128, shuffle=False)"
   ]
  },
  {
   "cell_type": "code",
   "execution_count": 8,
   "metadata": {},
   "outputs": [],
   "source": [
    "criterion = nn.BCELoss()\n",
    "optimizer = optim.Adam(conv_ae.parameters())"
   ]
  },
  {
   "cell_type": "code",
   "execution_count": 10,
   "metadata": {},
   "outputs": [
    {
     "name": "stdout",
     "output_type": "stream",
     "text": [
      "EPOCH 0 | LOSS : 0.09433 (0.09361)\n",
      "EPOCH 1 | LOSS : 0.09262 (0.09239)\n",
      "EPOCH 2 | LOSS : 0.09161 (0.09150)\n",
      "EPOCH 3 | LOSS : 0.09091 (0.09081)\n",
      "EPOCH 4 | LOSS : 0.09037 (0.09027)\n",
      "EPOCH 5 | LOSS : 0.08995 (0.08987)\n",
      "EPOCH 6 | LOSS : 0.08959 (0.08953)\n",
      "EPOCH 7 | LOSS : 0.08928 (0.08923)\n",
      "EPOCH 8 | LOSS : 0.08901 (0.08897)\n",
      "EPOCH 9 | LOSS : 0.08878 (0.08875)\n",
      "EPOCH 10 | LOSS : 0.08858 (0.08856)\n",
      "EPOCH 11 | LOSS : 0.08839 (0.08839)\n",
      "EPOCH 12 | LOSS : 0.08823 (0.08823)\n",
      "EPOCH 13 | LOSS : 0.08808 (0.08810)\n",
      "EPOCH 14 | LOSS : 0.08793 (0.08798)\n",
      "EPOCH 15 | LOSS : 0.08781 (0.08788)\n",
      "EPOCH 16 | LOSS : 0.08769 (0.08780)\n",
      "EPOCH 17 | LOSS : 0.08758 (0.08775)\n",
      "EPOCH 18 | LOSS : 0.08748 (0.08766)\n",
      "EPOCH 19 | LOSS : 0.08739 (0.08759)\n",
      "EPOCH 20 | LOSS : 0.08730 (0.08753)\n",
      "EPOCH 21 | LOSS : 0.08722 (0.08746)\n",
      "EPOCH 22 | LOSS : 0.08715 (0.08739)\n",
      "EPOCH 23 | LOSS : 0.08708 (0.08731)\n",
      "EPOCH 24 | LOSS : 0.08701 (0.08724)\n",
      "EPOCH 25 | LOSS : 0.08695 (0.08715)\n",
      "EPOCH 26 | LOSS : 0.08689 (0.08708)\n",
      "EPOCH 27 | LOSS : 0.08684 (0.08701)\n",
      "EPOCH 28 | LOSS : 0.08678 (0.08695)\n",
      "EPOCH 29 | LOSS : 0.08673 (0.08690)\n",
      "EPOCH 30 | LOSS : 0.08668 (0.08685)\n",
      "EPOCH 31 | LOSS : 0.08663 (0.08679)\n",
      "EPOCH 32 | LOSS : 0.08659 (0.08675)\n",
      "EPOCH 33 | LOSS : 0.08654 (0.08670)\n",
      "EPOCH 34 | LOSS : 0.08650 (0.08666)\n",
      "EPOCH 35 | LOSS : 0.08646 (0.08662)\n",
      "EPOCH 36 | LOSS : 0.08642 (0.08658)\n",
      "EPOCH 37 | LOSS : 0.08638 (0.08654)\n",
      "EPOCH 38 | LOSS : 0.08635 (0.08650)\n",
      "EPOCH 39 | LOSS : 0.08631 (0.08646)\n",
      "EPOCH 40 | LOSS : 0.08627 (0.08643)\n",
      "EPOCH 41 | LOSS : 0.08624 (0.08640)\n",
      "EPOCH 42 | LOSS : 0.08621 (0.08637)\n",
      "EPOCH 43 | LOSS : 0.08618 (0.08634)\n",
      "EPOCH 44 | LOSS : 0.08616 (0.08631)\n",
      "EPOCH 45 | LOSS : 0.08613 (0.08628)\n",
      "EPOCH 46 | LOSS : 0.08610 (0.08625)\n",
      "EPOCH 47 | LOSS : 0.08608 (0.08623)\n",
      "EPOCH 48 | LOSS : 0.08605 (0.08621)\n",
      "EPOCH 49 | LOSS : 0.08603 (0.08619)\n",
      "EPOCH 50 | LOSS : 0.08601 (0.08616)\n",
      "EPOCH 51 | LOSS : 0.08598 (0.08614)\n",
      "EPOCH 52 | LOSS : 0.08596 (0.08612)\n",
      "EPOCH 53 | LOSS : 0.08594 (0.08609)\n",
      "EPOCH 54 | LOSS : 0.08592 (0.08608)\n",
      "EPOCH 55 | LOSS : 0.08590 (0.08606)\n",
      "EPOCH 56 | LOSS : 0.08588 (0.08604)\n",
      "EPOCH 57 | LOSS : 0.08586 (0.08602)\n",
      "EPOCH 58 | LOSS : 0.08584 (0.08601)\n",
      "EPOCH 59 | LOSS : 0.08583 (0.08599)\n",
      "EPOCH 60 | LOSS : 0.08581 (0.08598)\n",
      "EPOCH 61 | LOSS : 0.08579 (0.08596)\n",
      "EPOCH 62 | LOSS : 0.08578 (0.08595)\n",
      "EPOCH 63 | LOSS : 0.08576 (0.08594)\n",
      "EPOCH 64 | LOSS : 0.08575 (0.08593)\n",
      "EPOCH 65 | LOSS : 0.08573 (0.08591)\n",
      "EPOCH 66 | LOSS : 0.08572 (0.08590)\n",
      "EPOCH 67 | LOSS : 0.08570 (0.08589)\n",
      "EPOCH 68 | LOSS : 0.08569 (0.08588)\n",
      "EPOCH 69 | LOSS : 0.08568 (0.08587)\n",
      "EPOCH 70 | LOSS : 0.08566 (0.08586)\n",
      "EPOCH 71 | LOSS : 0.08565 (0.08586)\n",
      "EPOCH 72 | LOSS : 0.08564 (0.08585)\n",
      "EPOCH 73 | LOSS : 0.08563 (0.08584)\n",
      "EPOCH 74 | LOSS : 0.08561 (0.08583)\n",
      "EPOCH 75 | LOSS : 0.08560 (0.08582)\n",
      "EPOCH 76 | LOSS : 0.08559 (0.08581)\n",
      "EPOCH 77 | LOSS : 0.08558 (0.08580)\n",
      "EPOCH 78 | LOSS : 0.08557 (0.08579)\n",
      "EPOCH 79 | LOSS : 0.08556 (0.08578)\n",
      "EPOCH 80 | LOSS : 0.08555 (0.08578)\n",
      "EPOCH 81 | LOSS : 0.08554 (0.08577)\n",
      "EPOCH 82 | LOSS : 0.08553 (0.08577)\n",
      "EPOCH 83 | LOSS : 0.08552 (0.08577)\n",
      "EPOCH 84 | LOSS : 0.08551 (0.08576)\n",
      "EPOCH 85 | LOSS : 0.08550 (0.08576)\n",
      "EPOCH 86 | LOSS : 0.08549 (0.08575)\n",
      "EPOCH 87 | LOSS : 0.08548 (0.08574)\n",
      "EPOCH 88 | LOSS : 0.08547 (0.08573)\n",
      "EPOCH 89 | LOSS : 0.08546 (0.08573)\n",
      "EPOCH 90 | LOSS : 0.08545 (0.08573)\n",
      "EPOCH 91 | LOSS : 0.08544 (0.08572)\n",
      "EPOCH 92 | LOSS : 0.08544 (0.08572)\n",
      "EPOCH 93 | LOSS : 0.08543 (0.08571)\n",
      "EPOCH 94 | LOSS : 0.08542 (0.08571)\n",
      "EPOCH 95 | LOSS : 0.08541 (0.08570)\n",
      "EPOCH 96 | LOSS : 0.08540 (0.08569)\n",
      "EPOCH 97 | LOSS : 0.08540 (0.08568)\n",
      "EPOCH 98 | LOSS : 0.08539 (0.08567)\n",
      "EPOCH 99 | LOSS : 0.08538 (0.08567)\n"
     ]
    }
   ],
   "source": [
    "n_epochs = 100\n",
    "conv_ae.to(device)\n",
    "\n",
    "for epoch in range(n_epochs):\n",
    "    \n",
    "    train_loss, val_loss = 0,0\n",
    "    \n",
    "    conv_ae.train()\n",
    "    for x, y in noisy_train_dataloader:\n",
    "        \n",
    "        optimizer.zero_grad()\n",
    "        \n",
    "        x = x.to(device)\n",
    "        y = y.to(device)\n",
    "        \n",
    "        pred = conv_ae(x)\n",
    "        loss = criterion(pred, y)\n",
    "        \n",
    "        loss.backward()\n",
    "        optimizer.step()\n",
    "        \n",
    "        train_loss += float(loss)\n",
    "        \n",
    "        del x, y\n",
    "        torch.cuda.empty_cache()\n",
    "        \n",
    "    conv_ae.eval()\n",
    "    with torch.no_grad():\n",
    "        for x_val, y_val in noisy_test_dataloader:\n",
    "            \n",
    "            x_val, y_val = x_val.to(device), y_val.to(device)\n",
    "            \n",
    "            pred_val = conv_ae(x_val)\n",
    "            loss_val = criterion(pred_val, y_val)\n",
    "            \n",
    "            val_loss += float(loss_val)\n",
    "            \n",
    "            del x_val, y_val\n",
    "            torch.cuda.empty_cache()\n",
    "            \n",
    "    train_loss_ep = float(train_loss/len(noisy_train_dataloader))\n",
    "    val_loss_ep = float(val_loss/len(noisy_test_dataloader))\n",
    "    \n",
    "    print(f\"EPOCH {epoch} | LOSS : {train_loss_ep:.5f} ({val_loss_ep:.5f})\")\n",
    "        "
   ]
  },
  {
   "cell_type": "code",
   "execution_count": 11,
   "metadata": {},
   "outputs": [],
   "source": [
    "# save model(noisy to clean : denoising)\n",
    "\n",
    "torch.save(conv_ae, \"model_denoising.pth\")\n",
    "# conv_ae_denoise = torch.load(\"model_denoising.pth\")"
   ]
  },
  {
   "cell_type": "code",
   "execution_count": 12,
   "metadata": {},
   "outputs": [],
   "source": [
    "pred_test = None\n",
    "x_test = None\n",
    "\n",
    "for noisy, clean in noisy_test_dataloader:\n",
    "    \n",
    "    conv_ae.eval()\n",
    "    with torch.no_grad():\n",
    "        x_test = noisy\n",
    "        pred_test = conv_ae(noisy.to(device))"
   ]
  },
  {
   "cell_type": "code",
   "execution_count": 13,
   "metadata": {},
   "outputs": [
    {
     "data": {
      "image/png": "[encoded data removed]",
      "text/plain": [
       "<Figure size 1440x288 with 20 Axes>"
      ]
     },
     "metadata": {
      "needs_background": "light"
     },
     "output_type": "display_data"
    }
   ],
   "source": [
    "display(x_test.detach().to(\"cpu\"), pred_test.detach().to(\"cpu\"))"
   ]
  }
 ],
 "metadata": {
  "kernelspec": {
   "display_name": "Python 3",
   "language": "python",
   "name": "python3"
  },
  "language_info": {
   "codemirror_mode": {
    "name": "ipython",
    "version": 3
   },
   "file_extension": ".py",
   "mimetype": "text/x-python",
   "name": "python",
   "nbconvert_exporter": "python",
   "pygments_lexer": "ipython3",
   "version": "3.8.5"
  }
 },
 "nbformat": 4,
 "nbformat_minor": 4
}
